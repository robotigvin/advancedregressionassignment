{
 "cells": [
  {
   "cell_type": "code",
   "execution_count": 350,
   "id": "258325bd",
   "metadata": {},
   "outputs": [],
   "source": [
    "#Let us start by importing the libraries that we deem important as of now. I'm sure that as we proceed, we will find the need to\n",
    "# import some more libraries\n",
    "import numpy as np\n",
    "import pandas as pd\n",
    "import matplotlib.pyplot as plt\n",
    "import seaborn as sns\n",
    "from sklearn.linear_model import LinearRegression, Ridge, Lasso\n",
    "from sklearn.metrics import r2_score, mean_squared_error\n",
    "from sklearn.preprocessing import PolynomialFeatures, MinMaxScaler\n",
    "\n",
    "import warnings\n",
    "warnings.filterwarnings('ignore')"
   ]
  },
  {
   "cell_type": "code",
   "execution_count": 351,
   "id": "d868dac2",
   "metadata": {},
   "outputs": [
    {
     "data": {
      "text/html": [
       "<div>\n",
       "<style scoped>\n",
       "    .dataframe tbody tr th:only-of-type {\n",
       "        vertical-align: middle;\n",
       "    }\n",
       "\n",
       "    .dataframe tbody tr th {\n",
       "        vertical-align: top;\n",
       "    }\n",
       "\n",
       "    .dataframe thead th {\n",
       "        text-align: right;\n",
       "    }\n",
       "</style>\n",
       "<table border=\"1\" class=\"dataframe\">\n",
       "  <thead>\n",
       "    <tr style=\"text-align: right;\">\n",
       "      <th></th>\n",
       "      <th>Id</th>\n",
       "      <th>MSSubClass</th>\n",
       "      <th>MSZoning</th>\n",
       "      <th>LotFrontage</th>\n",
       "      <th>LotArea</th>\n",
       "      <th>Street</th>\n",
       "      <th>Alley</th>\n",
       "      <th>LotShape</th>\n",
       "      <th>LandContour</th>\n",
       "      <th>Utilities</th>\n",
       "      <th>...</th>\n",
       "      <th>PoolArea</th>\n",
       "      <th>PoolQC</th>\n",
       "      <th>Fence</th>\n",
       "      <th>MiscFeature</th>\n",
       "      <th>MiscVal</th>\n",
       "      <th>MoSold</th>\n",
       "      <th>YrSold</th>\n",
       "      <th>SaleType</th>\n",
       "      <th>SaleCondition</th>\n",
       "      <th>SalePrice</th>\n",
       "    </tr>\n",
       "  </thead>\n",
       "  <tbody>\n",
       "    <tr>\n",
       "      <th>0</th>\n",
       "      <td>1</td>\n",
       "      <td>60</td>\n",
       "      <td>RL</td>\n",
       "      <td>65.0</td>\n",
       "      <td>8450</td>\n",
       "      <td>Pave</td>\n",
       "      <td>NaN</td>\n",
       "      <td>Reg</td>\n",
       "      <td>Lvl</td>\n",
       "      <td>AllPub</td>\n",
       "      <td>...</td>\n",
       "      <td>0</td>\n",
       "      <td>NaN</td>\n",
       "      <td>NaN</td>\n",
       "      <td>NaN</td>\n",
       "      <td>0</td>\n",
       "      <td>2</td>\n",
       "      <td>2008</td>\n",
       "      <td>WD</td>\n",
       "      <td>Normal</td>\n",
       "      <td>208500</td>\n",
       "    </tr>\n",
       "    <tr>\n",
       "      <th>1</th>\n",
       "      <td>2</td>\n",
       "      <td>20</td>\n",
       "      <td>RL</td>\n",
       "      <td>80.0</td>\n",
       "      <td>9600</td>\n",
       "      <td>Pave</td>\n",
       "      <td>NaN</td>\n",
       "      <td>Reg</td>\n",
       "      <td>Lvl</td>\n",
       "      <td>AllPub</td>\n",
       "      <td>...</td>\n",
       "      <td>0</td>\n",
       "      <td>NaN</td>\n",
       "      <td>NaN</td>\n",
       "      <td>NaN</td>\n",
       "      <td>0</td>\n",
       "      <td>5</td>\n",
       "      <td>2007</td>\n",
       "      <td>WD</td>\n",
       "      <td>Normal</td>\n",
       "      <td>181500</td>\n",
       "    </tr>\n",
       "    <tr>\n",
       "      <th>2</th>\n",
       "      <td>3</td>\n",
       "      <td>60</td>\n",
       "      <td>RL</td>\n",
       "      <td>68.0</td>\n",
       "      <td>11250</td>\n",
       "      <td>Pave</td>\n",
       "      <td>NaN</td>\n",
       "      <td>IR1</td>\n",
       "      <td>Lvl</td>\n",
       "      <td>AllPub</td>\n",
       "      <td>...</td>\n",
       "      <td>0</td>\n",
       "      <td>NaN</td>\n",
       "      <td>NaN</td>\n",
       "      <td>NaN</td>\n",
       "      <td>0</td>\n",
       "      <td>9</td>\n",
       "      <td>2008</td>\n",
       "      <td>WD</td>\n",
       "      <td>Normal</td>\n",
       "      <td>223500</td>\n",
       "    </tr>\n",
       "    <tr>\n",
       "      <th>3</th>\n",
       "      <td>4</td>\n",
       "      <td>70</td>\n",
       "      <td>RL</td>\n",
       "      <td>60.0</td>\n",
       "      <td>9550</td>\n",
       "      <td>Pave</td>\n",
       "      <td>NaN</td>\n",
       "      <td>IR1</td>\n",
       "      <td>Lvl</td>\n",
       "      <td>AllPub</td>\n",
       "      <td>...</td>\n",
       "      <td>0</td>\n",
       "      <td>NaN</td>\n",
       "      <td>NaN</td>\n",
       "      <td>NaN</td>\n",
       "      <td>0</td>\n",
       "      <td>2</td>\n",
       "      <td>2006</td>\n",
       "      <td>WD</td>\n",
       "      <td>Abnorml</td>\n",
       "      <td>140000</td>\n",
       "    </tr>\n",
       "    <tr>\n",
       "      <th>4</th>\n",
       "      <td>5</td>\n",
       "      <td>60</td>\n",
       "      <td>RL</td>\n",
       "      <td>84.0</td>\n",
       "      <td>14260</td>\n",
       "      <td>Pave</td>\n",
       "      <td>NaN</td>\n",
       "      <td>IR1</td>\n",
       "      <td>Lvl</td>\n",
       "      <td>AllPub</td>\n",
       "      <td>...</td>\n",
       "      <td>0</td>\n",
       "      <td>NaN</td>\n",
       "      <td>NaN</td>\n",
       "      <td>NaN</td>\n",
       "      <td>0</td>\n",
       "      <td>12</td>\n",
       "      <td>2008</td>\n",
       "      <td>WD</td>\n",
       "      <td>Normal</td>\n",
       "      <td>250000</td>\n",
       "    </tr>\n",
       "  </tbody>\n",
       "</table>\n",
       "<p>5 rows × 81 columns</p>\n",
       "</div>"
      ],
      "text/plain": [
       "   Id  MSSubClass MSZoning  LotFrontage  LotArea Street Alley LotShape  \\\n",
       "0   1          60       RL         65.0     8450   Pave   NaN      Reg   \n",
       "1   2          20       RL         80.0     9600   Pave   NaN      Reg   \n",
       "2   3          60       RL         68.0    11250   Pave   NaN      IR1   \n",
       "3   4          70       RL         60.0     9550   Pave   NaN      IR1   \n",
       "4   5          60       RL         84.0    14260   Pave   NaN      IR1   \n",
       "\n",
       "  LandContour Utilities  ... PoolArea PoolQC Fence MiscFeature MiscVal MoSold  \\\n",
       "0         Lvl    AllPub  ...        0    NaN   NaN         NaN       0      2   \n",
       "1         Lvl    AllPub  ...        0    NaN   NaN         NaN       0      5   \n",
       "2         Lvl    AllPub  ...        0    NaN   NaN         NaN       0      9   \n",
       "3         Lvl    AllPub  ...        0    NaN   NaN         NaN       0      2   \n",
       "4         Lvl    AllPub  ...        0    NaN   NaN         NaN       0     12   \n",
       "\n",
       "  YrSold  SaleType  SaleCondition  SalePrice  \n",
       "0   2008        WD         Normal     208500  \n",
       "1   2007        WD         Normal     181500  \n",
       "2   2008        WD         Normal     223500  \n",
       "3   2006        WD        Abnorml     140000  \n",
       "4   2008        WD         Normal     250000  \n",
       "\n",
       "[5 rows x 81 columns]"
      ]
     },
     "execution_count": 351,
     "metadata": {},
     "output_type": "execute_result"
    }
   ],
   "source": [
    "#read the input dataset\n",
    "alldata = pd.read_csv(r'C:\\Users\\vinay\\OneDrive\\Documents\\Upgrad\\Downloads\\train.csv')\n",
    "alldata.head()"
   ]
  },
  {
   "cell_type": "markdown",
   "id": "b8710792",
   "metadata": {},
   "source": []
  },
  {
   "cell_type": "code",
   "execution_count": 352,
   "id": "68389416",
   "metadata": {},
   "outputs": [
    {
     "name": "stdout",
     "output_type": "stream",
     "text": [
      "<class 'pandas.core.frame.DataFrame'>\n",
      "RangeIndex: 1460 entries, 0 to 1459\n",
      "Data columns (total 81 columns):\n",
      " #   Column         Non-Null Count  Dtype  \n",
      "---  ------         --------------  -----  \n",
      " 0   Id             1460 non-null   int64  \n",
      " 1   MSSubClass     1460 non-null   int64  \n",
      " 2   MSZoning       1460 non-null   object \n",
      " 3   LotFrontage    1201 non-null   float64\n",
      " 4   LotArea        1460 non-null   int64  \n",
      " 5   Street         1460 non-null   object \n",
      " 6   Alley          91 non-null     object \n",
      " 7   LotShape       1460 non-null   object \n",
      " 8   LandContour    1460 non-null   object \n",
      " 9   Utilities      1460 non-null   object \n",
      " 10  LotConfig      1460 non-null   object \n",
      " 11  LandSlope      1460 non-null   object \n",
      " 12  Neighborhood   1460 non-null   object \n",
      " 13  Condition1     1460 non-null   object \n",
      " 14  Condition2     1460 non-null   object \n",
      " 15  BldgType       1460 non-null   object \n",
      " 16  HouseStyle     1460 non-null   object \n",
      " 17  OverallQual    1460 non-null   int64  \n",
      " 18  OverallCond    1460 non-null   int64  \n",
      " 19  YearBuilt      1460 non-null   int64  \n",
      " 20  YearRemodAdd   1460 non-null   int64  \n",
      " 21  RoofStyle      1460 non-null   object \n",
      " 22  RoofMatl       1460 non-null   object \n",
      " 23  Exterior1st    1460 non-null   object \n",
      " 24  Exterior2nd    1460 non-null   object \n",
      " 25  MasVnrType     1452 non-null   object \n",
      " 26  MasVnrArea     1452 non-null   float64\n",
      " 27  ExterQual      1460 non-null   object \n",
      " 28  ExterCond      1460 non-null   object \n",
      " 29  Foundation     1460 non-null   object \n",
      " 30  BsmtQual       1423 non-null   object \n",
      " 31  BsmtCond       1423 non-null   object \n",
      " 32  BsmtExposure   1422 non-null   object \n",
      " 33  BsmtFinType1   1423 non-null   object \n",
      " 34  BsmtFinSF1     1460 non-null   int64  \n",
      " 35  BsmtFinType2   1422 non-null   object \n",
      " 36  BsmtFinSF2     1460 non-null   int64  \n",
      " 37  BsmtUnfSF      1460 non-null   int64  \n",
      " 38  TotalBsmtSF    1460 non-null   int64  \n",
      " 39  Heating        1460 non-null   object \n",
      " 40  HeatingQC      1460 non-null   object \n",
      " 41  CentralAir     1460 non-null   object \n",
      " 42  Electrical     1459 non-null   object \n",
      " 43  1stFlrSF       1460 non-null   int64  \n",
      " 44  2ndFlrSF       1460 non-null   int64  \n",
      " 45  LowQualFinSF   1460 non-null   int64  \n",
      " 46  GrLivArea      1460 non-null   int64  \n",
      " 47  BsmtFullBath   1460 non-null   int64  \n",
      " 48  BsmtHalfBath   1460 non-null   int64  \n",
      " 49  FullBath       1460 non-null   int64  \n",
      " 50  HalfBath       1460 non-null   int64  \n",
      " 51  BedroomAbvGr   1460 non-null   int64  \n",
      " 52  KitchenAbvGr   1460 non-null   int64  \n",
      " 53  KitchenQual    1460 non-null   object \n",
      " 54  TotRmsAbvGrd   1460 non-null   int64  \n",
      " 55  Functional     1460 non-null   object \n",
      " 56  Fireplaces     1460 non-null   int64  \n",
      " 57  FireplaceQu    770 non-null    object \n",
      " 58  GarageType     1379 non-null   object \n",
      " 59  GarageYrBlt    1379 non-null   float64\n",
      " 60  GarageFinish   1379 non-null   object \n",
      " 61  GarageCars     1460 non-null   int64  \n",
      " 62  GarageArea     1460 non-null   int64  \n",
      " 63  GarageQual     1379 non-null   object \n",
      " 64  GarageCond     1379 non-null   object \n",
      " 65  PavedDrive     1460 non-null   object \n",
      " 66  WoodDeckSF     1460 non-null   int64  \n",
      " 67  OpenPorchSF    1460 non-null   int64  \n",
      " 68  EnclosedPorch  1460 non-null   int64  \n",
      " 69  3SsnPorch      1460 non-null   int64  \n",
      " 70  ScreenPorch    1460 non-null   int64  \n",
      " 71  PoolArea       1460 non-null   int64  \n",
      " 72  PoolQC         7 non-null      object \n",
      " 73  Fence          281 non-null    object \n",
      " 74  MiscFeature    54 non-null     object \n",
      " 75  MiscVal        1460 non-null   int64  \n",
      " 76  MoSold         1460 non-null   int64  \n",
      " 77  YrSold         1460 non-null   int64  \n",
      " 78  SaleType       1460 non-null   object \n",
      " 79  SaleCondition  1460 non-null   object \n",
      " 80  SalePrice      1460 non-null   int64  \n",
      "dtypes: float64(3), int64(35), object(43)\n",
      "memory usage: 924.0+ KB\n"
     ]
    }
   ],
   "source": [
    "alldata.info()"
   ]
  },
  {
   "cell_type": "markdown",
   "id": "5f4fde43",
   "metadata": {},
   "source": [
    "We have a total of 81 columns of either numeric or categorical type. We will, of course, by default, consider all the numeric fields for evaluation, but we also need to check if there are any categorical fields that we can reasonably convert to numeric type. <br>\n",
    "For eg., <b>HouseStyle: </b> We can convert each value to numeric as they can be mapped ordinally on category. For eg., desirability-wise 1Story < 1.5Unf < 1.5Fin < 2Story and so on. SFoyer and SLvl, althogh mentioned in the dictionary, are not present in the dataset itself. Therfore these values can be ignored"
   ]
  },
  {
   "cell_type": "code",
   "execution_count": null,
   "id": "061be0f9",
   "metadata": {},
   "outputs": [],
   "source": []
  },
  {
   "cell_type": "markdown",
   "id": "8fd27b6c",
   "metadata": {},
   "source": []
  },
  {
   "cell_type": "markdown",
   "id": "2fb745c2",
   "metadata": {},
   "source": [
    "<b>Let us check the viability of the fields. </b>\n",
    "<br>What are the explicitly numeric fields that we can readily use in Linear Regression? Can some of the categorical fields be organically converted to Numeric? Are there any null values that we should treat?\n"
   ]
  },
  {
   "cell_type": "markdown",
   "id": "ee0921b0",
   "metadata": {},
   "source": [
    "<b>N</b> = Numeric, <b>C</b> = Categorical, <b>CN</b> = Categorical but can be reasonably converted to numeric\n",
    "<br>\n",
    "<br>\n",
    "<b>MSSubclass:</b> Can be left out as it's a combination of several categorical and numberic fields that are separately present in the dataset anyway\n",
    "<br>\n",
    "<b>HouseStyle:</b> We can convert each value to numeric as they can be mapped ordinally on category. For eg., desirability-wise 1Story < 1.5Unf < 1.5Fin < 2Story and so on. SFoyer and SLvl, althogh mentioned in the dictionary, are not present in the dataset itself. Therfore these values can be ignored.\n",
    "<br>\n",
    "<br>\n",
    "<b> Let's look at each field one by one </b> \n",
    "<br>\n",
    "'Id' - Just the unique ID for each property and will not be used for analysis\n",
    "<br>'MSSubClass' - C. This is a very unorganized field with multiple parameters that can be separately found in other individual fields. We can ignore this one.\n",
    "<br>'MSZoning' - C\n",
    "<br>'LotFrontage' - N\n",
    "<br>'LotArea' - N\n",
    "<br>'Street' - CN\n",
    "<br>'Alley' - CN\n",
    "<br>'LotShape' - CN\n",
    "<br>'LandContour' - C\n",
    "<br>'Utilities' - CN\n",
    "<br>'LotConfig' - C\n",
    "<br>'LandSlope' - CN\n",
    "<br>'Neighborhood' - C\n",
    "<br>'Condition1' - C\n",
    "<br>'Condition2' - C\n",
    "<br>'BldgType' - C\n",
    "<br>'HouseStyle' - CN\n",
    "<br>'OverallQual' - N\n",
    "<br>'OverallCond' - N\n",
    "<br>'YearBuilt' - N\n",
    "<br>'YearRemodAdd' - N\n",
    "<br>'RoofStyle' - C\n",
    "<br>'RoofMatl' - C\n",
    "<br>'Exterior1st' - C\n",
    "<br>'Exterior2nd' - C\n",
    "<br>'MasVnrType' - C\n",
    "<br>'MasVnrArea' - N\n",
    "<br>'ExterQual' - CN\n",
    "<br>'ExterCond' - CN\n",
    "<br>'Foundation' - C\n",
    "<br>'BsmtQual' - CN\n",
    "<br>'BsmtCond' - CN\n",
    "<br>'BsmtExposure' - CN\n",
    "<br>'BsmtFinType1' - C\n",
    "<br>'BsmtFinSF1' - N\n",
    "<br>'BsmtFinType2' - CN\n",
    "<br>'BsmtFinSF2' - N\n",
    "<br>'BsmtUnfSF' - N\n",
    "<br>'TotalBsmtSF' - N\n",
    "<br>'Heating' - C\n",
    "<br>'HeatingQC' - CN\n",
    "<br>'CentralAir' - CN\n",
    "<br>'Electrical' - CN\n",
    "<br>'1stFlrSF' - N\n",
    "<br>'2ndFlrSF' - N\n",
    "<br>'LowQualFinSF' - N\n",
    "<br>'GrLivArea' - N\n",
    "<br>'BsmtFullBath' - N\n",
    "<br>'BsmtHalfBath' - N\n",
    "<br>'FullBath' - N\n",
    "<br>'HalfBath' - N\n",
    "<br>'BedroomAbvGr' - N\n",
    "<br>'KitchenAbvGr' - N\n",
    "<br>'KitchenQual' - CN\n",
    "<br>'TotRmsAbvGrd' - N\n",
    "<br>'Functional' - CN\n",
    "<br>'Fireplaces' - N\n",
    "<br>'FireplaceQu' - CN\n",
    "<br>'GarageType' - C\n",
    "<br>'GarageYrBlt' - N\n",
    "<br>'GarageFinish' - CN\n",
    "<br>'GarageCars' - N\n",
    "<br>'GarageArea' - N\n",
    "<br>'GarageQual' - CN\n",
    "<br>'GarageCond' - CN\n",
    "<br>'PavedDrive' - CN\n",
    "<br>'WoodDeckSF' - N\n",
    "<br>'OpenPorchSF' - N\n",
    "<br>'EnclosedPorch' - N\n",
    "<br>'3SsnPorch' - N\n",
    "<br>'ScreenPorch' - N\n",
    "<br>'PoolArea' - N\n",
    "<br>'PoolQC' - CN\n",
    "<br>'Fence' - C\n",
    "<br>'MiscFeature' - C\n",
    "<br>'MiscVal' - N\n",
    "<br>'MoSold' - N (but it needs to be used i nconjunction to 'YrSold' to make sense. So we will skip this and only consider 'Yrsold'\n",
    "<br>'YrSold' - N\n",
    "<br>'SaleType' - C\n",
    "<br>'SaleCondition' - C\n",
    "<br>'SalePrice' - This will be the target variable."
   ]
  },
  {
   "cell_type": "code",
   "execution_count": 353,
   "id": "ae44e11e",
   "metadata": {},
   "outputs": [
    {
     "name": "stdout",
     "output_type": "stream",
     "text": [
      "LotFrontage\n",
      "Alley\n",
      "MasVnrType\n",
      "MasVnrArea\n",
      "BsmtQual\n",
      "BsmtCond\n",
      "BsmtExposure\n",
      "BsmtFinType1\n",
      "BsmtFinType2\n",
      "Electrical\n",
      "FireplaceQu\n",
      "GarageType\n",
      "GarageYrBlt\n",
      "GarageFinish\n",
      "GarageQual\n",
      "GarageCond\n",
      "PoolQC\n",
      "Fence\n",
      "MiscFeature\n"
     ]
    }
   ],
   "source": [
    "#find all the columns that have nulls in them\n",
    "for str in list(alldata.keys()):\n",
    "    if alldata[str].hasnans:\n",
    "        print(str)"
   ]
  },
  {
   "cell_type": "markdown",
   "id": "06716267",
   "metadata": {},
   "source": [
    "From these we will only evaluate the numeric data or the categorical data that we can reasonably convert to numeric.\n",
    "<br>\n",
    "<b> N = Numeric, C = Categorical, CN = Categorical but can be reasonably converted to numeric </b>\n",
    "<br>\n",
    "<b>LotFrontage </b> - N 259 nulls. We can safely replace these with 0 (no linear street connected to property)\n",
    "<br>\n",
    "<b>Alley</b> - CN 1369 nulls. We will drop this column. \n",
    "<br>\n",
    "MasVnrType - C\n",
    "<br>\n",
    "<b>MasVnrArea </b> - N 8 nulls. We can safely replace these with 0.\n",
    "<br>\n",
    "<b> BsmtQual </b> - CN 37 nulls. We can safely replace these with NA (0)\n",
    "<br>\n",
    "<b>BsmtCond </b> - CN 37 nulls. We can safely replace these with NA (0)\n",
    "<br>\n",
    "<b>BsmtExposure </b> - CN 38 nulls. We can safely replace these with NA (0)\n",
    "<br>\n",
    "<b>BsmtFinType1 </b> - CN 37 nulls. We can safely replace these with NA (0)\n",
    "<br>\n",
    "<b>BsmtFinType2 </b>- CN 38 nulls. We can safely replace these with NA (0)\n",
    "<br>\n",
    "Electrical - C\n",
    "<br>\n",
    "<b>FireplaceQu </b>- CN 690 nulls. We should not consider this column. We still have the FirePlaces column that gives us the total fireplaces and the condition of the fireplace should not be a major determining factor.\n",
    "<br>\n",
    "GarageType - C\n",
    "<br>\n",
    "<b>GarageYrBlt </b> - N 81 nulls. Let's take the YearBuilt to impute this instead, as that should be the most likely year the garage is built too. \n",
    "<br>\n",
    "<b>GarageFinish </b>- CN 81 nulls. We can just say there is no garage (replace with NA = 0)\n",
    "<br>\n",
    "<b>GarageQual </b>- CN 81 nulls. We can just say there is no garage (replace with NA = 0)\n",
    "<br>\n",
    "<b>GarageCond </b>- CN 81 nulls. We can just say there is no garage (replace with NA = 0)\n",
    "<br>\n",
    "<b>PoolQC </b>- CN 1453 nulls. We should definitely skip this one.\n",
    "<br>\n",
    "Fence - C \n",
    "<br>\n",
    "MiscFeature - C"
   ]
  },
  {
   "cell_type": "markdown",
   "id": "ea0de00d",
   "metadata": {},
   "source": [
    "<br><br><br>\n",
    "<b>Now we drop the columns that we will ignore for our analysis</b> (Categorical, except for the ones that we will reasonably convert to numeric values. Also, we will <b>remove</b> the variable <b>'MoSold'</b> even though it is numeric, because it shows the month the property was sold, which is of little value without the year, for which we already have a separate column. Further, we will delete columns <b>'FireplaceQu'</b> and <b>'PoolQC'</b> as these have so many null values that we should choose to ignore them rather than to impute them.)"
   ]
  },
  {
   "cell_type": "code",
   "execution_count": 354,
   "id": "0556f007",
   "metadata": {},
   "outputs": [],
   "source": [
    "cleandatawithnulls = alldata.drop(['Id'\n",
    ",'MSZoning'\n",
    ",'Alley'\n",
    ",'LandContour'\n",
    ",'LotConfig'\n",
    ",'Neighborhood'\n",
    ",'Condition1'\n",
    ",'Condition2'\n",
    ",'Electrical'\n",
    ",'BldgType'\n",
    ",'RoofStyle'\n",
    ",'RoofMatl'\n",
    ",'Exterior1st'\n",
    ",'Exterior2nd'\n",
    ",'GarageType'\n",
    ",'MasVnrType'\n",
    ",'Foundation'\n",
    ",'Fence'\n",
    ",'MiscFeature'\n",
    ",'MoSold'\n",
    ",'SaleType'\n",
    ",'SaleCondition'\n",
    ",'FireplaceQu'\n",
    ",'PoolQC'], axis=1)"
   ]
  },
  {
   "cell_type": "markdown",
   "id": "cd805969",
   "metadata": {},
   "source": []
  },
  {
   "cell_type": "code",
   "execution_count": 355,
   "id": "7b4bbfae",
   "metadata": {},
   "outputs": [
    {
     "name": "stdout",
     "output_type": "stream",
     "text": [
      "<class 'pandas.core.frame.DataFrame'>\n",
      "RangeIndex: 1460 entries, 0 to 1459\n",
      "Data columns (total 57 columns):\n",
      " #   Column         Non-Null Count  Dtype  \n",
      "---  ------         --------------  -----  \n",
      " 0   MSSubClass     1460 non-null   int64  \n",
      " 1   LotFrontage    1201 non-null   float64\n",
      " 2   LotArea        1460 non-null   int64  \n",
      " 3   Street         1460 non-null   object \n",
      " 4   LotShape       1460 non-null   object \n",
      " 5   Utilities      1460 non-null   object \n",
      " 6   LandSlope      1460 non-null   object \n",
      " 7   HouseStyle     1460 non-null   object \n",
      " 8   OverallQual    1460 non-null   int64  \n",
      " 9   OverallCond    1460 non-null   int64  \n",
      " 10  YearBuilt      1460 non-null   int64  \n",
      " 11  YearRemodAdd   1460 non-null   int64  \n",
      " 12  MasVnrArea     1452 non-null   float64\n",
      " 13  ExterQual      1460 non-null   object \n",
      " 14  ExterCond      1460 non-null   object \n",
      " 15  BsmtQual       1423 non-null   object \n",
      " 16  BsmtCond       1423 non-null   object \n",
      " 17  BsmtExposure   1422 non-null   object \n",
      " 18  BsmtFinType1   1423 non-null   object \n",
      " 19  BsmtFinSF1     1460 non-null   int64  \n",
      " 20  BsmtFinType2   1422 non-null   object \n",
      " 21  BsmtFinSF2     1460 non-null   int64  \n",
      " 22  BsmtUnfSF      1460 non-null   int64  \n",
      " 23  TotalBsmtSF    1460 non-null   int64  \n",
      " 24  Heating        1460 non-null   object \n",
      " 25  HeatingQC      1460 non-null   object \n",
      " 26  CentralAir     1460 non-null   object \n",
      " 27  1stFlrSF       1460 non-null   int64  \n",
      " 28  2ndFlrSF       1460 non-null   int64  \n",
      " 29  LowQualFinSF   1460 non-null   int64  \n",
      " 30  GrLivArea      1460 non-null   int64  \n",
      " 31  BsmtFullBath   1460 non-null   int64  \n",
      " 32  BsmtHalfBath   1460 non-null   int64  \n",
      " 33  FullBath       1460 non-null   int64  \n",
      " 34  HalfBath       1460 non-null   int64  \n",
      " 35  BedroomAbvGr   1460 non-null   int64  \n",
      " 36  KitchenAbvGr   1460 non-null   int64  \n",
      " 37  KitchenQual    1460 non-null   object \n",
      " 38  TotRmsAbvGrd   1460 non-null   int64  \n",
      " 39  Functional     1460 non-null   object \n",
      " 40  Fireplaces     1460 non-null   int64  \n",
      " 41  GarageYrBlt    1379 non-null   float64\n",
      " 42  GarageFinish   1379 non-null   object \n",
      " 43  GarageCars     1460 non-null   int64  \n",
      " 44  GarageArea     1460 non-null   int64  \n",
      " 45  GarageQual     1379 non-null   object \n",
      " 46  GarageCond     1379 non-null   object \n",
      " 47  PavedDrive     1460 non-null   object \n",
      " 48  WoodDeckSF     1460 non-null   int64  \n",
      " 49  OpenPorchSF    1460 non-null   int64  \n",
      " 50  EnclosedPorch  1460 non-null   int64  \n",
      " 51  3SsnPorch      1460 non-null   int64  \n",
      " 52  ScreenPorch    1460 non-null   int64  \n",
      " 53  PoolArea       1460 non-null   int64  \n",
      " 54  MiscVal        1460 non-null   int64  \n",
      " 55  YrSold         1460 non-null   int64  \n",
      " 56  SalePrice      1460 non-null   int64  \n",
      "dtypes: float64(3), int64(33), object(21)\n",
      "memory usage: 650.3+ KB\n"
     ]
    }
   ],
   "source": [
    "cleandatawithnulls.info()"
   ]
  },
  {
   "cell_type": "code",
   "execution_count": 356,
   "id": "9d8fd501",
   "metadata": {},
   "outputs": [
    {
     "data": {
      "text/html": [
       "<div>\n",
       "<style scoped>\n",
       "    .dataframe tbody tr th:only-of-type {\n",
       "        vertical-align: middle;\n",
       "    }\n",
       "\n",
       "    .dataframe tbody tr th {\n",
       "        vertical-align: top;\n",
       "    }\n",
       "\n",
       "    .dataframe thead th {\n",
       "        text-align: right;\n",
       "    }\n",
       "</style>\n",
       "<table border=\"1\" class=\"dataframe\">\n",
       "  <thead>\n",
       "    <tr style=\"text-align: right;\">\n",
       "      <th></th>\n",
       "      <th>MSSubClass</th>\n",
       "      <th>LotFrontage</th>\n",
       "      <th>LotArea</th>\n",
       "      <th>Street</th>\n",
       "      <th>LotShape</th>\n",
       "      <th>Utilities</th>\n",
       "      <th>LandSlope</th>\n",
       "      <th>HouseStyle</th>\n",
       "      <th>OverallQual</th>\n",
       "      <th>OverallCond</th>\n",
       "      <th>...</th>\n",
       "      <th>PavedDrive</th>\n",
       "      <th>WoodDeckSF</th>\n",
       "      <th>OpenPorchSF</th>\n",
       "      <th>EnclosedPorch</th>\n",
       "      <th>3SsnPorch</th>\n",
       "      <th>ScreenPorch</th>\n",
       "      <th>PoolArea</th>\n",
       "      <th>MiscVal</th>\n",
       "      <th>YrSold</th>\n",
       "      <th>SalePrice</th>\n",
       "    </tr>\n",
       "  </thead>\n",
       "  <tbody>\n",
       "    <tr>\n",
       "      <th>0</th>\n",
       "      <td>60</td>\n",
       "      <td>65.0</td>\n",
       "      <td>8450</td>\n",
       "      <td>Pave</td>\n",
       "      <td>Reg</td>\n",
       "      <td>AllPub</td>\n",
       "      <td>Gtl</td>\n",
       "      <td>2Story</td>\n",
       "      <td>7</td>\n",
       "      <td>5</td>\n",
       "      <td>...</td>\n",
       "      <td>Y</td>\n",
       "      <td>0</td>\n",
       "      <td>61</td>\n",
       "      <td>0</td>\n",
       "      <td>0</td>\n",
       "      <td>0</td>\n",
       "      <td>0</td>\n",
       "      <td>0</td>\n",
       "      <td>2008</td>\n",
       "      <td>208500</td>\n",
       "    </tr>\n",
       "    <tr>\n",
       "      <th>1</th>\n",
       "      <td>20</td>\n",
       "      <td>80.0</td>\n",
       "      <td>9600</td>\n",
       "      <td>Pave</td>\n",
       "      <td>Reg</td>\n",
       "      <td>AllPub</td>\n",
       "      <td>Gtl</td>\n",
       "      <td>1Story</td>\n",
       "      <td>6</td>\n",
       "      <td>8</td>\n",
       "      <td>...</td>\n",
       "      <td>Y</td>\n",
       "      <td>298</td>\n",
       "      <td>0</td>\n",
       "      <td>0</td>\n",
       "      <td>0</td>\n",
       "      <td>0</td>\n",
       "      <td>0</td>\n",
       "      <td>0</td>\n",
       "      <td>2007</td>\n",
       "      <td>181500</td>\n",
       "    </tr>\n",
       "    <tr>\n",
       "      <th>2</th>\n",
       "      <td>60</td>\n",
       "      <td>68.0</td>\n",
       "      <td>11250</td>\n",
       "      <td>Pave</td>\n",
       "      <td>IR1</td>\n",
       "      <td>AllPub</td>\n",
       "      <td>Gtl</td>\n",
       "      <td>2Story</td>\n",
       "      <td>7</td>\n",
       "      <td>5</td>\n",
       "      <td>...</td>\n",
       "      <td>Y</td>\n",
       "      <td>0</td>\n",
       "      <td>42</td>\n",
       "      <td>0</td>\n",
       "      <td>0</td>\n",
       "      <td>0</td>\n",
       "      <td>0</td>\n",
       "      <td>0</td>\n",
       "      <td>2008</td>\n",
       "      <td>223500</td>\n",
       "    </tr>\n",
       "    <tr>\n",
       "      <th>3</th>\n",
       "      <td>70</td>\n",
       "      <td>60.0</td>\n",
       "      <td>9550</td>\n",
       "      <td>Pave</td>\n",
       "      <td>IR1</td>\n",
       "      <td>AllPub</td>\n",
       "      <td>Gtl</td>\n",
       "      <td>2Story</td>\n",
       "      <td>7</td>\n",
       "      <td>5</td>\n",
       "      <td>...</td>\n",
       "      <td>Y</td>\n",
       "      <td>0</td>\n",
       "      <td>35</td>\n",
       "      <td>272</td>\n",
       "      <td>0</td>\n",
       "      <td>0</td>\n",
       "      <td>0</td>\n",
       "      <td>0</td>\n",
       "      <td>2006</td>\n",
       "      <td>140000</td>\n",
       "    </tr>\n",
       "    <tr>\n",
       "      <th>4</th>\n",
       "      <td>60</td>\n",
       "      <td>84.0</td>\n",
       "      <td>14260</td>\n",
       "      <td>Pave</td>\n",
       "      <td>IR1</td>\n",
       "      <td>AllPub</td>\n",
       "      <td>Gtl</td>\n",
       "      <td>2Story</td>\n",
       "      <td>8</td>\n",
       "      <td>5</td>\n",
       "      <td>...</td>\n",
       "      <td>Y</td>\n",
       "      <td>192</td>\n",
       "      <td>84</td>\n",
       "      <td>0</td>\n",
       "      <td>0</td>\n",
       "      <td>0</td>\n",
       "      <td>0</td>\n",
       "      <td>0</td>\n",
       "      <td>2008</td>\n",
       "      <td>250000</td>\n",
       "    </tr>\n",
       "  </tbody>\n",
       "</table>\n",
       "<p>5 rows × 57 columns</p>\n",
       "</div>"
      ],
      "text/plain": [
       "   MSSubClass  LotFrontage  LotArea Street LotShape Utilities LandSlope  \\\n",
       "0          60         65.0     8450   Pave      Reg    AllPub       Gtl   \n",
       "1          20         80.0     9600   Pave      Reg    AllPub       Gtl   \n",
       "2          60         68.0    11250   Pave      IR1    AllPub       Gtl   \n",
       "3          70         60.0     9550   Pave      IR1    AllPub       Gtl   \n",
       "4          60         84.0    14260   Pave      IR1    AllPub       Gtl   \n",
       "\n",
       "  HouseStyle  OverallQual  OverallCond  ...  PavedDrive  WoodDeckSF  \\\n",
       "0     2Story            7            5  ...           Y           0   \n",
       "1     1Story            6            8  ...           Y         298   \n",
       "2     2Story            7            5  ...           Y           0   \n",
       "3     2Story            7            5  ...           Y           0   \n",
       "4     2Story            8            5  ...           Y         192   \n",
       "\n",
       "   OpenPorchSF EnclosedPorch 3SsnPorch ScreenPorch PoolArea MiscVal YrSold  \\\n",
       "0           61             0         0           0        0       0   2008   \n",
       "1            0             0         0           0        0       0   2007   \n",
       "2           42             0         0           0        0       0   2008   \n",
       "3           35           272         0           0        0       0   2006   \n",
       "4           84             0         0           0        0       0   2008   \n",
       "\n",
       "   SalePrice  \n",
       "0     208500  \n",
       "1     181500  \n",
       "2     223500  \n",
       "3     140000  \n",
       "4     250000  \n",
       "\n",
       "[5 rows x 57 columns]"
      ]
     },
     "execution_count": 356,
     "metadata": {},
     "output_type": "execute_result"
    }
   ],
   "source": [
    "cleandatawithnulls.head()"
   ]
  },
  {
   "cell_type": "markdown",
   "id": "f3c633f4",
   "metadata": {},
   "source": [
    "<br><br><b>Let us now impute the null values in the columns we identified for imputation above.</b>"
   ]
  },
  {
   "cell_type": "code",
   "execution_count": 357,
   "id": "c61023eb",
   "metadata": {},
   "outputs": [],
   "source": [
    "#LotFrontage, MasVnrArea: replace nulls with 0\n",
    "cleandatawithnulls[['LotFrontage','MasVnrArea']] = cleandatawithnulls[['LotFrontage','MasVnrArea']].fillna(0)"
   ]
  },
  {
   "cell_type": "code",
   "execution_count": null,
   "id": "49f2e348",
   "metadata": {},
   "outputs": [],
   "source": []
  },
  {
   "cell_type": "code",
   "execution_count": 358,
   "id": "0073082a",
   "metadata": {},
   "outputs": [],
   "source": [
    "cleandatawithnulls['BsmtQual'].fillna(\"0\",inplace=True)\n",
    "cleandatawithnulls['BsmtQual'] = cleandatawithnulls['BsmtQual'].replace(['Ex', 'Gd', 'TA', 'Fa','Po'], ['5','4','3','2','1'])"
   ]
  },
  {
   "cell_type": "code",
   "execution_count": 149,
   "id": "ef2f21b1",
   "metadata": {},
   "outputs": [],
   "source": []
  },
  {
   "cell_type": "code",
   "execution_count": 359,
   "id": "35110765",
   "metadata": {},
   "outputs": [],
   "source": [
    "cleandatawithnulls['BsmtCond'].fillna(\"0\",inplace=True)\n",
    "cleandatawithnulls['BsmtCond'] = cleandatawithnulls['BsmtCond'].replace(['Ex', 'Gd', 'TA', 'Fa','Po'], ['5','4','3','2','1'])"
   ]
  },
  {
   "cell_type": "code",
   "execution_count": 153,
   "id": "a22ae876",
   "metadata": {},
   "outputs": [],
   "source": []
  },
  {
   "cell_type": "code",
   "execution_count": 360,
   "id": "d642e44d",
   "metadata": {},
   "outputs": [],
   "source": [
    "cleandatawithnulls['BsmtExposure'].fillna(\"0\",inplace=True)\n",
    "cleandatawithnulls['BsmtExposure'] = cleandatawithnulls['BsmtExposure'].replace(['Gd', 'Av', 'Mn', 'No'], ['4','3','2','1'])"
   ]
  },
  {
   "cell_type": "code",
   "execution_count": 361,
   "id": "eb8554b1",
   "metadata": {},
   "outputs": [],
   "source": [
    "cleandatawithnulls['BsmtFinType1'].fillna(\"0\",inplace=True)\n",
    "cleandatawithnulls['BsmtFinType1'] = cleandatawithnulls['BsmtFinType1'].replace(['GLQ', 'ALQ', 'BLQ', 'Rec','LwQ','Unf'], ['6','5','4','3','2','1'])"
   ]
  },
  {
   "cell_type": "code",
   "execution_count": 362,
   "id": "4ef6e6e4",
   "metadata": {},
   "outputs": [],
   "source": [
    "cleandatawithnulls['BsmtFinType2'].fillna(\"0\",inplace=True)\n",
    "cleandatawithnulls['BsmtFinType2'] = cleandatawithnulls['BsmtFinType2'].replace(['GLQ', 'ALQ', 'BLQ', 'Rec','LwQ','Unf'], ['6','5','4','3','2','1'])"
   ]
  },
  {
   "cell_type": "code",
   "execution_count": null,
   "id": "0a934562",
   "metadata": {},
   "outputs": [],
   "source": []
  },
  {
   "cell_type": "code",
   "execution_count": 363,
   "id": "a1cb278f",
   "metadata": {},
   "outputs": [],
   "source": [
    "cleandatawithnulls['GarageFinish'].fillna(\"0\",inplace=True)\n",
    "cleandatawithnulls['GarageFinish'] = cleandatawithnulls['GarageFinish'].replace(['Fin', 'RFn', 'Unf'], ['3','2','1'])"
   ]
  },
  {
   "cell_type": "code",
   "execution_count": 201,
   "id": "ceae73bd",
   "metadata": {},
   "outputs": [],
   "source": []
  },
  {
   "cell_type": "code",
   "execution_count": 364,
   "id": "2ad95740",
   "metadata": {},
   "outputs": [],
   "source": [
    "cleandatawithnulls['GarageQual'].fillna(\"0\",inplace=True)\n",
    "cleandatawithnulls['GarageQual'] = cleandatawithnulls['GarageQual'].replace(['Ex', 'Gd', 'TA','Fa','Po'], ['5','4','3','2','1'])"
   ]
  },
  {
   "cell_type": "code",
   "execution_count": 365,
   "id": "cda4b677",
   "metadata": {},
   "outputs": [],
   "source": [
    "cleandatawithnulls['GarageCond'].fillna(\"0\",inplace=True)\n",
    "cleandatawithnulls['GarageCond'] = cleandatawithnulls['GarageCond'].replace(['Ex', 'Gd', 'TA','Fa','Po'], ['5','4','3','2','1'])"
   ]
  },
  {
   "cell_type": "code",
   "execution_count": 207,
   "id": "d0bdbd00",
   "metadata": {},
   "outputs": [],
   "source": []
  },
  {
   "cell_type": "code",
   "execution_count": 366,
   "id": "c2d94ca9",
   "metadata": {},
   "outputs": [],
   "source": [
    "cleandatawithnulls['GarageYrBlt'].fillna(cleandatawithnulls.YearBuilt,inplace=True)"
   ]
  },
  {
   "cell_type": "code",
   "execution_count": 367,
   "id": "39ba8d54",
   "metadata": {},
   "outputs": [
    {
     "name": "stdout",
     "output_type": "stream",
     "text": [
      "Count:  0\n"
     ]
    }
   ],
   "source": [
    "#find all the columns that have nulls in them\n",
    "count = 0\n",
    "for str in list(cleandatawithnulls.keys()):\n",
    "    if cleandatawithnulls[str].hasnans:\n",
    "        count += 1\n",
    "        print(str)\n",
    "print(\"Count: \", count)"
   ]
  },
  {
   "cell_type": "markdown",
   "id": "b228ad37",
   "metadata": {},
   "source": [
    "As we can see now, there are no null values left in the dataframe and all the chosen categorical values are now converted to corresponding ordinal numeric values"
   ]
  },
  {
   "cell_type": "code",
   "execution_count": 368,
   "id": "e50b3f11",
   "metadata": {},
   "outputs": [
    {
     "name": "stdout",
     "output_type": "stream",
     "text": [
      "<class 'pandas.core.frame.DataFrame'>\n",
      "RangeIndex: 1460 entries, 0 to 1459\n",
      "Data columns (total 57 columns):\n",
      " #   Column         Non-Null Count  Dtype  \n",
      "---  ------         --------------  -----  \n",
      " 0   MSSubClass     1460 non-null   int64  \n",
      " 1   LotFrontage    1460 non-null   float64\n",
      " 2   LotArea        1460 non-null   int64  \n",
      " 3   Street         1460 non-null   object \n",
      " 4   LotShape       1460 non-null   object \n",
      " 5   Utilities      1460 non-null   object \n",
      " 6   LandSlope      1460 non-null   object \n",
      " 7   HouseStyle     1460 non-null   object \n",
      " 8   OverallQual    1460 non-null   int64  \n",
      " 9   OverallCond    1460 non-null   int64  \n",
      " 10  YearBuilt      1460 non-null   int64  \n",
      " 11  YearRemodAdd   1460 non-null   int64  \n",
      " 12  MasVnrArea     1460 non-null   float64\n",
      " 13  ExterQual      1460 non-null   object \n",
      " 14  ExterCond      1460 non-null   object \n",
      " 15  BsmtQual       1460 non-null   object \n",
      " 16  BsmtCond       1460 non-null   object \n",
      " 17  BsmtExposure   1460 non-null   object \n",
      " 18  BsmtFinType1   1460 non-null   object \n",
      " 19  BsmtFinSF1     1460 non-null   int64  \n",
      " 20  BsmtFinType2   1460 non-null   object \n",
      " 21  BsmtFinSF2     1460 non-null   int64  \n",
      " 22  BsmtUnfSF      1460 non-null   int64  \n",
      " 23  TotalBsmtSF    1460 non-null   int64  \n",
      " 24  Heating        1460 non-null   object \n",
      " 25  HeatingQC      1460 non-null   object \n",
      " 26  CentralAir     1460 non-null   object \n",
      " 27  1stFlrSF       1460 non-null   int64  \n",
      " 28  2ndFlrSF       1460 non-null   int64  \n",
      " 29  LowQualFinSF   1460 non-null   int64  \n",
      " 30  GrLivArea      1460 non-null   int64  \n",
      " 31  BsmtFullBath   1460 non-null   int64  \n",
      " 32  BsmtHalfBath   1460 non-null   int64  \n",
      " 33  FullBath       1460 non-null   int64  \n",
      " 34  HalfBath       1460 non-null   int64  \n",
      " 35  BedroomAbvGr   1460 non-null   int64  \n",
      " 36  KitchenAbvGr   1460 non-null   int64  \n",
      " 37  KitchenQual    1460 non-null   object \n",
      " 38  TotRmsAbvGrd   1460 non-null   int64  \n",
      " 39  Functional     1460 non-null   object \n",
      " 40  Fireplaces     1460 non-null   int64  \n",
      " 41  GarageYrBlt    1460 non-null   float64\n",
      " 42  GarageFinish   1460 non-null   object \n",
      " 43  GarageCars     1460 non-null   int64  \n",
      " 44  GarageArea     1460 non-null   int64  \n",
      " 45  GarageQual     1460 non-null   object \n",
      " 46  GarageCond     1460 non-null   object \n",
      " 47  PavedDrive     1460 non-null   object \n",
      " 48  WoodDeckSF     1460 non-null   int64  \n",
      " 49  OpenPorchSF    1460 non-null   int64  \n",
      " 50  EnclosedPorch  1460 non-null   int64  \n",
      " 51  3SsnPorch      1460 non-null   int64  \n",
      " 52  ScreenPorch    1460 non-null   int64  \n",
      " 53  PoolArea       1460 non-null   int64  \n",
      " 54  MiscVal        1460 non-null   int64  \n",
      " 55  YrSold         1460 non-null   int64  \n",
      " 56  SalePrice      1460 non-null   int64  \n",
      "dtypes: float64(3), int64(33), object(21)\n",
      "memory usage: 650.3+ KB\n"
     ]
    }
   ],
   "source": [
    "cleandata = cleandatawithnulls\n",
    "cleandata.info()"
   ]
  },
  {
   "cell_type": "markdown",
   "id": "2ae3df9c",
   "metadata": {},
   "source": [
    "Let's start dropping the unnecessary categorical columns before imputing the other categorical columns to numerics"
   ]
  },
  {
   "cell_type": "code",
   "execution_count": 369,
   "id": "e18fe6b6",
   "metadata": {
    "scrolled": true
   },
   "outputs": [],
   "source": [
    "cleandata.drop(['MSSubClass','MasVnrArea','Heating','CentralAir'], axis=1,inplace=True)"
   ]
  },
  {
   "cell_type": "code",
   "execution_count": null,
   "id": "27121bdd",
   "metadata": {},
   "outputs": [],
   "source": []
  },
  {
   "cell_type": "code",
   "execution_count": 370,
   "id": "6fe837be",
   "metadata": {
    "scrolled": true
   },
   "outputs": [
    {
     "name": "stdout",
     "output_type": "stream",
     "text": [
      "<class 'pandas.core.frame.DataFrame'>\n",
      "RangeIndex: 1460 entries, 0 to 1459\n",
      "Data columns (total 53 columns):\n",
      " #   Column         Non-Null Count  Dtype  \n",
      "---  ------         --------------  -----  \n",
      " 0   LotFrontage    1460 non-null   float64\n",
      " 1   LotArea        1460 non-null   int64  \n",
      " 2   Street         1460 non-null   object \n",
      " 3   LotShape       1460 non-null   object \n",
      " 4   Utilities      1460 non-null   object \n",
      " 5   LandSlope      1460 non-null   object \n",
      " 6   HouseStyle     1460 non-null   object \n",
      " 7   OverallQual    1460 non-null   int64  \n",
      " 8   OverallCond    1460 non-null   int64  \n",
      " 9   YearBuilt      1460 non-null   int64  \n",
      " 10  YearRemodAdd   1460 non-null   int64  \n",
      " 11  ExterQual      1460 non-null   object \n",
      " 12  ExterCond      1460 non-null   object \n",
      " 13  BsmtQual       1460 non-null   object \n",
      " 14  BsmtCond       1460 non-null   object \n",
      " 15  BsmtExposure   1460 non-null   object \n",
      " 16  BsmtFinType1   1460 non-null   object \n",
      " 17  BsmtFinSF1     1460 non-null   int64  \n",
      " 18  BsmtFinType2   1460 non-null   object \n",
      " 19  BsmtFinSF2     1460 non-null   int64  \n",
      " 20  BsmtUnfSF      1460 non-null   int64  \n",
      " 21  TotalBsmtSF    1460 non-null   int64  \n",
      " 22  HeatingQC      1460 non-null   object \n",
      " 23  1stFlrSF       1460 non-null   int64  \n",
      " 24  2ndFlrSF       1460 non-null   int64  \n",
      " 25  LowQualFinSF   1460 non-null   int64  \n",
      " 26  GrLivArea      1460 non-null   int64  \n",
      " 27  BsmtFullBath   1460 non-null   int64  \n",
      " 28  BsmtHalfBath   1460 non-null   int64  \n",
      " 29  FullBath       1460 non-null   int64  \n",
      " 30  HalfBath       1460 non-null   int64  \n",
      " 31  BedroomAbvGr   1460 non-null   int64  \n",
      " 32  KitchenAbvGr   1460 non-null   int64  \n",
      " 33  KitchenQual    1460 non-null   object \n",
      " 34  TotRmsAbvGrd   1460 non-null   int64  \n",
      " 35  Functional     1460 non-null   object \n",
      " 36  Fireplaces     1460 non-null   int64  \n",
      " 37  GarageYrBlt    1460 non-null   float64\n",
      " 38  GarageFinish   1460 non-null   object \n",
      " 39  GarageCars     1460 non-null   int64  \n",
      " 40  GarageArea     1460 non-null   int64  \n",
      " 41  GarageQual     1460 non-null   object \n",
      " 42  GarageCond     1460 non-null   object \n",
      " 43  PavedDrive     1460 non-null   object \n",
      " 44  WoodDeckSF     1460 non-null   int64  \n",
      " 45  OpenPorchSF    1460 non-null   int64  \n",
      " 46  EnclosedPorch  1460 non-null   int64  \n",
      " 47  3SsnPorch      1460 non-null   int64  \n",
      " 48  ScreenPorch    1460 non-null   int64  \n",
      " 49  PoolArea       1460 non-null   int64  \n",
      " 50  MiscVal        1460 non-null   int64  \n",
      " 51  YrSold         1460 non-null   int64  \n",
      " 52  SalePrice      1460 non-null   int64  \n",
      "dtypes: float64(2), int64(32), object(19)\n",
      "memory usage: 604.7+ KB\n"
     ]
    }
   ],
   "source": [
    "cleandata.info()"
   ]
  },
  {
   "cell_type": "markdown",
   "id": "2f383d64",
   "metadata": {},
   "source": [
    "<br>\n",
    "<br>\n",
    "<b> Let's do a quick test to see if some of the categorical variables we perceive as ordinal, like 'OverallQual' is indeed linearly correlated to the price </b>"
   ]
  },
  {
   "cell_type": "code",
   "execution_count": 371,
   "id": "aaad7e34",
   "metadata": {},
   "outputs": [
    {
     "data": {
      "text/plain": [
       "<seaborn.axisgrid.FacetGrid at 0x19e44f8c190>"
      ]
     },
     "execution_count": 371,
     "metadata": {},
     "output_type": "execute_result"
    },
    {
     "data": {
      "image/png": "[encoded data removed]",
      "text/plain": [
       "<Figure size 360x360 with 1 Axes>"
      ]
     },
     "metadata": {
      "needs_background": "light"
     },
     "output_type": "display_data"
    }
   ],
   "source": [
    "sns.catplot(data=alldata, x='OverallQual', y='SalePrice', kind='box')"
   ]
  },
  {
   "cell_type": "markdown",
   "id": "d06eb92c",
   "metadata": {},
   "source": [
    "We see a definite increase in SalePrice as the OverallQual value increases. \n",
    "<br>\n",
    "<br>\n",
    "Also non-ordinal categorical variables, like 'Condition1' should not display any particular trend in SalePrice.\n"
   ]
  },
  {
   "cell_type": "code",
   "execution_count": 372,
   "id": "fcbf57ad",
   "metadata": {},
   "outputs": [
    {
     "data": {
      "text/plain": [
       "<seaborn.axisgrid.FacetGrid at 0x19e44f3c400>"
      ]
     },
     "execution_count": 372,
     "metadata": {},
     "output_type": "execute_result"
    },
    {
     "data": {
      "image/png": "[encoded data removed]",
      "text/plain": [
       "<Figure size 360x360 with 1 Axes>"
      ]
     },
     "metadata": {
      "needs_background": "light"
     },
     "output_type": "display_data"
    }
   ],
   "source": [
    "sns.catplot(data=alldata, x='Condition1', y='SalePrice', kind='box')"
   ]
  },
  {
   "cell_type": "code",
   "execution_count": 373,
   "id": "6f12b387",
   "metadata": {},
   "outputs": [
    {
     "data": {
      "text/plain": [
       "<AxesSubplot:xlabel='OverallQual', ylabel='SalePrice'>"
      ]
     },
     "execution_count": 373,
     "metadata": {},
     "output_type": "execute_result"
    },
    {
     "data": {
      "image/png": "[encoded data removed]",
      "text/plain": [
       "<Figure size 432x288 with 1 Axes>"
      ]
     },
     "metadata": {
      "needs_background": "light"
     },
     "output_type": "display_data"
    }
   ],
   "source": [
    "sns.scatterplot(data = alldata, x = 'OverallQual', y = 'SalePrice')"
   ]
  },
  {
   "cell_type": "markdown",
   "id": "e955c2d3",
   "metadata": {},
   "source": [
    "Our assumption seems correct, so let's go with it. Let's convert similar ordinal categorical variables to numeric values."
   ]
  },
  {
   "cell_type": "code",
   "execution_count": 374,
   "id": "15716c6b",
   "metadata": {},
   "outputs": [],
   "source": [
    "cleandata['Street'] = cleandata['Street'].replace(['Grvl', 'Pave'], ['1','2'])"
   ]
  },
  {
   "cell_type": "code",
   "execution_count": 375,
   "id": "65b1357c",
   "metadata": {},
   "outputs": [],
   "source": [
    "cleandata['LotShape'] = cleandata['LotShape'].replace(['Reg', 'IR1', 'IR2', 'IR3'], ['4','3','2','1'])"
   ]
  },
  {
   "cell_type": "code",
   "execution_count": 376,
   "id": "7d037371",
   "metadata": {},
   "outputs": [],
   "source": [
    "cleandata['Utilities'] = cleandata['Utilities'].replace(['AllPub', 'NoSewr', 'NoSeWa', 'ELO'], ['4','3','2','1'])"
   ]
  },
  {
   "cell_type": "code",
   "execution_count": 377,
   "id": "2fd55187",
   "metadata": {},
   "outputs": [],
   "source": [
    "cleandata['LandSlope'] = cleandata['LandSlope'].replace(['Gtl', 'Mod', 'Sev'], ['3','2','1'])"
   ]
  },
  {
   "cell_type": "code",
   "execution_count": 378,
   "id": "9455c452",
   "metadata": {},
   "outputs": [],
   "source": [
    "cleandata['HouseStyle'] = cleandata['HouseStyle'].replace(['1Story', '1.5Unf', '1.5Fin','2Story','2.5Unf','2.5Fin'], ['1','2','3','4','5','6'])"
   ]
  },
  {
   "cell_type": "code",
   "execution_count": 379,
   "id": "970de053",
   "metadata": {},
   "outputs": [],
   "source": [
    "cleandata['ExterQual'] = cleandata['ExterQual'].replace(['Ex', 'Gd', 'TA','Fa','Po'], ['5','4','3','2','1'])"
   ]
  },
  {
   "cell_type": "code",
   "execution_count": 380,
   "id": "a1d4bb70",
   "metadata": {},
   "outputs": [],
   "source": [
    "cleandata['ExterCond'] = cleandata['ExterCond'].replace(['Ex', 'Gd', 'TA','Fa','Po'], ['5','4','3','2','1'])"
   ]
  },
  {
   "cell_type": "code",
   "execution_count": 381,
   "id": "b89bc4ed",
   "metadata": {},
   "outputs": [],
   "source": [
    "cleandata['HeatingQC'] = cleandata['HeatingQC'].replace(['Ex', 'Gd', 'TA','Fa','Po'], ['5','4','3','2','1'])"
   ]
  },
  {
   "cell_type": "code",
   "execution_count": 382,
   "id": "74dc647b",
   "metadata": {},
   "outputs": [],
   "source": [
    "cleandata['KitchenQual'] = cleandata['KitchenQual'].replace(['Ex', 'Gd', 'TA','Fa','Po'], ['5','4','3','2','1'])"
   ]
  },
  {
   "cell_type": "code",
   "execution_count": 383,
   "id": "63e95f6f",
   "metadata": {},
   "outputs": [],
   "source": [
    "cleandata['Functional'] = cleandata['Functional'].replace(['Typ', 'Min1', 'Min2','Mod','Maj1','Maj2','Sev','Sal'], ['8','7','6','5','4','3','2','1'])"
   ]
  },
  {
   "cell_type": "code",
   "execution_count": 384,
   "id": "e1c42597",
   "metadata": {},
   "outputs": [],
   "source": [
    "cleandata['PavedDrive'] = cleandata['PavedDrive'].replace(['Y', 'P', 'N'], ['3','2','1'])"
   ]
  },
  {
   "cell_type": "code",
   "execution_count": 385,
   "id": "5099ef48",
   "metadata": {},
   "outputs": [
    {
     "data": {
      "text/html": [
       "<div>\n",
       "<style scoped>\n",
       "    .dataframe tbody tr th:only-of-type {\n",
       "        vertical-align: middle;\n",
       "    }\n",
       "\n",
       "    .dataframe tbody tr th {\n",
       "        vertical-align: top;\n",
       "    }\n",
       "\n",
       "    .dataframe thead th {\n",
       "        text-align: right;\n",
       "    }\n",
       "</style>\n",
       "<table border=\"1\" class=\"dataframe\">\n",
       "  <thead>\n",
       "    <tr style=\"text-align: right;\">\n",
       "      <th></th>\n",
       "      <th>LotFrontage</th>\n",
       "      <th>LotArea</th>\n",
       "      <th>Street</th>\n",
       "      <th>LotShape</th>\n",
       "      <th>Utilities</th>\n",
       "      <th>LandSlope</th>\n",
       "      <th>HouseStyle</th>\n",
       "      <th>OverallQual</th>\n",
       "      <th>OverallCond</th>\n",
       "      <th>YearBuilt</th>\n",
       "      <th>...</th>\n",
       "      <th>PavedDrive</th>\n",
       "      <th>WoodDeckSF</th>\n",
       "      <th>OpenPorchSF</th>\n",
       "      <th>EnclosedPorch</th>\n",
       "      <th>3SsnPorch</th>\n",
       "      <th>ScreenPorch</th>\n",
       "      <th>PoolArea</th>\n",
       "      <th>MiscVal</th>\n",
       "      <th>YrSold</th>\n",
       "      <th>SalePrice</th>\n",
       "    </tr>\n",
       "  </thead>\n",
       "  <tbody>\n",
       "    <tr>\n",
       "      <th>0</th>\n",
       "      <td>65.0</td>\n",
       "      <td>8450</td>\n",
       "      <td>2</td>\n",
       "      <td>4</td>\n",
       "      <td>4</td>\n",
       "      <td>3</td>\n",
       "      <td>4</td>\n",
       "      <td>7</td>\n",
       "      <td>5</td>\n",
       "      <td>2003</td>\n",
       "      <td>...</td>\n",
       "      <td>3</td>\n",
       "      <td>0</td>\n",
       "      <td>61</td>\n",
       "      <td>0</td>\n",
       "      <td>0</td>\n",
       "      <td>0</td>\n",
       "      <td>0</td>\n",
       "      <td>0</td>\n",
       "      <td>2008</td>\n",
       "      <td>208500</td>\n",
       "    </tr>\n",
       "    <tr>\n",
       "      <th>1</th>\n",
       "      <td>80.0</td>\n",
       "      <td>9600</td>\n",
       "      <td>2</td>\n",
       "      <td>4</td>\n",
       "      <td>4</td>\n",
       "      <td>3</td>\n",
       "      <td>1</td>\n",
       "      <td>6</td>\n",
       "      <td>8</td>\n",
       "      <td>1976</td>\n",
       "      <td>...</td>\n",
       "      <td>3</td>\n",
       "      <td>298</td>\n",
       "      <td>0</td>\n",
       "      <td>0</td>\n",
       "      <td>0</td>\n",
       "      <td>0</td>\n",
       "      <td>0</td>\n",
       "      <td>0</td>\n",
       "      <td>2007</td>\n",
       "      <td>181500</td>\n",
       "    </tr>\n",
       "    <tr>\n",
       "      <th>2</th>\n",
       "      <td>68.0</td>\n",
       "      <td>11250</td>\n",
       "      <td>2</td>\n",
       "      <td>3</td>\n",
       "      <td>4</td>\n",
       "      <td>3</td>\n",
       "      <td>4</td>\n",
       "      <td>7</td>\n",
       "      <td>5</td>\n",
       "      <td>2001</td>\n",
       "      <td>...</td>\n",
       "      <td>3</td>\n",
       "      <td>0</td>\n",
       "      <td>42</td>\n",
       "      <td>0</td>\n",
       "      <td>0</td>\n",
       "      <td>0</td>\n",
       "      <td>0</td>\n",
       "      <td>0</td>\n",
       "      <td>2008</td>\n",
       "      <td>223500</td>\n",
       "    </tr>\n",
       "    <tr>\n",
       "      <th>3</th>\n",
       "      <td>60.0</td>\n",
       "      <td>9550</td>\n",
       "      <td>2</td>\n",
       "      <td>3</td>\n",
       "      <td>4</td>\n",
       "      <td>3</td>\n",
       "      <td>4</td>\n",
       "      <td>7</td>\n",
       "      <td>5</td>\n",
       "      <td>1915</td>\n",
       "      <td>...</td>\n",
       "      <td>3</td>\n",
       "      <td>0</td>\n",
       "      <td>35</td>\n",
       "      <td>272</td>\n",
       "      <td>0</td>\n",
       "      <td>0</td>\n",
       "      <td>0</td>\n",
       "      <td>0</td>\n",
       "      <td>2006</td>\n",
       "      <td>140000</td>\n",
       "    </tr>\n",
       "    <tr>\n",
       "      <th>4</th>\n",
       "      <td>84.0</td>\n",
       "      <td>14260</td>\n",
       "      <td>2</td>\n",
       "      <td>3</td>\n",
       "      <td>4</td>\n",
       "      <td>3</td>\n",
       "      <td>4</td>\n",
       "      <td>8</td>\n",
       "      <td>5</td>\n",
       "      <td>2000</td>\n",
       "      <td>...</td>\n",
       "      <td>3</td>\n",
       "      <td>192</td>\n",
       "      <td>84</td>\n",
       "      <td>0</td>\n",
       "      <td>0</td>\n",
       "      <td>0</td>\n",
       "      <td>0</td>\n",
       "      <td>0</td>\n",
       "      <td>2008</td>\n",
       "      <td>250000</td>\n",
       "    </tr>\n",
       "  </tbody>\n",
       "</table>\n",
       "<p>5 rows × 53 columns</p>\n",
       "</div>"
      ],
      "text/plain": [
       "   LotFrontage  LotArea Street LotShape Utilities LandSlope HouseStyle  \\\n",
       "0         65.0     8450      2        4         4         3          4   \n",
       "1         80.0     9600      2        4         4         3          1   \n",
       "2         68.0    11250      2        3         4         3          4   \n",
       "3         60.0     9550      2        3         4         3          4   \n",
       "4         84.0    14260      2        3         4         3          4   \n",
       "\n",
       "   OverallQual  OverallCond  YearBuilt  ...  PavedDrive WoodDeckSF  \\\n",
       "0            7            5       2003  ...           3          0   \n",
       "1            6            8       1976  ...           3        298   \n",
       "2            7            5       2001  ...           3          0   \n",
       "3            7            5       1915  ...           3          0   \n",
       "4            8            5       2000  ...           3        192   \n",
       "\n",
       "  OpenPorchSF EnclosedPorch 3SsnPorch ScreenPorch PoolArea  MiscVal YrSold  \\\n",
       "0          61             0         0           0        0        0   2008   \n",
       "1           0             0         0           0        0        0   2007   \n",
       "2          42             0         0           0        0        0   2008   \n",
       "3          35           272         0           0        0        0   2006   \n",
       "4          84             0         0           0        0        0   2008   \n",
       "\n",
       "   SalePrice  \n",
       "0     208500  \n",
       "1     181500  \n",
       "2     223500  \n",
       "3     140000  \n",
       "4     250000  \n",
       "\n",
       "[5 rows x 53 columns]"
      ]
     },
     "execution_count": 385,
     "metadata": {},
     "output_type": "execute_result"
    }
   ],
   "source": [
    "cleandata.head()"
   ]
  },
  {
   "cell_type": "markdown",
   "id": "c67c686f",
   "metadata": {},
   "source": [
    "<br>\n",
    "<br>\n",
    "Let's now export the clean data to a csv and add a filter to the columns. By this we can check whether all the values present in each column is within the acceptable list of values."
   ]
  },
  {
   "cell_type": "code",
   "execution_count": 387,
   "id": "3c7fb5c8",
   "metadata": {},
   "outputs": [],
   "source": [
    "cleandata.to_csv(r'C:\\Users\\vinay\\OneDrive\\Documents\\Upgrad\\Downloads\\cleandata.csv')"
   ]
  },
  {
   "cell_type": "markdown",
   "id": "3a697bf4",
   "metadata": {},
   "source": [
    "It was a good decision to cross check the column values. I found that the column <b>HouseStyle</b> contains the values <b>'SFoyer'</b> and <b>'SLvl' </b>that I had assumed weren't present. However, these are purely categorical values that do not blend with the other ordinal values present in the column. Also, there are <b>only 102 rows</b> with these values, which is less than 10% of the total data. Therefore, we can safely <b>delete those rows</b>."
   ]
  },
  {
   "cell_type": "code",
   "execution_count": 388,
   "id": "f538de4d",
   "metadata": {},
   "outputs": [],
   "source": [
    "hs = cleandata[ (cleandata['HouseStyle'] == 'SFoyer') | (cleandata['HouseStyle'] == 'SLvl') ].index\n",
    "cleandata.drop(hs , inplace=True)"
   ]
  },
  {
   "cell_type": "code",
   "execution_count": 389,
   "id": "a8d7e106",
   "metadata": {},
   "outputs": [
    {
     "name": "stdout",
     "output_type": "stream",
     "text": [
      "<class 'pandas.core.frame.DataFrame'>\n",
      "Int64Index: 1358 entries, 0 to 1459\n",
      "Data columns (total 53 columns):\n",
      " #   Column         Non-Null Count  Dtype  \n",
      "---  ------         --------------  -----  \n",
      " 0   LotFrontage    1358 non-null   float64\n",
      " 1   LotArea        1358 non-null   int64  \n",
      " 2   Street         1358 non-null   object \n",
      " 3   LotShape       1358 non-null   object \n",
      " 4   Utilities      1358 non-null   object \n",
      " 5   LandSlope      1358 non-null   object \n",
      " 6   HouseStyle     1358 non-null   object \n",
      " 7   OverallQual    1358 non-null   int64  \n",
      " 8   OverallCond    1358 non-null   int64  \n",
      " 9   YearBuilt      1358 non-null   int64  \n",
      " 10  YearRemodAdd   1358 non-null   int64  \n",
      " 11  ExterQual      1358 non-null   object \n",
      " 12  ExterCond      1358 non-null   object \n",
      " 13  BsmtQual       1358 non-null   object \n",
      " 14  BsmtCond       1358 non-null   object \n",
      " 15  BsmtExposure   1358 non-null   object \n",
      " 16  BsmtFinType1   1358 non-null   object \n",
      " 17  BsmtFinSF1     1358 non-null   int64  \n",
      " 18  BsmtFinType2   1358 non-null   object \n",
      " 19  BsmtFinSF2     1358 non-null   int64  \n",
      " 20  BsmtUnfSF      1358 non-null   int64  \n",
      " 21  TotalBsmtSF    1358 non-null   int64  \n",
      " 22  HeatingQC      1358 non-null   object \n",
      " 23  1stFlrSF       1358 non-null   int64  \n",
      " 24  2ndFlrSF       1358 non-null   int64  \n",
      " 25  LowQualFinSF   1358 non-null   int64  \n",
      " 26  GrLivArea      1358 non-null   int64  \n",
      " 27  BsmtFullBath   1358 non-null   int64  \n",
      " 28  BsmtHalfBath   1358 non-null   int64  \n",
      " 29  FullBath       1358 non-null   int64  \n",
      " 30  HalfBath       1358 non-null   int64  \n",
      " 31  BedroomAbvGr   1358 non-null   int64  \n",
      " 32  KitchenAbvGr   1358 non-null   int64  \n",
      " 33  KitchenQual    1358 non-null   object \n",
      " 34  TotRmsAbvGrd   1358 non-null   int64  \n",
      " 35  Functional     1358 non-null   object \n",
      " 36  Fireplaces     1358 non-null   int64  \n",
      " 37  GarageYrBlt    1358 non-null   float64\n",
      " 38  GarageFinish   1358 non-null   object \n",
      " 39  GarageCars     1358 non-null   int64  \n",
      " 40  GarageArea     1358 non-null   int64  \n",
      " 41  GarageQual     1358 non-null   object \n",
      " 42  GarageCond     1358 non-null   object \n",
      " 43  PavedDrive     1358 non-null   object \n",
      " 44  WoodDeckSF     1358 non-null   int64  \n",
      " 45  OpenPorchSF    1358 non-null   int64  \n",
      " 46  EnclosedPorch  1358 non-null   int64  \n",
      " 47  3SsnPorch      1358 non-null   int64  \n",
      " 48  ScreenPorch    1358 non-null   int64  \n",
      " 49  PoolArea       1358 non-null   int64  \n",
      " 50  MiscVal        1358 non-null   int64  \n",
      " 51  YrSold         1358 non-null   int64  \n",
      " 52  SalePrice      1358 non-null   int64  \n",
      "dtypes: float64(2), int64(32), object(19)\n",
      "memory usage: 572.9+ KB\n"
     ]
    }
   ],
   "source": [
    "cleandata.info()"
   ]
  },
  {
   "cell_type": "code",
   "execution_count": 322,
   "id": "5ed7c991",
   "metadata": {},
   "outputs": [],
   "source": [
    "#I'm commenting out this code as it was only to check the data with the deleted rows in excel again, which I have verified and confirmed.\n",
    "#cleandata.to_csv(r'C:\\Users\\vinay\\OneDrive\\Documents\\Upgrad\\Downloads\\cleandata2.csv')"
   ]
  },
  {
   "cell_type": "markdown",
   "id": "87c1944b",
   "metadata": {},
   "source": [
    "<br>\n",
    "<br>\n",
    "<br>\n",
    "The next big step is to convert all the selected columns that are <b>categorical (object type) to numeric</b>."
   ]
  },
  {
   "cell_type": "code",
   "execution_count": 390,
   "id": "5b1dd0fe",
   "metadata": {},
   "outputs": [],
   "source": [
    "cleandata = cleandata.astype({'Street': int, 'LotShape': int, 'Utilities': int, 'LandSlope': int, 'HouseStyle': int, 'ExterQual': int, 'ExterCond': int, 'BsmtQual': int, 'BsmtCond': int, 'BsmtExposure': int, 'BsmtFinType1': int, 'BsmtFinType2': int, 'HeatingQC': int, 'KitchenQual': int, 'Functional': int, 'GarageFinish': int, 'GarageQual': int, 'GarageCond': int, 'PavedDrive': int   })"
   ]
  },
  {
   "cell_type": "code",
   "execution_count": 391,
   "id": "06d05551",
   "metadata": {},
   "outputs": [
    {
     "name": "stdout",
     "output_type": "stream",
     "text": [
      "<class 'pandas.core.frame.DataFrame'>\n",
      "Int64Index: 1358 entries, 0 to 1459\n",
      "Data columns (total 53 columns):\n",
      " #   Column         Non-Null Count  Dtype  \n",
      "---  ------         --------------  -----  \n",
      " 0   LotFrontage    1358 non-null   float64\n",
      " 1   LotArea        1358 non-null   int64  \n",
      " 2   Street         1358 non-null   int32  \n",
      " 3   LotShape       1358 non-null   int32  \n",
      " 4   Utilities      1358 non-null   int32  \n",
      " 5   LandSlope      1358 non-null   int32  \n",
      " 6   HouseStyle     1358 non-null   int32  \n",
      " 7   OverallQual    1358 non-null   int64  \n",
      " 8   OverallCond    1358 non-null   int64  \n",
      " 9   YearBuilt      1358 non-null   int64  \n",
      " 10  YearRemodAdd   1358 non-null   int64  \n",
      " 11  ExterQual      1358 non-null   int32  \n",
      " 12  ExterCond      1358 non-null   int32  \n",
      " 13  BsmtQual       1358 non-null   int32  \n",
      " 14  BsmtCond       1358 non-null   int32  \n",
      " 15  BsmtExposure   1358 non-null   int32  \n",
      " 16  BsmtFinType1   1358 non-null   int32  \n",
      " 17  BsmtFinSF1     1358 non-null   int64  \n",
      " 18  BsmtFinType2   1358 non-null   int32  \n",
      " 19  BsmtFinSF2     1358 non-null   int64  \n",
      " 20  BsmtUnfSF      1358 non-null   int64  \n",
      " 21  TotalBsmtSF    1358 non-null   int64  \n",
      " 22  HeatingQC      1358 non-null   int32  \n",
      " 23  1stFlrSF       1358 non-null   int64  \n",
      " 24  2ndFlrSF       1358 non-null   int64  \n",
      " 25  LowQualFinSF   1358 non-null   int64  \n",
      " 26  GrLivArea      1358 non-null   int64  \n",
      " 27  BsmtFullBath   1358 non-null   int64  \n",
      " 28  BsmtHalfBath   1358 non-null   int64  \n",
      " 29  FullBath       1358 non-null   int64  \n",
      " 30  HalfBath       1358 non-null   int64  \n",
      " 31  BedroomAbvGr   1358 non-null   int64  \n",
      " 32  KitchenAbvGr   1358 non-null   int64  \n",
      " 33  KitchenQual    1358 non-null   int32  \n",
      " 34  TotRmsAbvGrd   1358 non-null   int64  \n",
      " 35  Functional     1358 non-null   int32  \n",
      " 36  Fireplaces     1358 non-null   int64  \n",
      " 37  GarageYrBlt    1358 non-null   float64\n",
      " 38  GarageFinish   1358 non-null   int32  \n",
      " 39  GarageCars     1358 non-null   int64  \n",
      " 40  GarageArea     1358 non-null   int64  \n",
      " 41  GarageQual     1358 non-null   int32  \n",
      " 42  GarageCond     1358 non-null   int32  \n",
      " 43  PavedDrive     1358 non-null   int32  \n",
      " 44  WoodDeckSF     1358 non-null   int64  \n",
      " 45  OpenPorchSF    1358 non-null   int64  \n",
      " 46  EnclosedPorch  1358 non-null   int64  \n",
      " 47  3SsnPorch      1358 non-null   int64  \n",
      " 48  ScreenPorch    1358 non-null   int64  \n",
      " 49  PoolArea       1358 non-null   int64  \n",
      " 50  MiscVal        1358 non-null   int64  \n",
      " 51  YrSold         1358 non-null   int64  \n",
      " 52  SalePrice      1358 non-null   int64  \n",
      "dtypes: float64(2), int32(19), int64(32)\n",
      "memory usage: 472.1 KB\n"
     ]
    }
   ],
   "source": [
    "cleandata.info()"
   ]
  },
  {
   "cell_type": "markdown",
   "id": "9d5d588c",
   "metadata": {},
   "source": [
    "Now there are no object-type columns left in the dataframe."
   ]
  },
  {
   "cell_type": "code",
   "execution_count": 394,
   "id": "c8c5db68",
   "metadata": {},
   "outputs": [
    {
     "data": {
      "text/html": [
       "<div>\n",
       "<style scoped>\n",
       "    .dataframe tbody tr th:only-of-type {\n",
       "        vertical-align: middle;\n",
       "    }\n",
       "\n",
       "    .dataframe tbody tr th {\n",
       "        vertical-align: top;\n",
       "    }\n",
       "\n",
       "    .dataframe thead th {\n",
       "        text-align: right;\n",
       "    }\n",
       "</style>\n",
       "<table border=\"1\" class=\"dataframe\">\n",
       "  <thead>\n",
       "    <tr style=\"text-align: right;\">\n",
       "      <th></th>\n",
       "      <th>LotFrontage</th>\n",
       "      <th>LotArea</th>\n",
       "      <th>Street</th>\n",
       "      <th>LotShape</th>\n",
       "      <th>Utilities</th>\n",
       "      <th>LandSlope</th>\n",
       "      <th>HouseStyle</th>\n",
       "      <th>OverallQual</th>\n",
       "      <th>OverallCond</th>\n",
       "      <th>YearBuilt</th>\n",
       "      <th>...</th>\n",
       "      <th>PavedDrive</th>\n",
       "      <th>WoodDeckSF</th>\n",
       "      <th>OpenPorchSF</th>\n",
       "      <th>EnclosedPorch</th>\n",
       "      <th>3SsnPorch</th>\n",
       "      <th>ScreenPorch</th>\n",
       "      <th>PoolArea</th>\n",
       "      <th>MiscVal</th>\n",
       "      <th>YrSold</th>\n",
       "      <th>SalePrice</th>\n",
       "    </tr>\n",
       "  </thead>\n",
       "  <tbody>\n",
       "    <tr>\n",
       "      <th>0</th>\n",
       "      <td>65.0</td>\n",
       "      <td>8450</td>\n",
       "      <td>2</td>\n",
       "      <td>4</td>\n",
       "      <td>4</td>\n",
       "      <td>3</td>\n",
       "      <td>4</td>\n",
       "      <td>7</td>\n",
       "      <td>5</td>\n",
       "      <td>2003</td>\n",
       "      <td>...</td>\n",
       "      <td>3</td>\n",
       "      <td>0</td>\n",
       "      <td>61</td>\n",
       "      <td>0</td>\n",
       "      <td>0</td>\n",
       "      <td>0</td>\n",
       "      <td>0</td>\n",
       "      <td>0</td>\n",
       "      <td>2008</td>\n",
       "      <td>208500</td>\n",
       "    </tr>\n",
       "    <tr>\n",
       "      <th>1</th>\n",
       "      <td>80.0</td>\n",
       "      <td>9600</td>\n",
       "      <td>2</td>\n",
       "      <td>4</td>\n",
       "      <td>4</td>\n",
       "      <td>3</td>\n",
       "      <td>1</td>\n",
       "      <td>6</td>\n",
       "      <td>8</td>\n",
       "      <td>1976</td>\n",
       "      <td>...</td>\n",
       "      <td>3</td>\n",
       "      <td>298</td>\n",
       "      <td>0</td>\n",
       "      <td>0</td>\n",
       "      <td>0</td>\n",
       "      <td>0</td>\n",
       "      <td>0</td>\n",
       "      <td>0</td>\n",
       "      <td>2007</td>\n",
       "      <td>181500</td>\n",
       "    </tr>\n",
       "    <tr>\n",
       "      <th>2</th>\n",
       "      <td>68.0</td>\n",
       "      <td>11250</td>\n",
       "      <td>2</td>\n",
       "      <td>3</td>\n",
       "      <td>4</td>\n",
       "      <td>3</td>\n",
       "      <td>4</td>\n",
       "      <td>7</td>\n",
       "      <td>5</td>\n",
       "      <td>2001</td>\n",
       "      <td>...</td>\n",
       "      <td>3</td>\n",
       "      <td>0</td>\n",
       "      <td>42</td>\n",
       "      <td>0</td>\n",
       "      <td>0</td>\n",
       "      <td>0</td>\n",
       "      <td>0</td>\n",
       "      <td>0</td>\n",
       "      <td>2008</td>\n",
       "      <td>223500</td>\n",
       "    </tr>\n",
       "    <tr>\n",
       "      <th>3</th>\n",
       "      <td>60.0</td>\n",
       "      <td>9550</td>\n",
       "      <td>2</td>\n",
       "      <td>3</td>\n",
       "      <td>4</td>\n",
       "      <td>3</td>\n",
       "      <td>4</td>\n",
       "      <td>7</td>\n",
       "      <td>5</td>\n",
       "      <td>1915</td>\n",
       "      <td>...</td>\n",
       "      <td>3</td>\n",
       "      <td>0</td>\n",
       "      <td>35</td>\n",
       "      <td>272</td>\n",
       "      <td>0</td>\n",
       "      <td>0</td>\n",
       "      <td>0</td>\n",
       "      <td>0</td>\n",
       "      <td>2006</td>\n",
       "      <td>140000</td>\n",
       "    </tr>\n",
       "    <tr>\n",
       "      <th>4</th>\n",
       "      <td>84.0</td>\n",
       "      <td>14260</td>\n",
       "      <td>2</td>\n",
       "      <td>3</td>\n",
       "      <td>4</td>\n",
       "      <td>3</td>\n",
       "      <td>4</td>\n",
       "      <td>8</td>\n",
       "      <td>5</td>\n",
       "      <td>2000</td>\n",
       "      <td>...</td>\n",
       "      <td>3</td>\n",
       "      <td>192</td>\n",
       "      <td>84</td>\n",
       "      <td>0</td>\n",
       "      <td>0</td>\n",
       "      <td>0</td>\n",
       "      <td>0</td>\n",
       "      <td>0</td>\n",
       "      <td>2008</td>\n",
       "      <td>250000</td>\n",
       "    </tr>\n",
       "    <tr>\n",
       "      <th>...</th>\n",
       "      <td>...</td>\n",
       "      <td>...</td>\n",
       "      <td>...</td>\n",
       "      <td>...</td>\n",
       "      <td>...</td>\n",
       "      <td>...</td>\n",
       "      <td>...</td>\n",
       "      <td>...</td>\n",
       "      <td>...</td>\n",
       "      <td>...</td>\n",
       "      <td>...</td>\n",
       "      <td>...</td>\n",
       "      <td>...</td>\n",
       "      <td>...</td>\n",
       "      <td>...</td>\n",
       "      <td>...</td>\n",
       "      <td>...</td>\n",
       "      <td>...</td>\n",
       "      <td>...</td>\n",
       "      <td>...</td>\n",
       "      <td>...</td>\n",
       "    </tr>\n",
       "    <tr>\n",
       "      <th>99</th>\n",
       "      <td>77.0</td>\n",
       "      <td>9320</td>\n",
       "      <td>2</td>\n",
       "      <td>3</td>\n",
       "      <td>4</td>\n",
       "      <td>3</td>\n",
       "      <td>1</td>\n",
       "      <td>4</td>\n",
       "      <td>5</td>\n",
       "      <td>1959</td>\n",
       "      <td>...</td>\n",
       "      <td>3</td>\n",
       "      <td>352</td>\n",
       "      <td>0</td>\n",
       "      <td>0</td>\n",
       "      <td>0</td>\n",
       "      <td>0</td>\n",
       "      <td>0</td>\n",
       "      <td>400</td>\n",
       "      <td>2010</td>\n",
       "      <td>128950</td>\n",
       "    </tr>\n",
       "    <tr>\n",
       "      <th>100</th>\n",
       "      <td>0.0</td>\n",
       "      <td>10603</td>\n",
       "      <td>2</td>\n",
       "      <td>3</td>\n",
       "      <td>4</td>\n",
       "      <td>3</td>\n",
       "      <td>1</td>\n",
       "      <td>6</td>\n",
       "      <td>7</td>\n",
       "      <td>1977</td>\n",
       "      <td>...</td>\n",
       "      <td>3</td>\n",
       "      <td>168</td>\n",
       "      <td>68</td>\n",
       "      <td>0</td>\n",
       "      <td>0</td>\n",
       "      <td>0</td>\n",
       "      <td>0</td>\n",
       "      <td>0</td>\n",
       "      <td>2010</td>\n",
       "      <td>205000</td>\n",
       "    </tr>\n",
       "    <tr>\n",
       "      <th>101</th>\n",
       "      <td>77.0</td>\n",
       "      <td>9206</td>\n",
       "      <td>2</td>\n",
       "      <td>4</td>\n",
       "      <td>4</td>\n",
       "      <td>3</td>\n",
       "      <td>4</td>\n",
       "      <td>6</td>\n",
       "      <td>5</td>\n",
       "      <td>1985</td>\n",
       "      <td>...</td>\n",
       "      <td>3</td>\n",
       "      <td>192</td>\n",
       "      <td>46</td>\n",
       "      <td>0</td>\n",
       "      <td>0</td>\n",
       "      <td>0</td>\n",
       "      <td>0</td>\n",
       "      <td>0</td>\n",
       "      <td>2010</td>\n",
       "      <td>178000</td>\n",
       "    </tr>\n",
       "    <tr>\n",
       "      <th>102</th>\n",
       "      <td>64.0</td>\n",
       "      <td>7018</td>\n",
       "      <td>2</td>\n",
       "      <td>4</td>\n",
       "      <td>4</td>\n",
       "      <td>3</td>\n",
       "      <td>1</td>\n",
       "      <td>5</td>\n",
       "      <td>5</td>\n",
       "      <td>1979</td>\n",
       "      <td>...</td>\n",
       "      <td>3</td>\n",
       "      <td>0</td>\n",
       "      <td>0</td>\n",
       "      <td>0</td>\n",
       "      <td>0</td>\n",
       "      <td>0</td>\n",
       "      <td>0</td>\n",
       "      <td>0</td>\n",
       "      <td>2009</td>\n",
       "      <td>118964</td>\n",
       "    </tr>\n",
       "    <tr>\n",
       "      <th>103</th>\n",
       "      <td>94.0</td>\n",
       "      <td>10402</td>\n",
       "      <td>2</td>\n",
       "      <td>3</td>\n",
       "      <td>4</td>\n",
       "      <td>3</td>\n",
       "      <td>1</td>\n",
       "      <td>7</td>\n",
       "      <td>5</td>\n",
       "      <td>2009</td>\n",
       "      <td>...</td>\n",
       "      <td>3</td>\n",
       "      <td>0</td>\n",
       "      <td>36</td>\n",
       "      <td>0</td>\n",
       "      <td>0</td>\n",
       "      <td>0</td>\n",
       "      <td>0</td>\n",
       "      <td>0</td>\n",
       "      <td>2010</td>\n",
       "      <td>198900</td>\n",
       "    </tr>\n",
       "  </tbody>\n",
       "</table>\n",
       "<p>100 rows × 53 columns</p>\n",
       "</div>"
      ],
      "text/plain": [
       "     LotFrontage  LotArea  Street  LotShape  Utilities  LandSlope  HouseStyle  \\\n",
       "0           65.0     8450       2         4          4          3           4   \n",
       "1           80.0     9600       2         4          4          3           1   \n",
       "2           68.0    11250       2         3          4          3           4   \n",
       "3           60.0     9550       2         3          4          3           4   \n",
       "4           84.0    14260       2         3          4          3           4   \n",
       "..           ...      ...     ...       ...        ...        ...         ...   \n",
       "99          77.0     9320       2         3          4          3           1   \n",
       "100          0.0    10603       2         3          4          3           1   \n",
       "101         77.0     9206       2         4          4          3           4   \n",
       "102         64.0     7018       2         4          4          3           1   \n",
       "103         94.0    10402       2         3          4          3           1   \n",
       "\n",
       "     OverallQual  OverallCond  YearBuilt  ...  PavedDrive  WoodDeckSF  \\\n",
       "0              7            5       2003  ...           3           0   \n",
       "1              6            8       1976  ...           3         298   \n",
       "2              7            5       2001  ...           3           0   \n",
       "3              7            5       1915  ...           3           0   \n",
       "4              8            5       2000  ...           3         192   \n",
       "..           ...          ...        ...  ...         ...         ...   \n",
       "99             4            5       1959  ...           3         352   \n",
       "100            6            7       1977  ...           3         168   \n",
       "101            6            5       1985  ...           3         192   \n",
       "102            5            5       1979  ...           3           0   \n",
       "103            7            5       2009  ...           3           0   \n",
       "\n",
       "     OpenPorchSF  EnclosedPorch  3SsnPorch  ScreenPorch  PoolArea  MiscVal  \\\n",
       "0             61              0          0            0         0        0   \n",
       "1              0              0          0            0         0        0   \n",
       "2             42              0          0            0         0        0   \n",
       "3             35            272          0            0         0        0   \n",
       "4             84              0          0            0         0        0   \n",
       "..           ...            ...        ...          ...       ...      ...   \n",
       "99             0              0          0            0         0      400   \n",
       "100           68              0          0            0         0        0   \n",
       "101           46              0          0            0         0        0   \n",
       "102            0              0          0            0         0        0   \n",
       "103           36              0          0            0         0        0   \n",
       "\n",
       "     YrSold  SalePrice  \n",
       "0      2008     208500  \n",
       "1      2007     181500  \n",
       "2      2008     223500  \n",
       "3      2006     140000  \n",
       "4      2008     250000  \n",
       "..      ...        ...  \n",
       "99     2010     128950  \n",
       "100    2010     205000  \n",
       "101    2010     178000  \n",
       "102    2009     118964  \n",
       "103    2010     198900  \n",
       "\n",
       "[100 rows x 53 columns]"
      ]
     },
     "execution_count": 394,
     "metadata": {},
     "output_type": "execute_result"
    }
   ],
   "source": [
    "cleandata.head(100)\n"
   ]
  },
  {
   "cell_type": "code",
   "execution_count": 395,
   "id": "5382911d",
   "metadata": {},
   "outputs": [],
   "source": [
    "cleandatabkup = cleandata #Just a backup, in case we accidentally corrupt cleandata in the next steps"
   ]
  },
  {
   "cell_type": "code",
   "execution_count": 396,
   "id": "90585109",
   "metadata": {},
   "outputs": [
    {
     "name": "stdout",
     "output_type": "stream",
     "text": [
      "<class 'pandas.core.frame.DataFrame'>\n",
      "Int64Index: 1358 entries, 0 to 1459\n",
      "Data columns (total 53 columns):\n",
      " #   Column         Non-Null Count  Dtype  \n",
      "---  ------         --------------  -----  \n",
      " 0   LotFrontage    1358 non-null   float64\n",
      " 1   LotArea        1358 non-null   int64  \n",
      " 2   Street         1358 non-null   int32  \n",
      " 3   LotShape       1358 non-null   int32  \n",
      " 4   Utilities      1358 non-null   int32  \n",
      " 5   LandSlope      1358 non-null   int32  \n",
      " 6   HouseStyle     1358 non-null   int32  \n",
      " 7   OverallQual    1358 non-null   int64  \n",
      " 8   OverallCond    1358 non-null   int64  \n",
      " 9   YearBuilt      1358 non-null   int64  \n",
      " 10  YearRemodAdd   1358 non-null   int64  \n",
      " 11  ExterQual      1358 non-null   int32  \n",
      " 12  ExterCond      1358 non-null   int32  \n",
      " 13  BsmtQual       1358 non-null   int32  \n",
      " 14  BsmtCond       1358 non-null   int32  \n",
      " 15  BsmtExposure   1358 non-null   int32  \n",
      " 16  BsmtFinType1   1358 non-null   int32  \n",
      " 17  BsmtFinSF1     1358 non-null   int64  \n",
      " 18  BsmtFinType2   1358 non-null   int32  \n",
      " 19  BsmtFinSF2     1358 non-null   int64  \n",
      " 20  BsmtUnfSF      1358 non-null   int64  \n",
      " 21  TotalBsmtSF    1358 non-null   int64  \n",
      " 22  HeatingQC      1358 non-null   int32  \n",
      " 23  1stFlrSF       1358 non-null   int64  \n",
      " 24  2ndFlrSF       1358 non-null   int64  \n",
      " 25  LowQualFinSF   1358 non-null   int64  \n",
      " 26  GrLivArea      1358 non-null   int64  \n",
      " 27  BsmtFullBath   1358 non-null   int64  \n",
      " 28  BsmtHalfBath   1358 non-null   int64  \n",
      " 29  FullBath       1358 non-null   int64  \n",
      " 30  HalfBath       1358 non-null   int64  \n",
      " 31  BedroomAbvGr   1358 non-null   int64  \n",
      " 32  KitchenAbvGr   1358 non-null   int64  \n",
      " 33  KitchenQual    1358 non-null   int32  \n",
      " 34  TotRmsAbvGrd   1358 non-null   int64  \n",
      " 35  Functional     1358 non-null   int32  \n",
      " 36  Fireplaces     1358 non-null   int64  \n",
      " 37  GarageYrBlt    1358 non-null   float64\n",
      " 38  GarageFinish   1358 non-null   int32  \n",
      " 39  GarageCars     1358 non-null   int64  \n",
      " 40  GarageArea     1358 non-null   int64  \n",
      " 41  GarageQual     1358 non-null   int32  \n",
      " 42  GarageCond     1358 non-null   int32  \n",
      " 43  PavedDrive     1358 non-null   int32  \n",
      " 44  WoodDeckSF     1358 non-null   int64  \n",
      " 45  OpenPorchSF    1358 non-null   int64  \n",
      " 46  EnclosedPorch  1358 non-null   int64  \n",
      " 47  3SsnPorch      1358 non-null   int64  \n",
      " 48  ScreenPorch    1358 non-null   int64  \n",
      " 49  PoolArea       1358 non-null   int64  \n",
      " 50  MiscVal        1358 non-null   int64  \n",
      " 51  YrSold         1358 non-null   int64  \n",
      " 52  SalePrice      1358 non-null   int64  \n",
      "dtypes: float64(2), int32(19), int64(32)\n",
      "memory usage: 472.1 KB\n"
     ]
    }
   ],
   "source": [
    "cleandatabkup.info()"
   ]
  },
  {
   "cell_type": "markdown",
   "id": "85d6b02b",
   "metadata": {},
   "source": [
    "<br>\n",
    "<br>\n",
    "<br>\n",
    "<font color = 'blue'>\n",
    "<b><font size = '5'>\n",
    "Now that we have all the data we need in numeric form, we can proceed to built the predictive model. \n",
    "<font size>    \n",
    "    </b>"
   ]
  },
  {
   "cell_type": "markdown",
   "id": "e5ba0234",
   "metadata": {},
   "source": [
    "<br>\n",
    "<br>\n",
    "<br>\n",
    "<b><font size = '3'>\n",
    "    First let's us see what results a <font size = '4'>Linear Regression </font size>model gives us\n",
    "<font size>    \n",
    "    </b>"
   ]
  },
  {
   "cell_type": "code",
   "execution_count": 414,
   "id": "44b15286",
   "metadata": {},
   "outputs": [],
   "source": [
    "#First we create the datasets for X (predictors) and y(response)\n",
    "X = cleandata.iloc[:,:-1] #All columns except for SalePrice\n",
    "y = np.array(cleandata['SalePrice']).reshape(-1,1) #Only the SalePrice column\n"
   ]
  },
  {
   "cell_type": "code",
   "execution_count": 415,
   "id": "42394ae7",
   "metadata": {},
   "outputs": [
    {
     "name": "stdout",
     "output_type": "stream",
     "text": [
      "<class 'pandas.core.frame.DataFrame'>\n",
      "Int64Index: 1358 entries, 0 to 1459\n",
      "Data columns (total 52 columns):\n",
      " #   Column         Non-Null Count  Dtype  \n",
      "---  ------         --------------  -----  \n",
      " 0   LotFrontage    1358 non-null   float64\n",
      " 1   LotArea        1358 non-null   int64  \n",
      " 2   Street         1358 non-null   int32  \n",
      " 3   LotShape       1358 non-null   int32  \n",
      " 4   Utilities      1358 non-null   int32  \n",
      " 5   LandSlope      1358 non-null   int32  \n",
      " 6   HouseStyle     1358 non-null   int32  \n",
      " 7   OverallQual    1358 non-null   int64  \n",
      " 8   OverallCond    1358 non-null   int64  \n",
      " 9   YearBuilt      1358 non-null   int64  \n",
      " 10  YearRemodAdd   1358 non-null   int64  \n",
      " 11  ExterQual      1358 non-null   int32  \n",
      " 12  ExterCond      1358 non-null   int32  \n",
      " 13  BsmtQual       1358 non-null   int32  \n",
      " 14  BsmtCond       1358 non-null   int32  \n",
      " 15  BsmtExposure   1358 non-null   int32  \n",
      " 16  BsmtFinType1   1358 non-null   int32  \n",
      " 17  BsmtFinSF1     1358 non-null   int64  \n",
      " 18  BsmtFinType2   1358 non-null   int32  \n",
      " 19  BsmtFinSF2     1358 non-null   int64  \n",
      " 20  BsmtUnfSF      1358 non-null   int64  \n",
      " 21  TotalBsmtSF    1358 non-null   int64  \n",
      " 22  HeatingQC      1358 non-null   int32  \n",
      " 23  1stFlrSF       1358 non-null   int64  \n",
      " 24  2ndFlrSF       1358 non-null   int64  \n",
      " 25  LowQualFinSF   1358 non-null   int64  \n",
      " 26  GrLivArea      1358 non-null   int64  \n",
      " 27  BsmtFullBath   1358 non-null   int64  \n",
      " 28  BsmtHalfBath   1358 non-null   int64  \n",
      " 29  FullBath       1358 non-null   int64  \n",
      " 30  HalfBath       1358 non-null   int64  \n",
      " 31  BedroomAbvGr   1358 non-null   int64  \n",
      " 32  KitchenAbvGr   1358 non-null   int64  \n",
      " 33  KitchenQual    1358 non-null   int32  \n",
      " 34  TotRmsAbvGrd   1358 non-null   int64  \n",
      " 35  Functional     1358 non-null   int32  \n",
      " 36  Fireplaces     1358 non-null   int64  \n",
      " 37  GarageYrBlt    1358 non-null   float64\n",
      " 38  GarageFinish   1358 non-null   int32  \n",
      " 39  GarageCars     1358 non-null   int64  \n",
      " 40  GarageArea     1358 non-null   int64  \n",
      " 41  GarageQual     1358 non-null   int32  \n",
      " 42  GarageCond     1358 non-null   int32  \n",
      " 43  PavedDrive     1358 non-null   int32  \n",
      " 44  WoodDeckSF     1358 non-null   int64  \n",
      " 45  OpenPorchSF    1358 non-null   int64  \n",
      " 46  EnclosedPorch  1358 non-null   int64  \n",
      " 47  3SsnPorch      1358 non-null   int64  \n",
      " 48  ScreenPorch    1358 non-null   int64  \n",
      " 49  PoolArea       1358 non-null   int64  \n",
      " 50  MiscVal        1358 non-null   int64  \n",
      " 51  YrSold         1358 non-null   int64  \n",
      "dtypes: float64(2), int32(19), int64(31)\n",
      "memory usage: 461.5 KB\n"
     ]
    }
   ],
   "source": [
    "X.info()"
   ]
  },
  {
   "cell_type": "code",
   "execution_count": 417,
   "id": "dc6f40ce",
   "metadata": {},
   "outputs": [
    {
     "data": {
      "text/plain": [
       "1358"
      ]
     },
     "execution_count": 417,
     "metadata": {},
     "output_type": "execute_result"
    }
   ],
   "source": [
    "len(y)\n",
    "#As you see below, y too has 1358 entries"
   ]
  },
  {
   "cell_type": "code",
   "execution_count": 419,
   "id": "bcca4ebd",
   "metadata": {},
   "outputs": [
    {
     "data": {
      "text/plain": [
       "array([[208500],\n",
       "       [181500],\n",
       "       [223500],\n",
       "       [140000],\n",
       "       [250000],\n",
       "       [143000],\n",
       "       [307000],\n",
       "       [200000],\n",
       "       [129900],\n",
       "       [118000],\n",
       "       [129500],\n",
       "       [345000],\n",
       "       [144000],\n",
       "       [279500],\n",
       "       [157000],\n",
       "       [132000],\n",
       "       [149000],\n",
       "       [ 90000],\n",
       "       [159000],\n",
       "       [139000]], dtype=int64)"
      ]
     },
     "execution_count": 419,
     "metadata": {},
     "output_type": "execute_result"
    }
   ],
   "source": [
    "y[0:20] #Just a quick glance at the first few rows in y"
   ]
  },
  {
   "cell_type": "markdown",
   "id": "e88f0285",
   "metadata": {},
   "source": []
  },
  {
   "cell_type": "code",
   "execution_count": 420,
   "id": "b3f6d458",
   "metadata": {},
   "outputs": [],
   "source": [
    "#Let's split the data into train and test parts and then fit an LR line to it\n",
    "from sklearn.model_selection import train_test_split\n",
    "X_train, X_test, y_train, y_test = train_test_split(X, y, train_size=0.7, test_size=0.3, random_state=100)\n"
   ]
  },
  {
   "cell_type": "code",
   "execution_count": 428,
   "id": "fb72cf16",
   "metadata": {},
   "outputs": [
    {
     "data": {
      "text/plain": [
       "LinearRegression()"
      ]
     },
     "execution_count": 428,
     "metadata": {},
     "output_type": "execute_result"
    }
   ],
   "source": [
    "#Let's now initiate an LR model and fit an LR line into it\n",
    "lm = LinearRegression()\n",
    "lm.fit(X_train, y_train)"
   ]
  },
  {
   "cell_type": "code",
   "execution_count": 429,
   "id": "721e2698",
   "metadata": {},
   "outputs": [
    {
     "name": "stdout",
     "output_type": "stream",
     "text": [
      "[-1995691.01963522]\n",
      "[[ 7.40595751e+01  5.02911862e-01  2.81063315e+04 -3.45785481e+03\n",
      "  -3.85873093e-08  4.01858985e+03 -5.15369208e+03  1.01918424e+04\n",
      "   7.23883858e+03  1.93940515e+02 -3.66593101e+01  1.40669116e+04\n",
      "  -7.61854791e+03  6.42782515e+03 -1.37618746e+04  4.38974557e+03\n",
      "  -4.53226792e+02  2.21581682e+01 -1.42434971e+03  1.20343406e+01\n",
      "  -1.73989392e+00  3.24526148e+01  1.67163550e+03  8.23675780e+00\n",
      "   3.35935445e+01 -1.08457275e+01  3.09845749e+01 -3.29871396e+03\n",
      "  -9.96875100e+03 -2.47378621e+03  2.95198929e+03 -6.89909979e+03\n",
      "  -2.04422473e+04  1.00256238e+04  4.00557195e+03  5.04570296e+03\n",
      "   6.56758239e+03  1.38566167e+01 -1.44950121e+03  3.43235999e+03\n",
      "   3.57720185e+01  1.69303897e+03 -8.28828362e+03 -3.49141584e+02\n",
      "   5.10836929e+00 -2.29824021e+01 -2.33468218e+00 -1.50395521e+01\n",
      "   3.00675504e+01  5.50745777e+01  5.11612757e-01  7.44775337e+02]]\n"
     ]
    }
   ],
   "source": [
    "#Now let's find the intercept and coefficient values\n",
    "print(lm.intercept_)\n",
    "print(lm.coef_)"
   ]
  },
  {
   "cell_type": "code",
   "execution_count": 430,
   "id": "dec8d856",
   "metadata": {},
   "outputs": [
    {
     "name": "stdout",
     "output_type": "stream",
     "text": [
      "0.8652466749200534\n",
      "0.6743273541015498\n",
      "843153408386.2876\n",
      "886273630827.4418\n",
      "887529903.5645132\n"
     ]
    }
   ],
   "source": [
    "#Let's see how well the model is doing in terms of the error metrics\n",
    "from sklearn.metrics import r2_score, mean_squared_error\n",
    "y_pred_train = lm.predict(X_train)\n",
    "y_pred_test = lm.predict(X_test)\n",
    "\n",
    "metric = []\n",
    "r2_train_lr = r2_score(y_train, y_pred_train)\n",
    "print(r2_train_lr)\n",
    "metric.append(r2_train_lr)\n",
    "\n",
    "r2_test_lr = r2_score(y_test, y_pred_test)\n",
    "print(r2_test_lr)\n",
    "metric.append(r2_test_lr)\n",
    "\n",
    "rss1_lr = np.sum(np.square(y_train - y_pred_train))\n",
    "print(rss1_lr)\n",
    "metric.append(rss1_lr)\n",
    "\n",
    "rss2_lr = np.sum(np.square(y_test - y_pred_test))\n",
    "print(rss2_lr)\n",
    "metric.append(rss2_lr)\n",
    "\n",
    "mse_train_lr = mean_squared_error(y_train, y_pred_train)\n",
    "print(mse_train_lr)\n",
    "metric.append(mse_train_lr ** 0.5)\n",
    "\n"
   ]
  },
  {
   "cell_type": "markdown",
   "id": "7f6c4b8e",
   "metadata": {},
   "source": [
    "We see that the r2 value for the <b>training dataset is 86%</b> where as that for the <b>test dataset is only 67%</b>. This is a strong indication of <b>overfitting</b>."
   ]
  },
  {
   "cell_type": "markdown",
   "id": "d1b8b4e2",
   "metadata": {},
   "source": [
    "<br>\n",
    "<br> <font color ='blue'>\n",
    "Let us see if we get any better result through <b><font size = '4'>Ridge regression<font size></b>"
   ]
  },
  {
   "cell_type": "code",
   "execution_count": 434,
   "id": "5375f6bb",
   "metadata": {},
   "outputs": [
    {
     "name": "stdout",
     "output_type": "stream",
     "text": [
      "Fitting 5 folds for each of 28 candidates, totalling 140 fits\n"
     ]
    },
    {
     "data": {
      "text/plain": [
       "GridSearchCV(cv=5, estimator=Ridge(),\n",
       "             param_grid={'alpha': [0.0001, 0.001, 0.01, 0.05, 0.1, 0.2, 0.3,\n",
       "                                   0.4, 0.5, 0.6, 0.7, 0.8, 0.9, 1, 2, 3, 4, 5,\n",
       "                                   6, 7, 8, 9, 10, 20, 50, 100, 500, 1000]},\n",
       "             return_train_score=True, scoring='neg_mean_absolute_error',\n",
       "             verbose=1)"
      ]
     },
     "execution_count": 434,
     "metadata": {},
     "output_type": "execute_result"
    }
   ],
   "source": [
    "#First let's create a list of lambda values we will build the Ridge regression model against\n",
    "from sklearn.model_selection import GridSearchCV\n",
    "params = {'alpha': [0.0001, 0.001, 0.01, 0.05, 0.1, 0.2, 0.3, 0.4, 0.5, 0.6, 0.7, 0.8, 0.9, 1, 2, 3, 4, 5, 6, 7, 8, 9, 10, 20, 50, 100, 500, 1000]}\n",
    "\n",
    "ridge = Ridge()\n",
    "\n",
    "folds = 5\n",
    "model_cv = GridSearchCV(estimator = ridge, param_grid = params, scoring='neg_mean_absolute_error',cv=folds,return_train_score=True,verbose=1)\n",
    "model_cv.fit(X_train, y_train)"
   ]
  },
  {
   "cell_type": "code",
   "execution_count": 435,
   "id": "cee800a3",
   "metadata": {},
   "outputs": [
    {
     "name": "stdout",
     "output_type": "stream",
     "text": [
      "{'alpha': 100}\n"
     ]
    }
   ],
   "source": [
    "#Now we will check what the best value for lambda is\n",
    "print(model_cv.best_params_) #This gives us the highest negative mean absolute error"
   ]
  },
  {
   "cell_type": "code",
   "execution_count": 436,
   "id": "3eb40a5a",
   "metadata": {},
   "outputs": [
    {
     "name": "stdout",
     "output_type": "stream",
     "text": [
      "[[ 8.30213164e+01  5.00661259e-01  6.83667346e+02 -2.99216961e+03\n",
      "   0.00000000e+00  1.75025656e+03 -2.99051810e+03  1.08626727e+04\n",
      "   5.95701624e+03  2.70349209e+02  3.20933009e+01  9.24890959e+03\n",
      "  -3.64031253e+03  3.78586846e+03 -6.79852246e+03  3.67987165e+03\n",
      "  -6.89235488e+02  2.26876124e+01 -1.41579017e+03  9.26268274e+00\n",
      "  -1.54793189e+00  3.04023630e+01  2.12084917e+03  1.26019157e+01\n",
      "   2.98823951e+01 -9.41668530e+00  3.30676260e+01 -1.57620105e+03\n",
      "  -3.02871346e+03 -2.30906880e+03  1.47587334e+03 -6.15517384e+03\n",
      "  -5.48682643e+03  8.36780166e+03  2.43984251e+03  3.28453317e+03\n",
      "   5.34911621e+03  7.36260980e+00 -2.76052424e+02  1.88066524e+03\n",
      "   3.93595649e+01 -2.27609559e+03 -3.28591603e+03 -6.78657114e+02\n",
      "   6.43137613e+00 -1.88172313e+01 -4.25290569e-01 -1.79317608e+01\n",
      "   3.35627114e+01  5.24815125e+01  4.37485704e-01  6.11311117e+02]]\n"
     ]
    }
   ],
   "source": [
    "#Now that we know the best lambda is 100, we will fit it into the ridge regression model and run it again\n",
    "alpha = 100\n",
    "ridge = Ridge(alpha=alpha)\n",
    "ridge.fit(X_train, y_train)\n",
    "print(ridge.coef_)"
   ]
  },
  {
   "cell_type": "code",
   "execution_count": 437,
   "id": "0715acd5",
   "metadata": {},
   "outputs": [
    {
     "name": "stdout",
     "output_type": "stream",
     "text": [
      "0.8604164325889145\n",
      "0.6705082166535195\n",
      "873376301086.0798\n",
      "896666891837.6108\n",
      "919343474.8274524\n"
     ]
    }
   ],
   "source": [
    "#Let's see how well the model is doing in terms of the error metrics\n",
    "\n",
    "y_pred_train = ridge.predict(X_train)\n",
    "y_pred_test = ridge.predict(X_test)\n",
    "\n",
    "metric = []\n",
    "r2_train_ridge = r2_score(y_train, y_pred_train)\n",
    "print(r2_train_ridge)\n",
    "metric.append(r2_train_ridge)\n",
    "\n",
    "r2_test_ridge = r2_score(y_test, y_pred_test)\n",
    "print(r2_test_ridge)\n",
    "metric.append(r2_test_ridge)\n",
    "\n",
    "rss1_ridge = np.sum(np.square(y_train - y_pred_train))\n",
    "print(rss1_ridge)\n",
    "metric.append(rss1_ridge)\n",
    "\n",
    "rss2_ridge = np.sum(np.square(y_test - y_pred_test))\n",
    "print(rss2_ridge)\n",
    "metric.append(rss2_ridge)\n",
    "\n",
    "mse_train_ridge = mean_squared_error(y_train, y_pred_train)\n",
    "print(mse_train_ridge)\n",
    "metric.append(mse_train_ridge ** 0.5)\n"
   ]
  },
  {
   "cell_type": "markdown",
   "id": "5cf32a9e",
   "metadata": {},
   "source": [
    "We see that the r2 value for the <b>training dataset is still 86%</b> and that for the <b>test dataset is 67%</b>. This is a strong indication of <b>overfitting</b>. This shows that <b>Ridge regression is also not doing a good job of handling the overfitting.</b>"
   ]
  },
  {
   "cell_type": "markdown",
   "id": "7b5a4915",
   "metadata": {},
   "source": [
    "<br>\n",
    "<br>\n",
    "<br>\n",
    "Let's see if <b>Lasso Regression </b> give us a better model"
   ]
  },
  {
   "cell_type": "code",
   "execution_count": 440,
   "id": "130a5729",
   "metadata": {},
   "outputs": [
    {
     "name": "stdout",
     "output_type": "stream",
     "text": [
      "Fitting 5 folds for each of 28 candidates, totalling 140 fits\n"
     ]
    },
    {
     "data": {
      "text/plain": [
       "GridSearchCV(cv=5, estimator=Lasso(),\n",
       "             param_grid={'alpha': [0.0001, 0.001, 0.01, 0.05, 0.1, 0.2, 0.3,\n",
       "                                   0.4, 0.5, 0.6, 0.7, 0.8, 0.9, 1, 2, 3, 4, 5,\n",
       "                                   6, 7, 8, 9, 10, 20, 50, 100, 500, 1000]},\n",
       "             return_train_score=True, scoring='neg_mean_absolute_error',\n",
       "             verbose=1)"
      ]
     },
     "execution_count": 440,
     "metadata": {},
     "output_type": "execute_result"
    }
   ],
   "source": [
    "lasso = Lasso()\n",
    "model_cv = GridSearchCV(estimator = lasso, param_grid = params, scoring='neg_mean_absolute_error',cv=folds,return_train_score=True,verbose=1)\n",
    "model_cv.fit(X_train, y_train)"
   ]
  },
  {
   "cell_type": "code",
   "execution_count": 441,
   "id": "b440223d",
   "metadata": {},
   "outputs": [
    {
     "name": "stdout",
     "output_type": "stream",
     "text": [
      "{'alpha': 500}\n"
     ]
    }
   ],
   "source": [
    "#let's find the best lambda\n",
    "print(model_cv.best_params_)"
   ]
  },
  {
   "cell_type": "code",
   "execution_count": 442,
   "id": "a457d865",
   "metadata": {},
   "outputs": [
    {
     "data": {
      "text/plain": [
       "Lasso(alpha=500)"
      ]
     },
     "execution_count": 442,
     "metadata": {},
     "output_type": "execute_result"
    }
   ],
   "source": [
    "#the best value for lambda is 500, so let's use this for our alpha\n",
    "alpha = 500\n",
    "lasso = Lasso(alpha=alpha)\n",
    "lasso.fit(X_train, y_train)"
   ]
  },
  {
   "cell_type": "code",
   "execution_count": 444,
   "id": "48824142",
   "metadata": {},
   "outputs": [
    {
     "data": {
      "text/plain": [
       "array([ 8.56821883e+01,  5.19983543e-01,  0.00000000e+00, -2.23892439e+03,\n",
       "        0.00000000e+00,  0.00000000e+00, -1.90758988e+03,  1.14111593e+04,\n",
       "        5.88183983e+03,  2.45943693e+02,  7.52712260e+00,  1.24824634e+04,\n",
       "       -2.83196587e+03,  3.08803936e+03, -8.69611252e+03,  3.27141847e+03,\n",
       "       -5.58908479e+02,  4.14271786e+01, -0.00000000e+00,  2.18865195e+01,\n",
       "        1.87482386e+01,  1.26310119e+01,  1.10861609e+03,  3.53904442e+01,\n",
       "        5.25319134e+01,  8.93380350e+00,  7.28988994e+00, -0.00000000e+00,\n",
       "       -0.00000000e+00, -8.10312814e+01,  0.00000000e+00, -5.93464692e+03,\n",
       "       -8.19146852e+03,  9.16106943e+03,  2.21540149e+03,  2.61439475e+03,\n",
       "        5.20716238e+03,  1.02268527e+01, -0.00000000e+00,  0.00000000e+00,\n",
       "        4.02756179e+01, -0.00000000e+00, -4.96276612e+03, -0.00000000e+00,\n",
       "        7.04855556e+00, -1.96597733e+01, -3.27715069e+00, -1.71517044e+01,\n",
       "        3.44658127e+01,  5.19052340e+01,  3.59902099e-01,  2.30354456e+02])"
      ]
     },
     "execution_count": 444,
     "metadata": {},
     "output_type": "execute_result"
    }
   ],
   "source": [
    "#Find the coefficients\n",
    "lasso.coef_"
   ]
  },
  {
   "cell_type": "markdown",
   "id": "c37ab3ae",
   "metadata": {},
   "source": [
    "As we can see, unlike Ridge, Lasso regression has made <b>several coefficients 0</b>, thereby effectively removing those predictors from the equation."
   ]
  },
  {
   "cell_type": "code",
   "execution_count": 445,
   "id": "d656ffd0",
   "metadata": {},
   "outputs": [
    {
     "name": "stdout",
     "output_type": "stream",
     "text": [
      "0.860098460826896\n",
      "0.6713628028231442\n",
      "1.0973141021497226e+16\n",
      "2204284238273920.0\n",
      "921437741.8677136\n"
     ]
    }
   ],
   "source": [
    "y_pred_train = lasso.predict(X_train)\n",
    "y_pred_test = lasso.predict(X_test)\n",
    "\n",
    "metric = []\n",
    "r2_train_lasso = r2_score(y_train, y_pred_train)\n",
    "print(r2_train_lasso)\n",
    "metric.append(r2_train_lasso)\n",
    "\n",
    "r2_test_lasso = r2_score(y_test, y_pred_test)\n",
    "print(r2_test_lasso)\n",
    "metric.append(r2_test_lasso)\n",
    "\n",
    "rss1_lasso = np.sum(np.square(y_train - y_pred_train))\n",
    "print(rss1_lasso)\n",
    "metric.append(rss1_lasso)\n",
    "\n",
    "rss2_lasso = np.sum(np.square(y_test - y_pred_test))\n",
    "print(rss2_lasso)\n",
    "metric.append(rss2_lasso)\n",
    "\n",
    "mse_train_lasso = mean_squared_error(y_train, y_pred_train)\n",
    "print(mse_train_lasso)\n",
    "metric.append(mse_train_lasso ** 0.5)"
   ]
  },
  {
   "cell_type": "markdown",
   "id": "20a7f787",
   "metadata": {},
   "source": [
    "We see that the r2 value for the <b>training dataset is still 86%</b> and that for the <b>test dataset is still 67%</b>. So Lasso regression too doesn't seem to have handled the overfitting well. \n",
    "<br>\n",
    "<br>\n",
    "<br>\n",
    "Let's not try to <b>remove the ordinal category type variables</b> from the predictors and <b>retain only the purely numeric</b> predictors to see if that improves our model."
   ]
  },
  {
   "cell_type": "code",
   "execution_count": 446,
   "id": "936ce1d3",
   "metadata": {},
   "outputs": [],
   "source": [
    "X = cleandata[['LotArea','OverallQual','OverallCond','YearBuilt','YearRemodAdd','BsmtQual' ,'BsmtCond' ,'BsmtExposure','BsmtFinType1' ,'BsmtFinSF1','BsmtFinType2' ,'BsmtFinSF2','BsmtUnfSF','TotalBsmtSF','1stFlrSF','2ndFlrSF','LowQualFinSF','GrLivArea','BsmtFullBath','BsmtHalfBath','FullBath','HalfBath','BedroomAbvGr','KitchenAbvGr','TotRmsAbvGrd','Fireplaces','GarageYrBlt','GarageFinish','GarageCars','GarageArea','GarageQual','GarageCond','WoodDeckSF','OpenPorchSF','EnclosedPorch','3SsnPorch','ScreenPorch','PoolArea','MiscVal','YrSold']]"
   ]
  },
  {
   "cell_type": "code",
   "execution_count": 448,
   "id": "799adfb7",
   "metadata": {},
   "outputs": [
    {
     "name": "stdout",
     "output_type": "stream",
     "text": [
      "<class 'pandas.core.frame.DataFrame'>\n",
      "Int64Index: 1358 entries, 0 to 1459\n",
      "Data columns (total 40 columns):\n",
      " #   Column         Non-Null Count  Dtype  \n",
      "---  ------         --------------  -----  \n",
      " 0   LotArea        1358 non-null   int64  \n",
      " 1   OverallQual    1358 non-null   int64  \n",
      " 2   OverallCond    1358 non-null   int64  \n",
      " 3   YearBuilt      1358 non-null   int64  \n",
      " 4   YearRemodAdd   1358 non-null   int64  \n",
      " 5   BsmtQual       1358 non-null   int32  \n",
      " 6   BsmtCond       1358 non-null   int32  \n",
      " 7   BsmtExposure   1358 non-null   int32  \n",
      " 8   BsmtFinType1   1358 non-null   int32  \n",
      " 9   BsmtFinSF1     1358 non-null   int64  \n",
      " 10  BsmtFinType2   1358 non-null   int32  \n",
      " 11  BsmtFinSF2     1358 non-null   int64  \n",
      " 12  BsmtUnfSF      1358 non-null   int64  \n",
      " 13  TotalBsmtSF    1358 non-null   int64  \n",
      " 14  1stFlrSF       1358 non-null   int64  \n",
      " 15  2ndFlrSF       1358 non-null   int64  \n",
      " 16  LowQualFinSF   1358 non-null   int64  \n",
      " 17  GrLivArea      1358 non-null   int64  \n",
      " 18  BsmtFullBath   1358 non-null   int64  \n",
      " 19  BsmtHalfBath   1358 non-null   int64  \n",
      " 20  FullBath       1358 non-null   int64  \n",
      " 21  HalfBath       1358 non-null   int64  \n",
      " 22  BedroomAbvGr   1358 non-null   int64  \n",
      " 23  KitchenAbvGr   1358 non-null   int64  \n",
      " 24  TotRmsAbvGrd   1358 non-null   int64  \n",
      " 25  Fireplaces     1358 non-null   int64  \n",
      " 26  GarageYrBlt    1358 non-null   float64\n",
      " 27  GarageFinish   1358 non-null   int32  \n",
      " 28  GarageCars     1358 non-null   int64  \n",
      " 29  GarageArea     1358 non-null   int64  \n",
      " 30  GarageQual     1358 non-null   int32  \n",
      " 31  GarageCond     1358 non-null   int32  \n",
      " 32  WoodDeckSF     1358 non-null   int64  \n",
      " 33  OpenPorchSF    1358 non-null   int64  \n",
      " 34  EnclosedPorch  1358 non-null   int64  \n",
      " 35  3SsnPorch      1358 non-null   int64  \n",
      " 36  ScreenPorch    1358 non-null   int64  \n",
      " 37  PoolArea       1358 non-null   int64  \n",
      " 38  MiscVal        1358 non-null   int64  \n",
      " 39  YrSold         1358 non-null   int64  \n",
      "dtypes: float64(1), int32(8), int64(31)\n",
      "memory usage: 392.5 KB\n"
     ]
    }
   ],
   "source": [
    "X.info()"
   ]
  },
  {
   "cell_type": "code",
   "execution_count": 450,
   "id": "44e9a3d2",
   "metadata": {},
   "outputs": [],
   "source": [
    "#Let's split the data again into train and test datasets and run LR against them\n",
    "X_train, X_test, y_train, y_test = train_test_split(X, y, train_size=0.7, test_size=0.3, random_state=100)"
   ]
  },
  {
   "cell_type": "code",
   "execution_count": 451,
   "id": "b5cfb861",
   "metadata": {},
   "outputs": [
    {
     "data": {
      "text/plain": [
       "LinearRegression()"
      ]
     },
     "execution_count": 451,
     "metadata": {},
     "output_type": "execute_result"
    }
   ],
   "source": [
    "#Let's now initiate an LR model and fit an LR line into it\n",
    "lm = LinearRegression()\n",
    "lm.fit(X_train, y_train)"
   ]
  },
  {
   "cell_type": "code",
   "execution_count": 452,
   "id": "f55a39cf",
   "metadata": {},
   "outputs": [
    {
     "name": "stdout",
     "output_type": "stream",
     "text": [
      "[-1937513.19660444]\n",
      "[[ 4.88817403e-01  1.40701196e+04  7.76149685e+03  3.11258451e+02\n",
      "   9.83444091e+01  7.00335157e+03 -1.64642159e+04  4.34807832e+03\n",
      "  -2.27076647e+02  2.33385158e+01 -1.84600151e+03  1.35396994e+01\n",
      "   1.39633389e+00  3.82745491e+01  1.41753454e+01  3.03380109e+01\n",
      "  -2.09360473e+01  2.35773090e+01 -2.71593676e+03 -9.70600507e+03\n",
      "  -3.50645317e+03 -1.05843032e+02 -8.66977029e+03 -2.17175266e+04\n",
      "   4.96062056e+03  6.14343905e+03  5.44164367e+01  2.41172968e+02\n",
      "   4.45061787e+03  4.08034835e+01 -2.24109257e+03 -6.49131922e+03\n",
      "   2.50628709e+00 -2.42579262e+01  7.11708893e+00 -1.70945522e+01\n",
      "   2.76180179e+01  7.10400709e+01 -4.83948092e-01  4.92910467e+02]]\n"
     ]
    }
   ],
   "source": [
    "#Now let's find the intercept and coefficient values\n",
    "print(lm.intercept_)\n",
    "print(lm.coef_)"
   ]
  },
  {
   "cell_type": "code",
   "execution_count": 453,
   "id": "422e86a6",
   "metadata": {},
   "outputs": [
    {
     "name": "stdout",
     "output_type": "stream",
     "text": [
      "0.8514532395033287\n",
      "0.6556179451203846\n",
      "929459123499.9424\n",
      "937188732347.952\n",
      "978378024.7367815\n"
     ]
    }
   ],
   "source": [
    "y_pred_train = lm.predict(X_train)\n",
    "y_pred_test = lm.predict(X_test)\n",
    "\n",
    "metric = []\n",
    "r2_train_lr = r2_score(y_train, y_pred_train)\n",
    "print(r2_train_lr)\n",
    "metric.append(r2_train_lr)\n",
    "\n",
    "r2_test_lr = r2_score(y_test, y_pred_test)\n",
    "print(r2_test_lr)\n",
    "metric.append(r2_test_lr)\n",
    "\n",
    "rss1_lr = np.sum(np.square(y_train - y_pred_train))\n",
    "print(rss1_lr)\n",
    "metric.append(rss1_lr)\n",
    "\n",
    "rss2_lr = np.sum(np.square(y_test - y_pred_test))\n",
    "print(rss2_lr)\n",
    "metric.append(rss2_lr)\n",
    "\n",
    "mse_train_lr = mean_squared_error(y_train, y_pred_train)\n",
    "print(mse_train_lr)\n",
    "metric.append(mse_train_lr ** 0.5)"
   ]
  },
  {
   "cell_type": "markdown",
   "id": "1e21a142",
   "metadata": {},
   "source": [
    "Now the train <b>train dataset shows an R2 value of 85%</b> and the <b>test dataset is at 65%</b>. So, the LR model is still overfitting after removing the ordinal category type variables.\n",
    "\n",
    "<br>\n",
    "<br>\n",
    "<br>\n",
    "Let us try if <b>Ridge regression</b> give us any better result."
   ]
  },
  {
   "cell_type": "code",
   "execution_count": 454,
   "id": "8a714fb3",
   "metadata": {},
   "outputs": [
    {
     "name": "stdout",
     "output_type": "stream",
     "text": [
      "Fitting 5 folds for each of 28 candidates, totalling 140 fits\n"
     ]
    },
    {
     "data": {
      "text/plain": [
       "GridSearchCV(cv=5, estimator=Ridge(),\n",
       "             param_grid={'alpha': [0.0001, 0.001, 0.01, 0.05, 0.1, 0.2, 0.3,\n",
       "                                   0.4, 0.5, 0.6, 0.7, 0.8, 0.9, 1, 2, 3, 4, 5,\n",
       "                                   6, 7, 8, 9, 10, 20, 50, 100, 500, 1000]},\n",
       "             return_train_score=True, scoring='neg_mean_absolute_error',\n",
       "             verbose=1)"
      ]
     },
     "execution_count": 454,
     "metadata": {},
     "output_type": "execute_result"
    }
   ],
   "source": [
    "params = {'alpha': [0.0001, 0.001, 0.01, 0.05, 0.1, 0.2, 0.3, 0.4, 0.5, 0.6, 0.7, 0.8, 0.9, 1, 2, 3, 4, 5, 6, 7, 8, 9, 10, 20, 50, 100, 500, 1000]}\n",
    "\n",
    "ridge = Ridge()\n",
    "\n",
    "folds = 5\n",
    "model_cv = GridSearchCV(estimator = ridge, param_grid = params, scoring='neg_mean_absolute_error',cv=folds,return_train_score=True,verbose=1)\n",
    "model_cv.fit(X_train, y_train)"
   ]
  },
  {
   "cell_type": "code",
   "execution_count": 455,
   "id": "a3dda043",
   "metadata": {},
   "outputs": [
    {
     "name": "stdout",
     "output_type": "stream",
     "text": [
      "{'alpha': 50}\n"
     ]
    }
   ],
   "source": [
    "print(model_cv.best_params_)"
   ]
  },
  {
   "cell_type": "code",
   "execution_count": 456,
   "id": "40c6cebd",
   "metadata": {},
   "outputs": [
    {
     "name": "stdout",
     "output_type": "stream",
     "text": [
      "[[ 5.07756536e-01  1.39209764e+04  6.91425245e+03  3.39176029e+02\n",
      "   1.42038548e+02  4.98366730e+03 -1.05634728e+04  4.08835993e+03\n",
      "  -4.72209089e+02  2.33143055e+01 -1.87977451e+03  1.13831668e+01\n",
      "   8.08063771e-01  3.55055358e+01  1.50384481e+01  2.83391730e+01\n",
      "  -1.58731847e+01  2.75044371e+01 -1.68655925e+03 -4.68577848e+03\n",
      "  -3.08560374e+03  2.10666962e+02 -7.87852343e+03 -9.02283418e+03\n",
      "   3.57990660e+03  5.75891486e+03  3.78593103e+01  6.37648332e+02\n",
      "   2.99297390e+03  4.40197302e+01 -3.48441950e+03 -4.09719602e+03\n",
      "   3.48216944e+00 -2.03710534e+01  7.92289870e+00 -1.75425458e+01\n",
      "   3.14363908e+01  6.61179628e+01 -4.20635996e-01  4.65128758e+02]]\n"
     ]
    }
   ],
   "source": [
    "alpha = 50\n",
    "ridge = Ridge(alpha=alpha)\n",
    "ridge.fit(X_train, y_train)\n",
    "print(ridge.coef_)"
   ]
  },
  {
   "cell_type": "code",
   "execution_count": 457,
   "id": "5372d643",
   "metadata": {},
   "outputs": [
    {
     "name": "stdout",
     "output_type": "stream",
     "text": [
      "0.8494936427461793\n",
      "0.6567103372893167\n",
      "941720347361.1936\n",
      "934215936241.0638\n",
      "991284576.1696775\n"
     ]
    }
   ],
   "source": [
    "y_pred_train = ridge.predict(X_train)\n",
    "y_pred_test = ridge.predict(X_test)\n",
    "\n",
    "metric = []\n",
    "r2_train_ridge = r2_score(y_train, y_pred_train)\n",
    "print(r2_train_ridge)\n",
    "metric.append(r2_train_ridge)\n",
    "\n",
    "r2_test_ridge = r2_score(y_test, y_pred_test)\n",
    "print(r2_test_ridge)\n",
    "metric.append(r2_test_ridge)\n",
    "\n",
    "rss1_ridge = np.sum(np.square(y_train - y_pred_train))\n",
    "print(rss1_ridge)\n",
    "metric.append(rss1_ridge)\n",
    "\n",
    "rss2_ridge = np.sum(np.square(y_test - y_pred_test))\n",
    "print(rss2_ridge)\n",
    "metric.append(rss2_ridge)\n",
    "\n",
    "mse_train_ridge = mean_squared_error(y_train, y_pred_train)\n",
    "print(mse_train_ridge)\n",
    "metric.append(mse_train_ridge ** 0.5)"
   ]
  },
  {
   "cell_type": "markdown",
   "id": "47f72d8e",
   "metadata": {},
   "source": [
    "Now the train dataset shows an r2 score of <b>84.9% </b>and the test dataset is at <b>65.6%</b>. So we conclude that the problem of overfitting is still not solved.\n",
    "\n",
    "<br>\n",
    "<br>\n",
    "<br> <font color = 'blue'> <font size = '5'>\n",
    "Let us see if <b>Lasso regression</b> solves this issue this time around."
   ]
  },
  {
   "cell_type": "code",
   "execution_count": 458,
   "id": "8798cbf6",
   "metadata": {},
   "outputs": [
    {
     "name": "stdout",
     "output_type": "stream",
     "text": [
      "Fitting 5 folds for each of 28 candidates, totalling 140 fits\n"
     ]
    },
    {
     "data": {
      "text/plain": [
       "GridSearchCV(cv=5, estimator=Lasso(),\n",
       "             param_grid={'alpha': [0.0001, 0.001, 0.01, 0.05, 0.1, 0.2, 0.3,\n",
       "                                   0.4, 0.5, 0.6, 0.7, 0.8, 0.9, 1, 2, 3, 4, 5,\n",
       "                                   6, 7, 8, 9, 10, 20, 50, 100, 500, 1000]},\n",
       "             return_train_score=True, scoring='neg_mean_absolute_error',\n",
       "             verbose=1)"
      ]
     },
     "execution_count": 458,
     "metadata": {},
     "output_type": "execute_result"
    }
   ],
   "source": [
    "lasso = Lasso()\n",
    "model_cv = GridSearchCV(estimator = lasso, param_grid = params, scoring='neg_mean_absolute_error',cv=folds,return_train_score=True,verbose=1)\n",
    "model_cv.fit(X_train, y_train)"
   ]
  },
  {
   "cell_type": "code",
   "execution_count": 459,
   "id": "d4b96622",
   "metadata": {},
   "outputs": [
    {
     "name": "stdout",
     "output_type": "stream",
     "text": [
      "{'alpha': 500}\n"
     ]
    }
   ],
   "source": [
    "#let's find the best lambda\n",
    "print(model_cv.best_params_)"
   ]
  },
  {
   "cell_type": "code",
   "execution_count": 460,
   "id": "7191fe20",
   "metadata": {},
   "outputs": [
    {
     "data": {
      "text/plain": [
       "Lasso(alpha=500)"
      ]
     },
     "execution_count": 460,
     "metadata": {},
     "output_type": "execute_result"
    }
   ],
   "source": [
    "alpha = 500\n",
    "lasso = Lasso(alpha=alpha)\n",
    "lasso.fit(X_train, y_train)"
   ]
  },
  {
   "cell_type": "code",
   "execution_count": 461,
   "id": "cdf5e49f",
   "metadata": {},
   "outputs": [
    {
     "data": {
      "text/plain": [
       "array([ 5.27285642e-01,  1.48679937e+04,  6.26928304e+03,  3.27855597e+02,\n",
       "        1.50464029e+02,  3.87008500e+03, -1.08030077e+04,  3.71335117e+03,\n",
       "       -3.42394409e+02,  4.34685170e+01, -3.08383079e+02,  2.42182239e+01,\n",
       "        2.22909700e+01,  1.50724494e+01,  3.49338129e+01,  4.89359155e+01,\n",
       "        2.06108172e+00,  6.95411880e+00, -0.00000000e+00, -0.00000000e+00,\n",
       "       -0.00000000e+00,  0.00000000e+00, -7.75124643e+03, -9.47359844e+03,\n",
       "        3.09989891e+03,  4.94093676e+03,  2.54282377e+01,  0.00000000e+00,\n",
       "        0.00000000e+00,  4.82036040e+01, -1.36914491e+03, -4.45648465e+03,\n",
       "        4.84656535e+00, -1.99270040e+01,  4.24010454e+00, -2.20944098e+01,\n",
       "        3.42219489e+01,  6.18042680e+01, -4.18542295e-01,  9.84415655e+01])"
      ]
     },
     "execution_count": 461,
     "metadata": {},
     "output_type": "execute_result"
    }
   ],
   "source": [
    "lasso.coef_"
   ]
  },
  {
   "cell_type": "code",
   "execution_count": 462,
   "id": "504c09c0",
   "metadata": {},
   "outputs": [
    {
     "name": "stdout",
     "output_type": "stream",
     "text": [
      "0.8478347357158246\n",
      "0.6585408065414258\n",
      "1.0918756632703576e+16\n",
      "2194999649289432.5\n",
      "1002210685.753985\n"
     ]
    }
   ],
   "source": [
    "y_pred_train = lasso.predict(X_train)\n",
    "y_pred_test = lasso.predict(X_test)\n",
    "\n",
    "metric = []\n",
    "r2_train_lasso = r2_score(y_train, y_pred_train)\n",
    "print(r2_train_lasso)\n",
    "metric.append(r2_train_lasso)\n",
    "\n",
    "r2_test_lasso = r2_score(y_test, y_pred_test)\n",
    "print(r2_test_lasso)\n",
    "metric.append(r2_test_lasso)\n",
    "\n",
    "rss1_lasso = np.sum(np.square(y_train - y_pred_train))\n",
    "print(rss1_lasso)\n",
    "metric.append(rss1_lasso)\n",
    "\n",
    "rss2_lasso = np.sum(np.square(y_test - y_pred_test))\n",
    "print(rss2_lasso)\n",
    "metric.append(rss2_lasso)\n",
    "\n",
    "mse_train_lasso = mean_squared_error(y_train, y_pred_train)\n",
    "print(mse_train_lasso)\n",
    "metric.append(mse_train_lasso ** 0.5)"
   ]
  },
  {
   "cell_type": "markdown",
   "id": "ec68d115",
   "metadata": {},
   "source": [
    "<b>No luck with Lasso regression this time around either. </b>\n",
    "<br>\n",
    "<br>\n",
    "<br>\n",
    "<br>\n",
    "<br>\n",
    "<font color = 'blue'>\n",
    "<font size = '5'>Let's then take a different approach and see if <b>Recursive Feature Elimination</b> does the trick for us in removing some of the non-required predictors.<font size>"
   ]
  },
  {
   "cell_type": "code",
   "execution_count": 509,
   "id": "f44b81ce",
   "metadata": {},
   "outputs": [
    {
     "data": {
      "text/plain": [
       "[('LotFrontage', False, 3),\n",
       " ('LotArea', False, 3),\n",
       " ('Street', True, 1),\n",
       " ('LotShape', True, 1),\n",
       " ('Utilities', False, 3),\n",
       " ('LandSlope', True, 1),\n",
       " ('HouseStyle', True, 1),\n",
       " ('OverallQual', True, 1),\n",
       " ('OverallCond', True, 1),\n",
       " ('YearBuilt', False, 2),\n",
       " ('YearRemodAdd', False, 3),\n",
       " ('ExterQual', True, 1),\n",
       " ('ExterCond', True, 1),\n",
       " ('BsmtQual', True, 1),\n",
       " ('BsmtCond', True, 1),\n",
       " ('BsmtExposure', True, 1),\n",
       " ('BsmtFinType1', True, 1),\n",
       " ('BsmtFinSF1', False, 3),\n",
       " ('BsmtFinType2', False, 2),\n",
       " ('BsmtFinSF2', False, 3),\n",
       " ('BsmtUnfSF', False, 3),\n",
       " ('TotalBsmtSF', False, 3),\n",
       " ('HeatingQC', True, 1),\n",
       " ('1stFlrSF', False, 3),\n",
       " ('2ndFlrSF', False, 3),\n",
       " ('LowQualFinSF', False, 3),\n",
       " ('GrLivArea', False, 3),\n",
       " ('BsmtFullBath', True, 1),\n",
       " ('BsmtHalfBath', False, 2),\n",
       " ('FullBath', True, 1),\n",
       " ('HalfBath', True, 1),\n",
       " ('BedroomAbvGr', True, 1),\n",
       " ('KitchenAbvGr', True, 1),\n",
       " ('KitchenQual', True, 1),\n",
       " ('TotRmsAbvGrd', True, 1),\n",
       " ('Functional', True, 1),\n",
       " ('Fireplaces', True, 1),\n",
       " ('GarageYrBlt', False, 2),\n",
       " ('GarageFinish', False, 2),\n",
       " ('GarageCars', True, 1),\n",
       " ('GarageArea', False, 3),\n",
       " ('GarageQual', True, 1),\n",
       " ('GarageCond', True, 1),\n",
       " ('PavedDrive', True, 1),\n",
       " ('WoodDeckSF', False, 3),\n",
       " ('OpenPorchSF', False, 3),\n",
       " ('EnclosedPorch', False, 3),\n",
       " ('3SsnPorch', False, 3),\n",
       " ('ScreenPorch', False, 3),\n",
       " ('PoolArea', False, 3),\n",
       " ('MiscVal', False, 3),\n",
       " ('YrSold', False, 2)]"
      ]
     },
     "execution_count": 509,
     "metadata": {},
     "output_type": "execute_result"
    }
   ],
   "source": [
    "from sklearn.feature_selection import RFE\n",
    "from sklearn.linear_model import LinearRegression\n",
    "#############\n",
    "XX = cleandata.iloc[:,:-1] #All columns except for SalePrice\n",
    "yy = np.array(cleandata['SalePrice']).reshape(-1,1) #Only the SalePrice column\n",
    "#############\n",
    "lm = LinearRegression()\n",
    "lm.fit(XX, yy)\n",
    "\n",
    "rfe = RFE(lm, step=20)             # running RFE\n",
    "rfe = rfe.fit(XX, yy)\n",
    "list(zip(XX.columns,rfe.support_,rfe.ranking_))"
   ]
  },
  {
   "cell_type": "code",
   "execution_count": 510,
   "id": "1a5daad0",
   "metadata": {},
   "outputs": [
    {
     "data": {
      "text/plain": [
       "Index(['Street', 'LotShape', 'LandSlope', 'HouseStyle', 'OverallQual',\n",
       "       'OverallCond', 'ExterQual', 'ExterCond', 'BsmtQual', 'BsmtCond',\n",
       "       'BsmtExposure', 'BsmtFinType1', 'HeatingQC', 'BsmtFullBath', 'FullBath',\n",
       "       'HalfBath', 'BedroomAbvGr', 'KitchenAbvGr', 'KitchenQual',\n",
       "       'TotRmsAbvGrd', 'Functional', 'Fireplaces', 'GarageCars', 'GarageQual',\n",
       "       'GarageCond', 'PavedDrive'],\n",
       "      dtype='object')"
      ]
     },
     "execution_count": 510,
     "metadata": {},
     "output_type": "execute_result"
    }
   ],
   "source": [
    "col = XX.columns[rfe.support_]\n",
    "col"
   ]
  },
  {
   "cell_type": "code",
   "execution_count": 511,
   "id": "9d6c3a2d",
   "metadata": {},
   "outputs": [],
   "source": [
    "# Now we will create the new xtest dataset with the factors we selected through RFE\n",
    "XX_rfe = XX[col]"
   ]
  },
  {
   "cell_type": "code",
   "execution_count": 512,
   "id": "2b6e1719",
   "metadata": {},
   "outputs": [
    {
     "data": {
      "text/html": [
       "<div>\n",
       "<style scoped>\n",
       "    .dataframe tbody tr th:only-of-type {\n",
       "        vertical-align: middle;\n",
       "    }\n",
       "\n",
       "    .dataframe tbody tr th {\n",
       "        vertical-align: top;\n",
       "    }\n",
       "\n",
       "    .dataframe thead th {\n",
       "        text-align: right;\n",
       "    }\n",
       "</style>\n",
       "<table border=\"1\" class=\"dataframe\">\n",
       "  <thead>\n",
       "    <tr style=\"text-align: right;\">\n",
       "      <th></th>\n",
       "      <th>Features</th>\n",
       "      <th>VIF</th>\n",
       "    </tr>\n",
       "  </thead>\n",
       "  <tbody>\n",
       "    <tr>\n",
       "      <th>0</th>\n",
       "      <td>Street</td>\n",
       "      <td>363.36</td>\n",
       "    </tr>\n",
       "    <tr>\n",
       "      <th>24</th>\n",
       "      <td>GarageCond</td>\n",
       "      <td>209.15</td>\n",
       "    </tr>\n",
       "    <tr>\n",
       "      <th>23</th>\n",
       "      <td>GarageQual</td>\n",
       "      <td>205.35</td>\n",
       "    </tr>\n",
       "    <tr>\n",
       "      <th>2</th>\n",
       "      <td>LandSlope</td>\n",
       "      <td>140.69</td>\n",
       "    </tr>\n",
       "    <tr>\n",
       "      <th>20</th>\n",
       "      <td>Functional</td>\n",
       "      <td>139.72</td>\n",
       "    </tr>\n",
       "    <tr>\n",
       "      <th>6</th>\n",
       "      <td>ExterQual</td>\n",
       "      <td>111.26</td>\n",
       "    </tr>\n",
       "    <tr>\n",
       "      <th>7</th>\n",
       "      <td>ExterCond</td>\n",
       "      <td>96.07</td>\n",
       "    </tr>\n",
       "    <tr>\n",
       "      <th>18</th>\n",
       "      <td>KitchenQual</td>\n",
       "      <td>75.16</td>\n",
       "    </tr>\n",
       "    <tr>\n",
       "      <th>4</th>\n",
       "      <td>OverallQual</td>\n",
       "      <td>73.81</td>\n",
       "    </tr>\n",
       "    <tr>\n",
       "      <th>8</th>\n",
       "      <td>BsmtQual</td>\n",
       "      <td>63.41</td>\n",
       "    </tr>\n",
       "    <tr>\n",
       "      <th>9</th>\n",
       "      <td>BsmtCond</td>\n",
       "      <td>62.23</td>\n",
       "    </tr>\n",
       "    <tr>\n",
       "      <th>19</th>\n",
       "      <td>TotRmsAbvGrd</td>\n",
       "      <td>58.15</td>\n",
       "    </tr>\n",
       "    <tr>\n",
       "      <th>1</th>\n",
       "      <td>LotShape</td>\n",
       "      <td>42.31</td>\n",
       "    </tr>\n",
       "    <tr>\n",
       "      <th>25</th>\n",
       "      <td>PavedDrive</td>\n",
       "      <td>42.04</td>\n",
       "    </tr>\n",
       "    <tr>\n",
       "      <th>5</th>\n",
       "      <td>OverallCond</td>\n",
       "      <td>37.20</td>\n",
       "    </tr>\n",
       "    <tr>\n",
       "      <th>17</th>\n",
       "      <td>KitchenAbvGr</td>\n",
       "      <td>34.65</td>\n",
       "    </tr>\n",
       "    <tr>\n",
       "      <th>16</th>\n",
       "      <td>BedroomAbvGr</td>\n",
       "      <td>30.92</td>\n",
       "    </tr>\n",
       "    <tr>\n",
       "      <th>12</th>\n",
       "      <td>HeatingQC</td>\n",
       "      <td>30.02</td>\n",
       "    </tr>\n",
       "    <tr>\n",
       "      <th>14</th>\n",
       "      <td>FullBath</td>\n",
       "      <td>22.64</td>\n",
       "    </tr>\n",
       "    <tr>\n",
       "      <th>22</th>\n",
       "      <td>GarageCars</td>\n",
       "      <td>18.35</td>\n",
       "    </tr>\n",
       "    <tr>\n",
       "      <th>3</th>\n",
       "      <td>HouseStyle</td>\n",
       "      <td>8.16</td>\n",
       "    </tr>\n",
       "    <tr>\n",
       "      <th>11</th>\n",
       "      <td>BsmtFinType1</td>\n",
       "      <td>6.69</td>\n",
       "    </tr>\n",
       "    <tr>\n",
       "      <th>10</th>\n",
       "      <td>BsmtExposure</td>\n",
       "      <td>5.08</td>\n",
       "    </tr>\n",
       "    <tr>\n",
       "      <th>15</th>\n",
       "      <td>HalfBath</td>\n",
       "      <td>3.06</td>\n",
       "    </tr>\n",
       "    <tr>\n",
       "      <th>13</th>\n",
       "      <td>BsmtFullBath</td>\n",
       "      <td>2.69</td>\n",
       "    </tr>\n",
       "    <tr>\n",
       "      <th>21</th>\n",
       "      <td>Fireplaces</td>\n",
       "      <td>2.65</td>\n",
       "    </tr>\n",
       "  </tbody>\n",
       "</table>\n",
       "</div>"
      ],
      "text/plain": [
       "        Features     VIF\n",
       "0         Street  363.36\n",
       "24    GarageCond  209.15\n",
       "23    GarageQual  205.35\n",
       "2      LandSlope  140.69\n",
       "20    Functional  139.72\n",
       "6      ExterQual  111.26\n",
       "7      ExterCond   96.07\n",
       "18   KitchenQual   75.16\n",
       "4    OverallQual   73.81\n",
       "8       BsmtQual   63.41\n",
       "9       BsmtCond   62.23\n",
       "19  TotRmsAbvGrd   58.15\n",
       "1       LotShape   42.31\n",
       "25    PavedDrive   42.04\n",
       "5    OverallCond   37.20\n",
       "17  KitchenAbvGr   34.65\n",
       "16  BedroomAbvGr   30.92\n",
       "12     HeatingQC   30.02\n",
       "14      FullBath   22.64\n",
       "22    GarageCars   18.35\n",
       "3     HouseStyle    8.16\n",
       "11  BsmtFinType1    6.69\n",
       "10  BsmtExposure    5.08\n",
       "15      HalfBath    3.06\n",
       "13  BsmtFullBath    2.69\n",
       "21    Fireplaces    2.65"
      ]
     },
     "execution_count": 512,
     "metadata": {},
     "output_type": "execute_result"
    }
   ],
   "source": [
    "# Now we will check the Variability Inflation factor (VIF) for all the remaining variables\n",
    "from statsmodels.stats.outliers_influence import variance_inflation_factor\n",
    "vif = pd.DataFrame()\n",
    "vif['Features'] = XX_rfe.columns\n",
    "vif['VIF'] = [variance_inflation_factor(XX_rfe.values, i) for i in range(XX_rfe.shape[1])]\n",
    "vif['VIF'] = round(vif['VIF'], 2)\n",
    "vif = vif.sort_values(by = \"VIF\", ascending = False)\n",
    "vif"
   ]
  },
  {
   "cell_type": "code",
   "execution_count": 513,
   "id": "545d47c8",
   "metadata": {},
   "outputs": [
    {
     "data": {
      "text/plain": [
       "const          -144564.876994\n",
       "Street           21114.645456\n",
       "LotShape         -3686.402609\n",
       "LandSlope       -12326.569585\n",
       "HouseStyle       -6721.573307\n",
       "OverallQual      16357.705434\n",
       "OverallCond       5265.796371\n",
       "ExterQual        12038.288679\n",
       "ExterCond        -2729.378296\n",
       "BsmtQual          9065.515470\n",
       "BsmtCond        -12288.759219\n",
       "BsmtExposure      7007.023409\n",
       "BsmtFinType1      1873.174913\n",
       "HeatingQC          745.318327\n",
       "BsmtFullBath     10507.400718\n",
       "FullBath         12502.751363\n",
       "HalfBath         11648.441960\n",
       "BedroomAbvGr     -2567.565346\n",
       "KitchenAbvGr    -27656.151793\n",
       "KitchenQual       9588.381160\n",
       "TotRmsAbvGrd     14022.596267\n",
       "Functional        3509.686560\n",
       "Fireplaces       12073.057032\n",
       "GarageCars       17085.477640\n",
       "GarageQual        3051.059308\n",
       "GarageCond       -9882.318916\n",
       "PavedDrive        2641.888261\n",
       "dtype: float64"
      ]
     },
     "execution_count": 513,
     "metadata": {},
     "output_type": "execute_result"
    }
   ],
   "source": [
    "# Before we proceed as per the drill we add a constant and create a fitted model. Then we check the\n",
    "# parameters we get.\n",
    "import statsmodels.api as sm\n",
    "XX_lm1 = sm.add_constant(XX_rfe)\n",
    "lr1 = sm.OLS(yy, XX_lm1).fit()\n",
    "lr1.params"
   ]
  },
  {
   "cell_type": "code",
   "execution_count": 514,
   "id": "85c636b7",
   "metadata": {},
   "outputs": [
    {
     "name": "stdout",
     "output_type": "stream",
     "text": [
      "                            OLS Regression Results                            \n",
      "==============================================================================\n",
      "Dep. Variable:                      y   R-squared:                       0.802\n",
      "Model:                            OLS   Adj. R-squared:                  0.799\n",
      "Method:                 Least Squares   F-statistic:                     208.0\n",
      "Date:                Mon, 02 Jan 2023   Prob (F-statistic):               0.00\n",
      "Time:                        23:07:42   Log-Likelihood:                -16180.\n",
      "No. Observations:                1358   AIC:                         3.241e+04\n",
      "Df Residuals:                    1331   BIC:                         3.255e+04\n",
      "Df Model:                          26                                         \n",
      "Covariance Type:            nonrobust                                         \n",
      "================================================================================\n",
      "                   coef    std err          t      P>|t|      [0.025      0.975]\n",
      "--------------------------------------------------------------------------------\n",
      "const        -1.446e+05   3.79e+04     -3.819      0.000   -2.19e+05   -7.03e+04\n",
      "Street        2.111e+04   1.71e+04      1.237      0.216   -1.24e+04    5.46e+04\n",
      "LotShape     -3686.4026   1798.274     -2.050      0.041   -7214.163    -158.642\n",
      "LandSlope    -1.233e+04   3998.582     -3.083      0.002   -2.02e+04   -4482.359\n",
      "HouseStyle   -6721.5733   1050.855     -6.396      0.000   -8783.085   -4660.061\n",
      "OverallQual   1.636e+04   1358.338     12.042      0.000    1.37e+04     1.9e+04\n",
      "OverallCond   5265.7964   1066.371      4.938      0.000    3173.846    7357.747\n",
      "ExterQual     1.204e+04   3017.617      3.989      0.000    6118.485     1.8e+04\n",
      "ExterCond    -2729.3783   3174.513     -0.860      0.390   -8956.973    3498.216\n",
      "BsmtQual      9065.5155   2194.139      4.132      0.000    4761.169    1.34e+04\n",
      "BsmtCond     -1.229e+04   2626.121     -4.679      0.000   -1.74e+04   -7136.973\n",
      "BsmtExposure  7007.0234   1227.170      5.710      0.000    4599.625    9414.421\n",
      "BsmtFinType1  1873.1749    636.003      2.945      0.003     625.497    3120.853\n",
      "HeatingQC      745.3183   1271.341      0.586      0.558   -1748.733    3239.369\n",
      "BsmtFullBath  1.051e+04   2497.936      4.206      0.000    5607.081    1.54e+04\n",
      "FullBath       1.25e+04   2819.528      4.434      0.000    6971.549     1.8e+04\n",
      "HalfBath      1.165e+04   2706.591      4.304      0.000    6338.793     1.7e+04\n",
      "BedroomAbvGr -2567.5653   1838.583     -1.396      0.163   -6174.402    1039.271\n",
      "KitchenAbvGr -2.766e+04   5506.815     -5.022      0.000   -3.85e+04   -1.69e+04\n",
      "KitchenQual   9588.3812   2394.251      4.005      0.000    4891.464    1.43e+04\n",
      "TotRmsAbvGrd  1.402e+04   1115.336     12.573      0.000    1.18e+04    1.62e+04\n",
      "Functional    3509.6866   1546.317      2.270      0.023     476.202    6543.171\n",
      "Fireplaces    1.207e+04   1819.345      6.636      0.000    8503.960    1.56e+04\n",
      "GarageCars    1.709e+04   2202.390      7.758      0.000    1.28e+04    2.14e+04\n",
      "GarageQual    3051.0593   4896.641      0.623      0.533   -6554.916    1.27e+04\n",
      "GarageCond   -9882.3189   4946.813     -1.998      0.046   -1.96e+04    -177.920\n",
      "PavedDrive    2641.8883   2229.659      1.185      0.236   -1732.141    7015.918\n",
      "==============================================================================\n",
      "Omnibus:                      633.281   Durbin-Watson:                   1.990\n",
      "Prob(Omnibus):                  0.000   Jarque-Bera (JB):            21388.664\n",
      "Skew:                           1.517   Prob(JB):                         0.00\n",
      "Kurtosis:                      22.204   Cond. No.                         749.\n",
      "==============================================================================\n",
      "\n",
      "Notes:\n",
      "[1] Standard Errors assume that the covariance matrix of the errors is correctly specified.\n"
     ]
    }
   ],
   "source": [
    "print(lr1.summary())"
   ]
  },
  {
   "cell_type": "markdown",
   "id": "8766517f",
   "metadata": {},
   "source": [
    "Let's remove the predictor HeatingQC as that has the highest p-value in the list."
   ]
  },
  {
   "cell_type": "code",
   "execution_count": 515,
   "id": "559536ba",
   "metadata": {},
   "outputs": [],
   "source": [
    "XX_new = XX_rfe.drop([\"HeatingQC\"], axis = 1)"
   ]
  },
  {
   "cell_type": "code",
   "execution_count": 516,
   "id": "7d8609d6",
   "metadata": {},
   "outputs": [
    {
     "data": {
      "text/html": [
       "<div>\n",
       "<style scoped>\n",
       "    .dataframe tbody tr th:only-of-type {\n",
       "        vertical-align: middle;\n",
       "    }\n",
       "\n",
       "    .dataframe tbody tr th {\n",
       "        vertical-align: top;\n",
       "    }\n",
       "\n",
       "    .dataframe thead th {\n",
       "        text-align: right;\n",
       "    }\n",
       "</style>\n",
       "<table border=\"1\" class=\"dataframe\">\n",
       "  <thead>\n",
       "    <tr style=\"text-align: right;\">\n",
       "      <th></th>\n",
       "      <th>Features</th>\n",
       "      <th>VIF</th>\n",
       "    </tr>\n",
       "  </thead>\n",
       "  <tbody>\n",
       "    <tr>\n",
       "      <th>0</th>\n",
       "      <td>Street</td>\n",
       "      <td>362.93</td>\n",
       "    </tr>\n",
       "    <tr>\n",
       "      <th>23</th>\n",
       "      <td>GarageCond</td>\n",
       "      <td>208.74</td>\n",
       "    </tr>\n",
       "    <tr>\n",
       "      <th>22</th>\n",
       "      <td>GarageQual</td>\n",
       "      <td>204.96</td>\n",
       "    </tr>\n",
       "    <tr>\n",
       "      <th>2</th>\n",
       "      <td>LandSlope</td>\n",
       "      <td>140.46</td>\n",
       "    </tr>\n",
       "    <tr>\n",
       "      <th>19</th>\n",
       "      <td>Functional</td>\n",
       "      <td>139.71</td>\n",
       "    </tr>\n",
       "    <tr>\n",
       "      <th>6</th>\n",
       "      <td>ExterQual</td>\n",
       "      <td>107.47</td>\n",
       "    </tr>\n",
       "    <tr>\n",
       "      <th>7</th>\n",
       "      <td>ExterCond</td>\n",
       "      <td>96.04</td>\n",
       "    </tr>\n",
       "    <tr>\n",
       "      <th>4</th>\n",
       "      <td>OverallQual</td>\n",
       "      <td>73.81</td>\n",
       "    </tr>\n",
       "    <tr>\n",
       "      <th>17</th>\n",
       "      <td>KitchenQual</td>\n",
       "      <td>73.15</td>\n",
       "    </tr>\n",
       "    <tr>\n",
       "      <th>8</th>\n",
       "      <td>BsmtQual</td>\n",
       "      <td>63.21</td>\n",
       "    </tr>\n",
       "    <tr>\n",
       "      <th>9</th>\n",
       "      <td>BsmtCond</td>\n",
       "      <td>62.23</td>\n",
       "    </tr>\n",
       "    <tr>\n",
       "      <th>18</th>\n",
       "      <td>TotRmsAbvGrd</td>\n",
       "      <td>58.14</td>\n",
       "    </tr>\n",
       "    <tr>\n",
       "      <th>1</th>\n",
       "      <td>LotShape</td>\n",
       "      <td>42.31</td>\n",
       "    </tr>\n",
       "    <tr>\n",
       "      <th>24</th>\n",
       "      <td>PavedDrive</td>\n",
       "      <td>42.02</td>\n",
       "    </tr>\n",
       "    <tr>\n",
       "      <th>5</th>\n",
       "      <td>OverallCond</td>\n",
       "      <td>37.04</td>\n",
       "    </tr>\n",
       "    <tr>\n",
       "      <th>16</th>\n",
       "      <td>KitchenAbvGr</td>\n",
       "      <td>34.42</td>\n",
       "    </tr>\n",
       "    <tr>\n",
       "      <th>15</th>\n",
       "      <td>BedroomAbvGr</td>\n",
       "      <td>30.91</td>\n",
       "    </tr>\n",
       "    <tr>\n",
       "      <th>13</th>\n",
       "      <td>FullBath</td>\n",
       "      <td>22.45</td>\n",
       "    </tr>\n",
       "    <tr>\n",
       "      <th>21</th>\n",
       "      <td>GarageCars</td>\n",
       "      <td>18.35</td>\n",
       "    </tr>\n",
       "    <tr>\n",
       "      <th>3</th>\n",
       "      <td>HouseStyle</td>\n",
       "      <td>8.15</td>\n",
       "    </tr>\n",
       "    <tr>\n",
       "      <th>11</th>\n",
       "      <td>BsmtFinType1</td>\n",
       "      <td>6.69</td>\n",
       "    </tr>\n",
       "    <tr>\n",
       "      <th>10</th>\n",
       "      <td>BsmtExposure</td>\n",
       "      <td>5.08</td>\n",
       "    </tr>\n",
       "    <tr>\n",
       "      <th>14</th>\n",
       "      <td>HalfBath</td>\n",
       "      <td>3.06</td>\n",
       "    </tr>\n",
       "    <tr>\n",
       "      <th>12</th>\n",
       "      <td>BsmtFullBath</td>\n",
       "      <td>2.68</td>\n",
       "    </tr>\n",
       "    <tr>\n",
       "      <th>20</th>\n",
       "      <td>Fireplaces</td>\n",
       "      <td>2.64</td>\n",
       "    </tr>\n",
       "  </tbody>\n",
       "</table>\n",
       "</div>"
      ],
      "text/plain": [
       "        Features     VIF\n",
       "0         Street  362.93\n",
       "23    GarageCond  208.74\n",
       "22    GarageQual  204.96\n",
       "2      LandSlope  140.46\n",
       "19    Functional  139.71\n",
       "6      ExterQual  107.47\n",
       "7      ExterCond   96.04\n",
       "4    OverallQual   73.81\n",
       "17   KitchenQual   73.15\n",
       "8       BsmtQual   63.21\n",
       "9       BsmtCond   62.23\n",
       "18  TotRmsAbvGrd   58.14\n",
       "1       LotShape   42.31\n",
       "24    PavedDrive   42.02\n",
       "5    OverallCond   37.04\n",
       "16  KitchenAbvGr   34.42\n",
       "15  BedroomAbvGr   30.91\n",
       "13      FullBath   22.45\n",
       "21    GarageCars   18.35\n",
       "3     HouseStyle    8.15\n",
       "11  BsmtFinType1    6.69\n",
       "10  BsmtExposure    5.08\n",
       "14      HalfBath    3.06\n",
       "12  BsmtFullBath    2.68\n",
       "20    Fireplaces    2.64"
      ]
     },
     "execution_count": 516,
     "metadata": {},
     "output_type": "execute_result"
    }
   ],
   "source": [
    "# Check for the VIF values of the feature variables. \n",
    "from statsmodels.stats.outliers_influence import variance_inflation_factor\n",
    "\n",
    "# Create a dataframe that will contain the names of all the feature variables and their respective VIFs\n",
    "vif = pd.DataFrame()\n",
    "vif['Features'] = XX_new.columns\n",
    "vif['VIF'] = [variance_inflation_factor(XX_new.values, i) for i in range(XX_new.shape[1])]\n",
    "vif['VIF'] = round(vif['VIF'], 2)\n",
    "vif = vif.sort_values(by = \"VIF\", ascending = False)\n",
    "vif"
   ]
  },
  {
   "cell_type": "code",
   "execution_count": 517,
   "id": "f205ab78",
   "metadata": {},
   "outputs": [],
   "source": [
    "# Add a constant\n",
    "XX_lm2 = sm.add_constant(XX_new)\n",
    "\n",
    "# Create a first fitted model\n",
    "lr2 = sm.OLS(yy, XX_lm2).fit()"
   ]
  },
  {
   "cell_type": "code",
   "execution_count": 518,
   "id": "db1ac05e",
   "metadata": {},
   "outputs": [
    {
     "data": {
      "text/plain": [
       "const          -143414.890512\n",
       "Street           20873.686033\n",
       "LotShape         -3693.767451\n",
       "LandSlope       -12241.670089\n",
       "HouseStyle       -6707.674734\n",
       "OverallQual      16363.003884\n",
       "OverallCond       5306.113873\n",
       "ExterQual        12362.788262\n",
       "ExterCond        -2711.155188\n",
       "BsmtQual          9137.182287\n",
       "BsmtCond        -12295.199376\n",
       "BsmtExposure      7011.532951\n",
       "BsmtFinType1      1869.067983\n",
       "BsmtFullBath     10539.045880\n",
       "FullBath         12658.397833\n",
       "HalfBath         11631.876269\n",
       "BedroomAbvGr     -2584.028611\n",
       "KitchenAbvGr    -27940.496839\n",
       "KitchenQual       9816.363863\n",
       "TotRmsAbvGrd     14013.692515\n",
       "Functional        3490.275976\n",
       "Fireplaces       12021.131491\n",
       "GarageCars       17087.085929\n",
       "GarageQual        2924.477855\n",
       "GarageCond       -9754.555272\n",
       "PavedDrive        2664.263414\n",
       "dtype: float64"
      ]
     },
     "execution_count": 518,
     "metadata": {},
     "output_type": "execute_result"
    }
   ],
   "source": [
    "lr2.params"
   ]
  },
  {
   "cell_type": "code",
   "execution_count": 519,
   "id": "55deda0c",
   "metadata": {},
   "outputs": [
    {
     "name": "stdout",
     "output_type": "stream",
     "text": [
      "                            OLS Regression Results                            \n",
      "==============================================================================\n",
      "Dep. Variable:                      y   R-squared:                       0.802\n",
      "Model:                            OLS   Adj. R-squared:                  0.799\n",
      "Method:                 Least Squares   F-statistic:                     216.4\n",
      "Date:                Mon, 02 Jan 2023   Prob (F-statistic):               0.00\n",
      "Time:                        23:10:47   Log-Likelihood:                -16180.\n",
      "No. Observations:                1358   AIC:                         3.241e+04\n",
      "Df Residuals:                    1332   BIC:                         3.255e+04\n",
      "Df Model:                          25                                         \n",
      "Covariance Type:            nonrobust                                         \n",
      "================================================================================\n",
      "                   coef    std err          t      P>|t|      [0.025      0.975]\n",
      "--------------------------------------------------------------------------------\n",
      "const        -1.434e+05   3.78e+04     -3.794      0.000   -2.18e+05   -6.93e+04\n",
      "Street        2.087e+04   1.71e+04      1.224      0.221   -1.26e+04    5.43e+04\n",
      "LotShape     -3693.7675   1797.787     -2.055      0.040   -7220.571    -166.964\n",
      "LandSlope    -1.224e+04   3994.974     -3.064      0.002   -2.01e+04   -4404.543\n",
      "HouseStyle   -6707.6747   1050.328     -6.386      0.000   -8768.153   -4647.196\n",
      "OverallQual   1.636e+04   1357.973     12.050      0.000    1.37e+04     1.9e+04\n",
      "OverallCond   5306.1139   1063.889      4.987      0.000    3219.034    7393.194\n",
      "ExterQual     1.236e+04   2965.685      4.169      0.000    6544.865    1.82e+04\n",
      "ExterCond    -2711.1552   3173.579     -0.854      0.393   -8936.912    3514.602\n",
      "BsmtQual      9137.1823   2190.191      4.172      0.000    4840.583    1.34e+04\n",
      "BsmtCond      -1.23e+04   2625.450     -4.683      0.000   -1.74e+04   -7144.731\n",
      "BsmtExposure  7011.5330   1226.843      5.715      0.000    4604.777    9418.289\n",
      "BsmtFinType1  1869.0680    635.808      2.940      0.003     621.774    3116.362\n",
      "BsmtFullBath  1.054e+04   2496.737      4.221      0.000    5641.081    1.54e+04\n",
      "FullBath      1.266e+04   2806.308      4.511      0.000    7153.132    1.82e+04\n",
      "HalfBath      1.163e+04   2705.777      4.299      0.000    6323.828    1.69e+04\n",
      "BedroomAbvGr -2584.0286   1837.916     -1.406      0.160   -6189.553    1021.496\n",
      "KitchenAbvGr -2.794e+04   5484.062     -5.095      0.000   -3.87e+04   -1.72e+04\n",
      "KitchenQual   9816.3639   2361.875      4.156      0.000    5182.963    1.44e+04\n",
      "TotRmsAbvGrd  1.401e+04   1114.958     12.569      0.000    1.18e+04    1.62e+04\n",
      "Functional    3490.2760   1545.582      2.258      0.024     458.237    6522.315\n",
      "Fireplaces    1.202e+04   1816.740      6.617      0.000    8457.148    1.56e+04\n",
      "GarageCars    1.709e+04   2201.846      7.760      0.000    1.28e+04    2.14e+04\n",
      "GarageQual    2924.4779   4890.673      0.598      0.550   -6669.783    1.25e+04\n",
      "GarageCond   -9754.5553   4940.792     -1.974      0.049   -1.94e+04     -61.974\n",
      "PavedDrive    2664.2634   2228.783      1.195      0.232   -1708.045    7036.572\n",
      "==============================================================================\n",
      "Omnibus:                      630.681   Durbin-Watson:                   1.988\n",
      "Prob(Omnibus):                  0.000   Jarque-Bera (JB):            21277.722\n",
      "Skew:                           1.508   Prob(JB):                         0.00\n",
      "Kurtosis:                      22.156   Cond. No.                         728.\n",
      "==============================================================================\n",
      "\n",
      "Notes:\n",
      "[1] Standard Errors assume that the covariance matrix of the errors is correctly specified.\n"
     ]
    }
   ],
   "source": [
    "print(lr2.summary())"
   ]
  },
  {
   "cell_type": "markdown",
   "id": "14de1074",
   "metadata": {},
   "source": [
    "Remove feature GarageQual due to high p-value."
   ]
  },
  {
   "cell_type": "code",
   "execution_count": 520,
   "id": "2b100f0b",
   "metadata": {},
   "outputs": [],
   "source": [
    "XX_new = XX_new.drop([\"GarageQual\"], axis = 1)"
   ]
  },
  {
   "cell_type": "code",
   "execution_count": 521,
   "id": "b8a43f7b",
   "metadata": {},
   "outputs": [
    {
     "data": {
      "text/html": [
       "<div>\n",
       "<style scoped>\n",
       "    .dataframe tbody tr th:only-of-type {\n",
       "        vertical-align: middle;\n",
       "    }\n",
       "\n",
       "    .dataframe tbody tr th {\n",
       "        vertical-align: top;\n",
       "    }\n",
       "\n",
       "    .dataframe thead th {\n",
       "        text-align: right;\n",
       "    }\n",
       "</style>\n",
       "<table border=\"1\" class=\"dataframe\">\n",
       "  <thead>\n",
       "    <tr style=\"text-align: right;\">\n",
       "      <th></th>\n",
       "      <th>Features</th>\n",
       "      <th>VIF</th>\n",
       "    </tr>\n",
       "  </thead>\n",
       "  <tbody>\n",
       "    <tr>\n",
       "      <th>0</th>\n",
       "      <td>Street</td>\n",
       "      <td>362.49</td>\n",
       "    </tr>\n",
       "    <tr>\n",
       "      <th>2</th>\n",
       "      <td>LandSlope</td>\n",
       "      <td>140.45</td>\n",
       "    </tr>\n",
       "    <tr>\n",
       "      <th>19</th>\n",
       "      <td>Functional</td>\n",
       "      <td>139.67</td>\n",
       "    </tr>\n",
       "    <tr>\n",
       "      <th>6</th>\n",
       "      <td>ExterQual</td>\n",
       "      <td>107.47</td>\n",
       "    </tr>\n",
       "    <tr>\n",
       "      <th>7</th>\n",
       "      <td>ExterCond</td>\n",
       "      <td>96.01</td>\n",
       "    </tr>\n",
       "    <tr>\n",
       "      <th>4</th>\n",
       "      <td>OverallQual</td>\n",
       "      <td>73.81</td>\n",
       "    </tr>\n",
       "    <tr>\n",
       "      <th>17</th>\n",
       "      <td>KitchenQual</td>\n",
       "      <td>73.12</td>\n",
       "    </tr>\n",
       "    <tr>\n",
       "      <th>8</th>\n",
       "      <td>BsmtQual</td>\n",
       "      <td>63.12</td>\n",
       "    </tr>\n",
       "    <tr>\n",
       "      <th>9</th>\n",
       "      <td>BsmtCond</td>\n",
       "      <td>62.22</td>\n",
       "    </tr>\n",
       "    <tr>\n",
       "      <th>18</th>\n",
       "      <td>TotRmsAbvGrd</td>\n",
       "      <td>58.13</td>\n",
       "    </tr>\n",
       "    <tr>\n",
       "      <th>1</th>\n",
       "      <td>LotShape</td>\n",
       "      <td>42.28</td>\n",
       "    </tr>\n",
       "    <tr>\n",
       "      <th>23</th>\n",
       "      <td>PavedDrive</td>\n",
       "      <td>42.02</td>\n",
       "    </tr>\n",
       "    <tr>\n",
       "      <th>5</th>\n",
       "      <td>OverallCond</td>\n",
       "      <td>37.01</td>\n",
       "    </tr>\n",
       "    <tr>\n",
       "      <th>16</th>\n",
       "      <td>KitchenAbvGr</td>\n",
       "      <td>34.32</td>\n",
       "    </tr>\n",
       "    <tr>\n",
       "      <th>15</th>\n",
       "      <td>BedroomAbvGr</td>\n",
       "      <td>30.87</td>\n",
       "    </tr>\n",
       "    <tr>\n",
       "      <th>22</th>\n",
       "      <td>GarageCond</td>\n",
       "      <td>29.79</td>\n",
       "    </tr>\n",
       "    <tr>\n",
       "      <th>13</th>\n",
       "      <td>FullBath</td>\n",
       "      <td>22.42</td>\n",
       "    </tr>\n",
       "    <tr>\n",
       "      <th>21</th>\n",
       "      <td>GarageCars</td>\n",
       "      <td>18.03</td>\n",
       "    </tr>\n",
       "    <tr>\n",
       "      <th>3</th>\n",
       "      <td>HouseStyle</td>\n",
       "      <td>8.09</td>\n",
       "    </tr>\n",
       "    <tr>\n",
       "      <th>11</th>\n",
       "      <td>BsmtFinType1</td>\n",
       "      <td>6.68</td>\n",
       "    </tr>\n",
       "    <tr>\n",
       "      <th>10</th>\n",
       "      <td>BsmtExposure</td>\n",
       "      <td>5.08</td>\n",
       "    </tr>\n",
       "    <tr>\n",
       "      <th>14</th>\n",
       "      <td>HalfBath</td>\n",
       "      <td>3.05</td>\n",
       "    </tr>\n",
       "    <tr>\n",
       "      <th>12</th>\n",
       "      <td>BsmtFullBath</td>\n",
       "      <td>2.68</td>\n",
       "    </tr>\n",
       "    <tr>\n",
       "      <th>20</th>\n",
       "      <td>Fireplaces</td>\n",
       "      <td>2.64</td>\n",
       "    </tr>\n",
       "  </tbody>\n",
       "</table>\n",
       "</div>"
      ],
      "text/plain": [
       "        Features     VIF\n",
       "0         Street  362.49\n",
       "2      LandSlope  140.45\n",
       "19    Functional  139.67\n",
       "6      ExterQual  107.47\n",
       "7      ExterCond   96.01\n",
       "4    OverallQual   73.81\n",
       "17   KitchenQual   73.12\n",
       "8       BsmtQual   63.12\n",
       "9       BsmtCond   62.22\n",
       "18  TotRmsAbvGrd   58.13\n",
       "1       LotShape   42.28\n",
       "23    PavedDrive   42.02\n",
       "5    OverallCond   37.01\n",
       "16  KitchenAbvGr   34.32\n",
       "15  BedroomAbvGr   30.87\n",
       "22    GarageCond   29.79\n",
       "13      FullBath   22.42\n",
       "21    GarageCars   18.03\n",
       "3     HouseStyle    8.09\n",
       "11  BsmtFinType1    6.68\n",
       "10  BsmtExposure    5.08\n",
       "14      HalfBath    3.05\n",
       "12  BsmtFullBath    2.68\n",
       "20    Fireplaces    2.64"
      ]
     },
     "execution_count": 521,
     "metadata": {},
     "output_type": "execute_result"
    }
   ],
   "source": [
    "# Check for the VIF values of the feature variables. \n",
    "from statsmodels.stats.outliers_influence import variance_inflation_factor\n",
    "\n",
    "# Create a dataframe that will contain the names of all the feature variables and their respective VIFs\n",
    "vif = pd.DataFrame()\n",
    "vif['Features'] = XX_new.columns\n",
    "vif['VIF'] = [variance_inflation_factor(XX_new.values, i) for i in range(XX_new.shape[1])]\n",
    "vif['VIF'] = round(vif['VIF'], 2)\n",
    "vif = vif.sort_values(by = \"VIF\", ascending = False)\n",
    "vif"
   ]
  },
  {
   "cell_type": "code",
   "execution_count": 522,
   "id": "ef42e8b5",
   "metadata": {},
   "outputs": [],
   "source": [
    "# Add a constant\n",
    "XX_lm3 = sm.add_constant(XX_new)\n",
    "\n",
    "# Create a first fitted model\n",
    "lr3 = sm.OLS(yy, XX_lm3).fit()"
   ]
  },
  {
   "cell_type": "code",
   "execution_count": 523,
   "id": "79e331d4",
   "metadata": {},
   "outputs": [
    {
     "data": {
      "text/plain": [
       "const          -143179.018682\n",
       "Street           20982.216836\n",
       "LotShape         -3723.824345\n",
       "LandSlope       -12266.826716\n",
       "HouseStyle       -6655.325472\n",
       "OverallQual      16362.997488\n",
       "OverallCond       5323.822289\n",
       "ExterQual        12351.313757\n",
       "ExterCond        -2748.155639\n",
       "BsmtQual          9088.522296\n",
       "BsmtCond        -12312.800492\n",
       "BsmtExposure      7015.419396\n",
       "BsmtFinType1      1883.052447\n",
       "BsmtFullBath     10506.364564\n",
       "FullBath         12601.279504\n",
       "HalfBath         11547.881933\n",
       "BedroomAbvGr     -2627.002634\n",
       "KitchenAbvGr    -27776.158334\n",
       "KitchenQual       9845.841652\n",
       "TotRmsAbvGrd     14005.180027\n",
       "Functional        3501.932179\n",
       "Fireplaces       12072.164304\n",
       "GarageCars       17262.179088\n",
       "GarageCond       -7019.511690\n",
       "PavedDrive        2656.039690\n",
       "dtype: float64"
      ]
     },
     "execution_count": 523,
     "metadata": {},
     "output_type": "execute_result"
    }
   ],
   "source": [
    "lr3.params"
   ]
  },
  {
   "cell_type": "code",
   "execution_count": 524,
   "id": "0bc749ec",
   "metadata": {},
   "outputs": [
    {
     "name": "stdout",
     "output_type": "stream",
     "text": [
      "                            OLS Regression Results                            \n",
      "==============================================================================\n",
      "Dep. Variable:                      y   R-squared:                       0.802\n",
      "Model:                            OLS   Adj. R-squared:                  0.799\n",
      "Method:                 Least Squares   F-statistic:                     225.5\n",
      "Date:                Mon, 02 Jan 2023   Prob (F-statistic):               0.00\n",
      "Time:                        23:13:03   Log-Likelihood:                -16180.\n",
      "No. Observations:                1358   AIC:                         3.241e+04\n",
      "Df Residuals:                    1333   BIC:                         3.254e+04\n",
      "Df Model:                          24                                         \n",
      "Covariance Type:            nonrobust                                         \n",
      "================================================================================\n",
      "                   coef    std err          t      P>|t|      [0.025      0.975]\n",
      "--------------------------------------------------------------------------------\n",
      "const        -1.432e+05   3.78e+04     -3.789      0.000   -2.17e+05   -6.91e+04\n",
      "Street        2.098e+04   1.71e+04      1.230      0.219   -1.25e+04    5.44e+04\n",
      "LotShape     -3723.8243   1796.651     -2.073      0.038   -7248.397    -199.252\n",
      "LandSlope    -1.227e+04   3993.790     -3.071      0.002   -2.01e+04   -4432.028\n",
      "HouseStyle   -6655.3255   1046.421     -6.360      0.000   -8708.138   -4602.513\n",
      "OverallQual   1.636e+04   1357.646     12.052      0.000    1.37e+04     1.9e+04\n",
      "OverallCond   5323.8223   1063.220      5.007      0.000    3238.055    7409.589\n",
      "ExterQual     1.235e+04   2964.908      4.166      0.000    6534.919    1.82e+04\n",
      "ExterCond    -2748.1556   3172.211     -0.866      0.386   -8971.225    3474.914\n",
      "BsmtQual      9088.5223   2188.151      4.154      0.000    4795.928    1.34e+04\n",
      "BsmtCond     -1.231e+04   2624.653     -4.691      0.000   -1.75e+04   -7163.900\n",
      "BsmtExposure  7015.4194   1226.531      5.720      0.000    4609.279    9421.560\n",
      "BsmtFinType1  1883.0524    635.225      2.964      0.003     636.904    3129.201\n",
      "BsmtFullBath  1.051e+04   2495.537      4.210      0.000    5610.756    1.54e+04\n",
      "FullBath       1.26e+04   2804.006      4.494      0.000    7100.534    1.81e+04\n",
      "HalfBath      1.155e+04   2701.477      4.275      0.000    6248.273    1.68e+04\n",
      "BedroomAbvGr -2627.0026   1836.067     -1.431      0.153   -6228.899     974.894\n",
      "KitchenAbvGr -2.778e+04   5475.851     -5.072      0.000   -3.85e+04    -1.7e+04\n",
      "KitchenQual   9845.8417   2360.792      4.171      0.000    5214.570    1.45e+04\n",
      "TotRmsAbvGrd  1.401e+04   1114.598     12.565      0.000    1.18e+04    1.62e+04\n",
      "Functional    3501.9322   1545.086      2.266      0.024     470.867    6532.998\n",
      "Fireplaces    1.207e+04   1814.297      6.654      0.000    8512.976    1.56e+04\n",
      "GarageCars    1.726e+04   2181.763      7.912      0.000     1.3e+04    2.15e+04\n",
      "GarageCond   -7019.5117   1867.990     -3.758      0.000   -1.07e+04   -3354.992\n",
      "PavedDrive    2656.0397   2228.204      1.192      0.233   -1715.129    7027.208\n",
      "==============================================================================\n",
      "Omnibus:                      629.728   Durbin-Watson:                   1.990\n",
      "Prob(Omnibus):                  0.000   Jarque-Bera (JB):            21223.622\n",
      "Skew:                           1.505   Prob(JB):                         0.00\n",
      "Kurtosis:                      22.132   Cond. No.                         718.\n",
      "==============================================================================\n",
      "\n",
      "Notes:\n",
      "[1] Standard Errors assume that the covariance matrix of the errors is correctly specified.\n"
     ]
    }
   ],
   "source": [
    "# Print a summary of the linear regression model obtained\n",
    "print(lr3.summary())"
   ]
  },
  {
   "cell_type": "markdown",
   "id": "f641960e",
   "metadata": {},
   "source": [
    "Remove the predictor ExterCond due to high p-value"
   ]
  },
  {
   "cell_type": "code",
   "execution_count": 529,
   "id": "ae07bedf",
   "metadata": {},
   "outputs": [],
   "source": [
    "XX_new = XX_new.drop([\"ExterCond\"], axis = 1)"
   ]
  },
  {
   "cell_type": "code",
   "execution_count": 530,
   "id": "653e6f65",
   "metadata": {},
   "outputs": [
    {
     "data": {
      "text/html": [
       "<div>\n",
       "<style scoped>\n",
       "    .dataframe tbody tr th:only-of-type {\n",
       "        vertical-align: middle;\n",
       "    }\n",
       "\n",
       "    .dataframe tbody tr th {\n",
       "        vertical-align: top;\n",
       "    }\n",
       "\n",
       "    .dataframe thead th {\n",
       "        text-align: right;\n",
       "    }\n",
       "</style>\n",
       "<table border=\"1\" class=\"dataframe\">\n",
       "  <thead>\n",
       "    <tr style=\"text-align: right;\">\n",
       "      <th></th>\n",
       "      <th>Features</th>\n",
       "      <th>VIF</th>\n",
       "    </tr>\n",
       "  </thead>\n",
       "  <tbody>\n",
       "    <tr>\n",
       "      <th>0</th>\n",
       "      <td>Street</td>\n",
       "      <td>345.99</td>\n",
       "    </tr>\n",
       "    <tr>\n",
       "      <th>2</th>\n",
       "      <td>LandSlope</td>\n",
       "      <td>139.92</td>\n",
       "    </tr>\n",
       "    <tr>\n",
       "      <th>18</th>\n",
       "      <td>Functional</td>\n",
       "      <td>138.42</td>\n",
       "    </tr>\n",
       "    <tr>\n",
       "      <th>6</th>\n",
       "      <td>ExterQual</td>\n",
       "      <td>107.36</td>\n",
       "    </tr>\n",
       "    <tr>\n",
       "      <th>4</th>\n",
       "      <td>OverallQual</td>\n",
       "      <td>73.73</td>\n",
       "    </tr>\n",
       "    <tr>\n",
       "      <th>16</th>\n",
       "      <td>KitchenQual</td>\n",
       "      <td>73.00</td>\n",
       "    </tr>\n",
       "    <tr>\n",
       "      <th>7</th>\n",
       "      <td>BsmtQual</td>\n",
       "      <td>62.55</td>\n",
       "    </tr>\n",
       "    <tr>\n",
       "      <th>8</th>\n",
       "      <td>BsmtCond</td>\n",
       "      <td>61.13</td>\n",
       "    </tr>\n",
       "    <tr>\n",
       "      <th>17</th>\n",
       "      <td>TotRmsAbvGrd</td>\n",
       "      <td>58.13</td>\n",
       "    </tr>\n",
       "    <tr>\n",
       "      <th>1</th>\n",
       "      <td>LotShape</td>\n",
       "      <td>42.28</td>\n",
       "    </tr>\n",
       "    <tr>\n",
       "      <th>22</th>\n",
       "      <td>PavedDrive</td>\n",
       "      <td>41.96</td>\n",
       "    </tr>\n",
       "    <tr>\n",
       "      <th>15</th>\n",
       "      <td>KitchenAbvGr</td>\n",
       "      <td>34.32</td>\n",
       "    </tr>\n",
       "    <tr>\n",
       "      <th>5</th>\n",
       "      <td>OverallCond</td>\n",
       "      <td>32.89</td>\n",
       "    </tr>\n",
       "    <tr>\n",
       "      <th>14</th>\n",
       "      <td>BedroomAbvGr</td>\n",
       "      <td>30.86</td>\n",
       "    </tr>\n",
       "    <tr>\n",
       "      <th>21</th>\n",
       "      <td>GarageCond</td>\n",
       "      <td>29.56</td>\n",
       "    </tr>\n",
       "    <tr>\n",
       "      <th>12</th>\n",
       "      <td>FullBath</td>\n",
       "      <td>22.26</td>\n",
       "    </tr>\n",
       "    <tr>\n",
       "      <th>20</th>\n",
       "      <td>GarageCars</td>\n",
       "      <td>18.01</td>\n",
       "    </tr>\n",
       "    <tr>\n",
       "      <th>3</th>\n",
       "      <td>HouseStyle</td>\n",
       "      <td>8.09</td>\n",
       "    </tr>\n",
       "    <tr>\n",
       "      <th>10</th>\n",
       "      <td>BsmtFinType1</td>\n",
       "      <td>6.68</td>\n",
       "    </tr>\n",
       "    <tr>\n",
       "      <th>9</th>\n",
       "      <td>BsmtExposure</td>\n",
       "      <td>5.08</td>\n",
       "    </tr>\n",
       "    <tr>\n",
       "      <th>13</th>\n",
       "      <td>HalfBath</td>\n",
       "      <td>3.05</td>\n",
       "    </tr>\n",
       "    <tr>\n",
       "      <th>11</th>\n",
       "      <td>BsmtFullBath</td>\n",
       "      <td>2.67</td>\n",
       "    </tr>\n",
       "    <tr>\n",
       "      <th>19</th>\n",
       "      <td>Fireplaces</td>\n",
       "      <td>2.64</td>\n",
       "    </tr>\n",
       "  </tbody>\n",
       "</table>\n",
       "</div>"
      ],
      "text/plain": [
       "        Features     VIF\n",
       "0         Street  345.99\n",
       "2      LandSlope  139.92\n",
       "18    Functional  138.42\n",
       "6      ExterQual  107.36\n",
       "4    OverallQual   73.73\n",
       "16   KitchenQual   73.00\n",
       "7       BsmtQual   62.55\n",
       "8       BsmtCond   61.13\n",
       "17  TotRmsAbvGrd   58.13\n",
       "1       LotShape   42.28\n",
       "22    PavedDrive   41.96\n",
       "15  KitchenAbvGr   34.32\n",
       "5    OverallCond   32.89\n",
       "14  BedroomAbvGr   30.86\n",
       "21    GarageCond   29.56\n",
       "12      FullBath   22.26\n",
       "20    GarageCars   18.01\n",
       "3     HouseStyle    8.09\n",
       "10  BsmtFinType1    6.68\n",
       "9   BsmtExposure    5.08\n",
       "13      HalfBath    3.05\n",
       "11  BsmtFullBath    2.67\n",
       "19    Fireplaces    2.64"
      ]
     },
     "execution_count": 530,
     "metadata": {},
     "output_type": "execute_result"
    }
   ],
   "source": [
    "# Check for the VIF values of the feature variables. \n",
    "from statsmodels.stats.outliers_influence import variance_inflation_factor\n",
    "\n",
    "# Create a dataframe that will contain the names of all the feature variables and their respective VIFs\n",
    "vif = pd.DataFrame()\n",
    "vif['Features'] = XX_new.columns\n",
    "vif['VIF'] = [variance_inflation_factor(XX_new.values, i) for i in range(XX_new.shape[1])]\n",
    "vif['VIF'] = round(vif['VIF'], 2)\n",
    "vif = vif.sort_values(by = \"VIF\", ascending = False)\n",
    "vif"
   ]
  },
  {
   "cell_type": "code",
   "execution_count": 531,
   "id": "db147af4",
   "metadata": {},
   "outputs": [],
   "source": [
    "# Add a constant\n",
    "XX_lm3 = sm.add_constant(XX_new)\n",
    "\n",
    "# Create a first fitted model\n",
    "lr3 = sm.OLS(yy, XX_lm3).fit()"
   ]
  },
  {
   "cell_type": "code",
   "execution_count": 527,
   "id": "7dec4df5",
   "metadata": {},
   "outputs": [
    {
     "data": {
      "text/plain": [
       "const          -143179.018682\n",
       "Street           20982.216836\n",
       "LotShape         -3723.824345\n",
       "LandSlope       -12266.826716\n",
       "HouseStyle       -6655.325472\n",
       "OverallQual      16362.997488\n",
       "OverallCond       5323.822289\n",
       "ExterQual        12351.313757\n",
       "ExterCond        -2748.155639\n",
       "BsmtQual          9088.522296\n",
       "BsmtCond        -12312.800492\n",
       "BsmtExposure      7015.419396\n",
       "BsmtFinType1      1883.052447\n",
       "BsmtFullBath     10506.364564\n",
       "FullBath         12601.279504\n",
       "HalfBath         11547.881933\n",
       "BedroomAbvGr     -2627.002634\n",
       "KitchenAbvGr    -27776.158334\n",
       "KitchenQual       9845.841652\n",
       "TotRmsAbvGrd     14005.180027\n",
       "Functional        3501.932179\n",
       "Fireplaces       12072.164304\n",
       "GarageCars       17262.179088\n",
       "GarageCond       -7019.511690\n",
       "PavedDrive        2656.039690\n",
       "dtype: float64"
      ]
     },
     "execution_count": 527,
     "metadata": {},
     "output_type": "execute_result"
    }
   ],
   "source": [
    "lr3.params"
   ]
  },
  {
   "cell_type": "code",
   "execution_count": 532,
   "id": "f809398b",
   "metadata": {},
   "outputs": [
    {
     "name": "stdout",
     "output_type": "stream",
     "text": [
      "                            OLS Regression Results                            \n",
      "==============================================================================\n",
      "Dep. Variable:                      y   R-squared:                       0.802\n",
      "Model:                            OLS   Adj. R-squared:                  0.799\n",
      "Method:                 Least Squares   F-statistic:                     235.3\n",
      "Date:                Mon, 02 Jan 2023   Prob (F-statistic):               0.00\n",
      "Time:                        23:16:13   Log-Likelihood:                -16180.\n",
      "No. Observations:                1358   AIC:                         3.241e+04\n",
      "Df Residuals:                    1334   BIC:                         3.253e+04\n",
      "Df Model:                          23                                         \n",
      "Covariance Type:            nonrobust                                         \n",
      "================================================================================\n",
      "                   coef    std err          t      P>|t|      [0.025      0.975]\n",
      "--------------------------------------------------------------------------------\n",
      "const        -1.483e+05   3.73e+04     -3.975      0.000   -2.22e+05   -7.51e+04\n",
      "Street        2.119e+04   1.71e+04      1.243      0.214   -1.23e+04    5.46e+04\n",
      "LotShape     -3693.8414   1796.150     -2.057      0.040   -7217.428    -170.255\n",
      "LandSlope    -1.243e+04   3989.135     -3.115      0.002   -2.03e+04   -4601.338\n",
      "HouseStyle   -6635.8608   1046.082     -6.344      0.000   -8688.006   -4583.715\n",
      "OverallQual   1.639e+04   1357.253     12.073      0.000    1.37e+04     1.9e+04\n",
      "OverallCond   5022.2737   1004.534      5.000      0.000    3051.635    6992.913\n",
      "ExterQual     1.228e+04   2963.545      4.144      0.000    6468.074    1.81e+04\n",
      "BsmtQual      9274.8028   2177.357      4.260      0.000    5003.387    1.35e+04\n",
      "BsmtCond     -1.259e+04   2604.916     -4.833      0.000   -1.77e+04   -7479.227\n",
      "BsmtExposure  7019.7530   1226.406      5.724      0.000    4613.859    9425.647\n",
      "BsmtFinType1  1882.7250    635.165      2.964      0.003     636.694    3128.756\n",
      "BsmtFullBath   1.04e+04   2492.072      4.172      0.000    5507.557    1.53e+04\n",
      "FullBath      1.239e+04   2792.832      4.435      0.000    6908.353    1.79e+04\n",
      "HalfBath      1.158e+04   2701.032      4.286      0.000    6277.069    1.69e+04\n",
      "BedroomAbvGr -2634.4561   1835.875     -1.435      0.152   -6235.974     967.061\n",
      "KitchenAbvGr  -2.77e+04   5474.661     -5.060      0.000   -3.84e+04    -1.7e+04\n",
      "KitchenQual   9770.8337   2358.983      4.142      0.000    5143.113    1.44e+04\n",
      "TotRmsAbvGrd    1.4e+04   1114.494     12.566      0.000    1.18e+04    1.62e+04\n",
      "Functional    3438.7630   1543.220      2.228      0.026     411.360    6466.166\n",
      "Fireplaces    1.205e+04   1813.861      6.641      0.000    8486.876    1.56e+04\n",
      "GarageCars    1.733e+04   2180.262      7.947      0.000    1.31e+04    2.16e+04\n",
      "GarageCond   -7149.4046   1861.788     -3.840      0.000   -1.08e+04   -3497.052\n",
      "PavedDrive    2605.5532   2227.233      1.170      0.242   -1763.708    6974.815\n",
      "==============================================================================\n",
      "Omnibus:                      629.111   Durbin-Watson:                   1.989\n",
      "Prob(Omnibus):                  0.000   Jarque-Bera (JB):            21122.315\n",
      "Skew:                           1.504   Prob(JB):                         0.00\n",
      "Kurtosis:                      22.085   Cond. No.                         701.\n",
      "==============================================================================\n",
      "\n",
      "Notes:\n",
      "[1] Standard Errors assume that the covariance matrix of the errors is correctly specified.\n"
     ]
    }
   ],
   "source": [
    "# Print a summary of the linear regression model obtained\n",
    "print(lr3.summary())"
   ]
  },
  {
   "cell_type": "markdown",
   "id": "e3bcf1fe",
   "metadata": {},
   "source": [
    "Remove predictor PavedDrive due to high p-value"
   ]
  },
  {
   "cell_type": "code",
   "execution_count": 533,
   "id": "cfcc69f5",
   "metadata": {},
   "outputs": [],
   "source": [
    "XX_new = XX_new.drop([\"PavedDrive\"], axis = 1)"
   ]
  },
  {
   "cell_type": "code",
   "execution_count": 534,
   "id": "47bb3830",
   "metadata": {},
   "outputs": [
    {
     "data": {
      "text/html": [
       "<div>\n",
       "<style scoped>\n",
       "    .dataframe tbody tr th:only-of-type {\n",
       "        vertical-align: middle;\n",
       "    }\n",
       "\n",
       "    .dataframe tbody tr th {\n",
       "        vertical-align: top;\n",
       "    }\n",
       "\n",
       "    .dataframe thead th {\n",
       "        text-align: right;\n",
       "    }\n",
       "</style>\n",
       "<table border=\"1\" class=\"dataframe\">\n",
       "  <thead>\n",
       "    <tr style=\"text-align: right;\">\n",
       "      <th></th>\n",
       "      <th>Features</th>\n",
       "      <th>VIF</th>\n",
       "    </tr>\n",
       "  </thead>\n",
       "  <tbody>\n",
       "    <tr>\n",
       "      <th>0</th>\n",
       "      <td>Street</td>\n",
       "      <td>334.74</td>\n",
       "    </tr>\n",
       "    <tr>\n",
       "      <th>2</th>\n",
       "      <td>LandSlope</td>\n",
       "      <td>139.90</td>\n",
       "    </tr>\n",
       "    <tr>\n",
       "      <th>18</th>\n",
       "      <td>Functional</td>\n",
       "      <td>138.08</td>\n",
       "    </tr>\n",
       "    <tr>\n",
       "      <th>6</th>\n",
       "      <td>ExterQual</td>\n",
       "      <td>107.30</td>\n",
       "    </tr>\n",
       "    <tr>\n",
       "      <th>4</th>\n",
       "      <td>OverallQual</td>\n",
       "      <td>73.73</td>\n",
       "    </tr>\n",
       "    <tr>\n",
       "      <th>16</th>\n",
       "      <td>KitchenQual</td>\n",
       "      <td>72.94</td>\n",
       "    </tr>\n",
       "    <tr>\n",
       "      <th>7</th>\n",
       "      <td>BsmtQual</td>\n",
       "      <td>62.54</td>\n",
       "    </tr>\n",
       "    <tr>\n",
       "      <th>8</th>\n",
       "      <td>BsmtCond</td>\n",
       "      <td>60.82</td>\n",
       "    </tr>\n",
       "    <tr>\n",
       "      <th>17</th>\n",
       "      <td>TotRmsAbvGrd</td>\n",
       "      <td>57.94</td>\n",
       "    </tr>\n",
       "    <tr>\n",
       "      <th>1</th>\n",
       "      <td>LotShape</td>\n",
       "      <td>42.28</td>\n",
       "    </tr>\n",
       "    <tr>\n",
       "      <th>15</th>\n",
       "      <td>KitchenAbvGr</td>\n",
       "      <td>34.30</td>\n",
       "    </tr>\n",
       "    <tr>\n",
       "      <th>5</th>\n",
       "      <td>OverallCond</td>\n",
       "      <td>32.81</td>\n",
       "    </tr>\n",
       "    <tr>\n",
       "      <th>14</th>\n",
       "      <td>BedroomAbvGr</td>\n",
       "      <td>30.76</td>\n",
       "    </tr>\n",
       "    <tr>\n",
       "      <th>21</th>\n",
       "      <td>GarageCond</td>\n",
       "      <td>27.21</td>\n",
       "    </tr>\n",
       "    <tr>\n",
       "      <th>12</th>\n",
       "      <td>FullBath</td>\n",
       "      <td>22.11</td>\n",
       "    </tr>\n",
       "    <tr>\n",
       "      <th>20</th>\n",
       "      <td>GarageCars</td>\n",
       "      <td>18.01</td>\n",
       "    </tr>\n",
       "    <tr>\n",
       "      <th>3</th>\n",
       "      <td>HouseStyle</td>\n",
       "      <td>7.93</td>\n",
       "    </tr>\n",
       "    <tr>\n",
       "      <th>10</th>\n",
       "      <td>BsmtFinType1</td>\n",
       "      <td>6.60</td>\n",
       "    </tr>\n",
       "    <tr>\n",
       "      <th>9</th>\n",
       "      <td>BsmtExposure</td>\n",
       "      <td>5.07</td>\n",
       "    </tr>\n",
       "    <tr>\n",
       "      <th>13</th>\n",
       "      <td>HalfBath</td>\n",
       "      <td>3.01</td>\n",
       "    </tr>\n",
       "    <tr>\n",
       "      <th>11</th>\n",
       "      <td>BsmtFullBath</td>\n",
       "      <td>2.67</td>\n",
       "    </tr>\n",
       "    <tr>\n",
       "      <th>19</th>\n",
       "      <td>Fireplaces</td>\n",
       "      <td>2.63</td>\n",
       "    </tr>\n",
       "  </tbody>\n",
       "</table>\n",
       "</div>"
      ],
      "text/plain": [
       "        Features     VIF\n",
       "0         Street  334.74\n",
       "2      LandSlope  139.90\n",
       "18    Functional  138.08\n",
       "6      ExterQual  107.30\n",
       "4    OverallQual   73.73\n",
       "16   KitchenQual   72.94\n",
       "7       BsmtQual   62.54\n",
       "8       BsmtCond   60.82\n",
       "17  TotRmsAbvGrd   57.94\n",
       "1       LotShape   42.28\n",
       "15  KitchenAbvGr   34.30\n",
       "5    OverallCond   32.81\n",
       "14  BedroomAbvGr   30.76\n",
       "21    GarageCond   27.21\n",
       "12      FullBath   22.11\n",
       "20    GarageCars   18.01\n",
       "3     HouseStyle    7.93\n",
       "10  BsmtFinType1    6.60\n",
       "9   BsmtExposure    5.07\n",
       "13      HalfBath    3.01\n",
       "11  BsmtFullBath    2.67\n",
       "19    Fireplaces    2.63"
      ]
     },
     "execution_count": 534,
     "metadata": {},
     "output_type": "execute_result"
    }
   ],
   "source": [
    "# Check for the VIF values of the feature variables. \n",
    "from statsmodels.stats.outliers_influence import variance_inflation_factor\n",
    "\n",
    "# Create a dataframe that will contain the names of all the feature variables and their respective VIFs\n",
    "vif = pd.DataFrame()\n",
    "vif['Features'] = XX_new.columns\n",
    "vif['VIF'] = [variance_inflation_factor(XX_new.values, i) for i in range(XX_new.shape[1])]\n",
    "vif['VIF'] = round(vif['VIF'], 2)\n",
    "vif = vif.sort_values(by = \"VIF\", ascending = False)\n",
    "vif"
   ]
  },
  {
   "cell_type": "code",
   "execution_count": 535,
   "id": "11b3b206",
   "metadata": {},
   "outputs": [],
   "source": [
    "# Add a constant\n",
    "XX_lm3 = sm.add_constant(XX_new)\n",
    "\n",
    "# Create a first fitted model\n",
    "lr3 = sm.OLS(yy, XX_lm3).fit()"
   ]
  },
  {
   "cell_type": "code",
   "execution_count": 536,
   "id": "7d5ef297",
   "metadata": {},
   "outputs": [
    {
     "data": {
      "text/plain": [
       "const          -144466.987158\n",
       "Street           21647.729509\n",
       "LotShape         -3724.637683\n",
       "LandSlope       -12403.631065\n",
       "HouseStyle       -6811.578415\n",
       "OverallQual      16387.391870\n",
       "OverallCond       4955.574556\n",
       "ExterQual        12359.419122\n",
       "BsmtQual          9290.941889\n",
       "BsmtCond        -12393.358087\n",
       "BsmtExposure      6961.006195\n",
       "BsmtFinType1      1968.023400\n",
       "BsmtFullBath     10286.616453\n",
       "FullBath         12660.476113\n",
       "HalfBath         11955.882316\n",
       "BedroomAbvGr     -2517.839973\n",
       "KitchenAbvGr    -27948.990214\n",
       "KitchenQual       9842.376561\n",
       "TotRmsAbvGrd     13928.903250\n",
       "Functional        3479.775972\n",
       "Fireplaces       12122.518509\n",
       "GarageCars       17287.619172\n",
       "GarageCond       -6549.386592\n",
       "dtype: float64"
      ]
     },
     "execution_count": 536,
     "metadata": {},
     "output_type": "execute_result"
    }
   ],
   "source": [
    "lr3.params"
   ]
  },
  {
   "cell_type": "code",
   "execution_count": 537,
   "id": "a872468a",
   "metadata": {},
   "outputs": [
    {
     "name": "stdout",
     "output_type": "stream",
     "text": [
      "                            OLS Regression Results                            \n",
      "==============================================================================\n",
      "Dep. Variable:                      y   R-squared:                       0.802\n",
      "Model:                            OLS   Adj. R-squared:                  0.799\n",
      "Method:                 Least Squares   F-statistic:                     245.9\n",
      "Date:                Mon, 02 Jan 2023   Prob (F-statistic):               0.00\n",
      "Time:                        23:19:13   Log-Likelihood:                -16181.\n",
      "No. Observations:                1358   AIC:                         3.241e+04\n",
      "Df Residuals:                    1335   BIC:                         3.253e+04\n",
      "Df Model:                          22                                         \n",
      "Covariance Type:            nonrobust                                         \n",
      "================================================================================\n",
      "                   coef    std err          t      P>|t|      [0.025      0.975]\n",
      "--------------------------------------------------------------------------------\n",
      "const        -1.445e+05   3.72e+04     -3.886      0.000   -2.17e+05   -7.15e+04\n",
      "Street        2.165e+04    1.7e+04      1.270      0.204   -1.18e+04    5.51e+04\n",
      "LotShape     -3724.6377   1796.205     -2.074      0.038   -7248.330    -200.946\n",
      "LandSlope     -1.24e+04   3989.636     -3.109      0.002   -2.02e+04   -4576.993\n",
      "HouseStyle   -6811.5784   1035.385     -6.579      0.000   -8842.738   -4780.419\n",
      "OverallQual   1.639e+04   1357.440     12.072      0.000    1.37e+04    1.91e+04\n",
      "OverallCond   4955.5746   1003.053      4.940      0.000    2987.842    6923.307\n",
      "ExterQual     1.236e+04   2963.211      4.171      0.000    6546.362    1.82e+04\n",
      "BsmtQual      9290.9419   2177.614      4.267      0.000    5019.025    1.36e+04\n",
      "BsmtCond     -1.239e+04   2599.879     -4.767      0.000   -1.75e+04   -7293.065\n",
      "BsmtExposure  6961.0062   1225.546      5.680      0.000    4556.800    9365.212\n",
      "BsmtFinType1  1968.0234    631.053      3.119      0.002     730.059    3205.988\n",
      "BsmtFullBath  1.029e+04   2490.649      4.130      0.000    5400.604    1.52e+04\n",
      "FullBath      1.266e+04   2783.428      4.549      0.000    7200.106    1.81e+04\n",
      "HalfBath      1.196e+04   2681.791      4.458      0.000    6694.899    1.72e+04\n",
      "BedroomAbvGr -2517.8400   1833.420     -1.373      0.170   -6114.538    1078.858\n",
      "KitchenAbvGr -2.795e+04   5471.328     -5.108      0.000   -3.87e+04   -1.72e+04\n",
      "KitchenQual   9842.3766   2358.516      4.173      0.000    5215.576    1.45e+04\n",
      "TotRmsAbvGrd  1.393e+04   1112.778     12.517      0.000    1.17e+04    1.61e+04\n",
      "Functional    3479.7760   1543.035      2.255      0.024     452.738    6506.814\n",
      "Fireplaces    1.212e+04   1812.906      6.687      0.000    8566.063    1.57e+04\n",
      "GarageCars    1.729e+04   2180.298      7.929      0.000     1.3e+04    2.16e+04\n",
      "GarageCond   -6549.3866   1789.994     -3.659      0.000   -1.01e+04   -3037.880\n",
      "==============================================================================\n",
      "Omnibus:                      627.014   Durbin-Watson:                   1.987\n",
      "Prob(Omnibus):                  0.000   Jarque-Bera (JB):            20897.350\n",
      "Skew:                           1.498   Prob(JB):                         0.00\n",
      "Kurtosis:                      21.983   Cond. No.                         689.\n",
      "==============================================================================\n",
      "\n",
      "Notes:\n",
      "[1] Standard Errors assume that the covariance matrix of the errors is correctly specified.\n"
     ]
    }
   ],
   "source": [
    "# Print a summary of the linear regression model obtained\n",
    "print(lr3.summary())"
   ]
  },
  {
   "cell_type": "markdown",
   "id": "0a000a35",
   "metadata": {},
   "source": [
    "Remove predictor Street due to high p-value"
   ]
  },
  {
   "cell_type": "code",
   "execution_count": 538,
   "id": "9bfe349f",
   "metadata": {},
   "outputs": [],
   "source": [
    "XX_new = XX_new.drop([\"Street\"], axis = 1)"
   ]
  },
  {
   "cell_type": "code",
   "execution_count": 539,
   "id": "fc710394",
   "metadata": {},
   "outputs": [
    {
     "data": {
      "text/html": [
       "<div>\n",
       "<style scoped>\n",
       "    .dataframe tbody tr th:only-of-type {\n",
       "        vertical-align: middle;\n",
       "    }\n",
       "\n",
       "    .dataframe tbody tr th {\n",
       "        vertical-align: top;\n",
       "    }\n",
       "\n",
       "    .dataframe thead th {\n",
       "        text-align: right;\n",
       "    }\n",
       "</style>\n",
       "<table border=\"1\" class=\"dataframe\">\n",
       "  <thead>\n",
       "    <tr style=\"text-align: right;\">\n",
       "      <th></th>\n",
       "      <th>Features</th>\n",
       "      <th>VIF</th>\n",
       "    </tr>\n",
       "  </thead>\n",
       "  <tbody>\n",
       "    <tr>\n",
       "      <th>17</th>\n",
       "      <td>Functional</td>\n",
       "      <td>117.80</td>\n",
       "    </tr>\n",
       "    <tr>\n",
       "      <th>1</th>\n",
       "      <td>LandSlope</td>\n",
       "      <td>112.02</td>\n",
       "    </tr>\n",
       "    <tr>\n",
       "      <th>5</th>\n",
       "      <td>ExterQual</td>\n",
       "      <td>102.26</td>\n",
       "    </tr>\n",
       "    <tr>\n",
       "      <th>3</th>\n",
       "      <td>OverallQual</td>\n",
       "      <td>73.17</td>\n",
       "    </tr>\n",
       "    <tr>\n",
       "      <th>15</th>\n",
       "      <td>KitchenQual</td>\n",
       "      <td>72.52</td>\n",
       "    </tr>\n",
       "    <tr>\n",
       "      <th>6</th>\n",
       "      <td>BsmtQual</td>\n",
       "      <td>62.49</td>\n",
       "    </tr>\n",
       "    <tr>\n",
       "      <th>7</th>\n",
       "      <td>BsmtCond</td>\n",
       "      <td>60.29</td>\n",
       "    </tr>\n",
       "    <tr>\n",
       "      <th>16</th>\n",
       "      <td>TotRmsAbvGrd</td>\n",
       "      <td>57.93</td>\n",
       "    </tr>\n",
       "    <tr>\n",
       "      <th>0</th>\n",
       "      <td>LotShape</td>\n",
       "      <td>39.17</td>\n",
       "    </tr>\n",
       "    <tr>\n",
       "      <th>14</th>\n",
       "      <td>KitchenAbvGr</td>\n",
       "      <td>31.80</td>\n",
       "    </tr>\n",
       "    <tr>\n",
       "      <th>4</th>\n",
       "      <td>OverallCond</td>\n",
       "      <td>31.73</td>\n",
       "    </tr>\n",
       "    <tr>\n",
       "      <th>13</th>\n",
       "      <td>BedroomAbvGr</td>\n",
       "      <td>30.48</td>\n",
       "    </tr>\n",
       "    <tr>\n",
       "      <th>20</th>\n",
       "      <td>GarageCond</td>\n",
       "      <td>26.24</td>\n",
       "    </tr>\n",
       "    <tr>\n",
       "      <th>11</th>\n",
       "      <td>FullBath</td>\n",
       "      <td>22.10</td>\n",
       "    </tr>\n",
       "    <tr>\n",
       "      <th>19</th>\n",
       "      <td>GarageCars</td>\n",
       "      <td>17.48</td>\n",
       "    </tr>\n",
       "    <tr>\n",
       "      <th>2</th>\n",
       "      <td>HouseStyle</td>\n",
       "      <td>7.93</td>\n",
       "    </tr>\n",
       "    <tr>\n",
       "      <th>9</th>\n",
       "      <td>BsmtFinType1</td>\n",
       "      <td>6.60</td>\n",
       "    </tr>\n",
       "    <tr>\n",
       "      <th>8</th>\n",
       "      <td>BsmtExposure</td>\n",
       "      <td>5.01</td>\n",
       "    </tr>\n",
       "    <tr>\n",
       "      <th>12</th>\n",
       "      <td>HalfBath</td>\n",
       "      <td>3.01</td>\n",
       "    </tr>\n",
       "    <tr>\n",
       "      <th>10</th>\n",
       "      <td>BsmtFullBath</td>\n",
       "      <td>2.67</td>\n",
       "    </tr>\n",
       "    <tr>\n",
       "      <th>18</th>\n",
       "      <td>Fireplaces</td>\n",
       "      <td>2.61</td>\n",
       "    </tr>\n",
       "  </tbody>\n",
       "</table>\n",
       "</div>"
      ],
      "text/plain": [
       "        Features     VIF\n",
       "17    Functional  117.80\n",
       "1      LandSlope  112.02\n",
       "5      ExterQual  102.26\n",
       "3    OverallQual   73.17\n",
       "15   KitchenQual   72.52\n",
       "6       BsmtQual   62.49\n",
       "7       BsmtCond   60.29\n",
       "16  TotRmsAbvGrd   57.93\n",
       "0       LotShape   39.17\n",
       "14  KitchenAbvGr   31.80\n",
       "4    OverallCond   31.73\n",
       "13  BedroomAbvGr   30.48\n",
       "20    GarageCond   26.24\n",
       "11      FullBath   22.10\n",
       "19    GarageCars   17.48\n",
       "2     HouseStyle    7.93\n",
       "9   BsmtFinType1    6.60\n",
       "8   BsmtExposure    5.01\n",
       "12      HalfBath    3.01\n",
       "10  BsmtFullBath    2.67\n",
       "18    Fireplaces    2.61"
      ]
     },
     "execution_count": 539,
     "metadata": {},
     "output_type": "execute_result"
    }
   ],
   "source": [
    "# Check for the VIF values of the feature variables. \n",
    "from statsmodels.stats.outliers_influence import variance_inflation_factor\n",
    "\n",
    "# Create a dataframe that will contain the names of all the feature variables and their respective VIFs\n",
    "vif = pd.DataFrame()\n",
    "vif['Features'] = XX_new.columns\n",
    "vif['VIF'] = [variance_inflation_factor(XX_new.values, i) for i in range(XX_new.shape[1])]\n",
    "vif['VIF'] = round(vif['VIF'], 2)\n",
    "vif = vif.sort_values(by = \"VIF\", ascending = False)\n",
    "vif"
   ]
  },
  {
   "cell_type": "code",
   "execution_count": 540,
   "id": "06016baf",
   "metadata": {},
   "outputs": [],
   "source": [
    "# Add a constant\n",
    "XX_lm3 = sm.add_constant(XX_new)\n",
    "\n",
    "# Create a first fitted model\n",
    "lr3 = sm.OLS(yy, XX_lm3).fit()"
   ]
  },
  {
   "cell_type": "code",
   "execution_count": 541,
   "id": "eb300cb8",
   "metadata": {},
   "outputs": [
    {
     "data": {
      "text/plain": [
       "const          -104507.871612\n",
       "LotShape         -3734.712742\n",
       "LandSlope       -11616.949359\n",
       "HouseStyle       -6821.033479\n",
       "OverallQual      16433.993355\n",
       "OverallCond       5008.150436\n",
       "ExterQual        12692.654073\n",
       "BsmtQual          9307.387419\n",
       "BsmtCond        -12464.575853\n",
       "BsmtExposure      6870.649570\n",
       "BsmtFinType1      2022.658502\n",
       "BsmtFullBath     10134.824218\n",
       "FullBath         12647.224637\n",
       "HalfBath         11987.227802\n",
       "BedroomAbvGr     -2465.850112\n",
       "KitchenAbvGr    -27789.834653\n",
       "KitchenQual       9886.803981\n",
       "TotRmsAbvGrd     13940.537178\n",
       "Functional        3388.541785\n",
       "Fireplaces       12104.674789\n",
       "GarageCars       16983.974618\n",
       "GarageCond       -6487.136296\n",
       "dtype: float64"
      ]
     },
     "execution_count": 541,
     "metadata": {},
     "output_type": "execute_result"
    }
   ],
   "source": [
    "lr3.params"
   ]
  },
  {
   "cell_type": "code",
   "execution_count": 542,
   "id": "6aec1cbc",
   "metadata": {},
   "outputs": [
    {
     "name": "stdout",
     "output_type": "stream",
     "text": [
      "                            OLS Regression Results                            \n",
      "==============================================================================\n",
      "Dep. Variable:                      y   R-squared:                       0.802\n",
      "Model:                            OLS   Adj. R-squared:                  0.799\n",
      "Method:                 Least Squares   F-statistic:                     257.4\n",
      "Date:                Mon, 02 Jan 2023   Prob (F-statistic):               0.00\n",
      "Time:                        23:21:40   Log-Likelihood:                -16182.\n",
      "No. Observations:                1358   AIC:                         3.241e+04\n",
      "Df Residuals:                    1336   BIC:                         3.252e+04\n",
      "Df Model:                          21                                         \n",
      "Covariance Type:            nonrobust                                         \n",
      "================================================================================\n",
      "                   coef    std err          t      P>|t|      [0.025      0.975]\n",
      "--------------------------------------------------------------------------------\n",
      "const        -1.045e+05   1.98e+04     -5.282      0.000   -1.43e+05   -6.57e+04\n",
      "LotShape     -3734.7127   1796.599     -2.079      0.038   -7259.175    -210.251\n",
      "LandSlope    -1.162e+04   3942.133     -2.947      0.003   -1.94e+04   -3883.505\n",
      "HouseStyle   -6821.0335   1035.596     -6.587      0.000   -8852.604   -4789.463\n",
      "OverallQual   1.643e+04   1357.255     12.108      0.000    1.38e+04    1.91e+04\n",
      "OverallCond   5008.1504   1002.428      4.996      0.000    3041.646    6974.654\n",
      "ExterQual     1.269e+04   2952.241      4.299      0.000    6901.121    1.85e+04\n",
      "BsmtQual      9307.3874   2178.074      4.273      0.000    5034.570    1.36e+04\n",
      "BsmtCond     -1.246e+04   2599.869     -4.794      0.000   -1.76e+04   -7364.305\n",
      "BsmtExposure  6870.6496   1223.758      5.614      0.000    4469.952    9271.347\n",
      "BsmtFinType1  2022.6585    629.729      3.212      0.001     787.294    3258.023\n",
      "BsmtFullBath  1.013e+04   2488.348      4.073      0.000    5253.329     1.5e+04\n",
      "FullBath      1.265e+04   2784.046      4.543      0.000    7185.646    1.81e+04\n",
      "HalfBath      1.199e+04   2682.292      4.469      0.000    6725.266    1.72e+04\n",
      "BedroomAbvGr -2465.8501   1833.383     -1.345      0.179   -6062.473    1130.772\n",
      "KitchenAbvGr -2.779e+04   5471.144     -5.079      0.000   -3.85e+04   -1.71e+04\n",
      "KitchenQual   9886.8040   2358.796      4.191      0.000    5259.456    1.45e+04\n",
      "TotRmsAbvGrd  1.394e+04   1112.995     12.525      0.000    1.18e+04    1.61e+04\n",
      "Functional    3388.5418   1541.714      2.198      0.028     364.098    6412.986\n",
      "Fireplaces     1.21e+04   1813.267      6.676      0.000    8547.514    1.57e+04\n",
      "GarageCars    1.698e+04   2167.639      7.835      0.000    1.27e+04    2.12e+04\n",
      "GarageCond   -6487.1363   1789.732     -3.625      0.000   -9998.127   -2976.145\n",
      "==============================================================================\n",
      "Omnibus:                      625.575   Durbin-Watson:                   1.986\n",
      "Prob(Omnibus):                  0.000   Jarque-Bera (JB):            20756.234\n",
      "Skew:                           1.494   Prob(JB):                         0.00\n",
      "Kurtosis:                      21.918   Cond. No.                         342.\n",
      "==============================================================================\n",
      "\n",
      "Notes:\n",
      "[1] Standard Errors assume that the covariance matrix of the errors is correctly specified.\n"
     ]
    }
   ],
   "source": [
    "# Print a summary of the linear regression model obtained\n",
    "print(lr3.summary())"
   ]
  },
  {
   "cell_type": "markdown",
   "id": "fe1ce083",
   "metadata": {},
   "source": [
    "<br>\n",
    "<br>\n",
    "<font size ='4'>\n",
    "<b> Now we have a good set of 21 predictors, all of which have a low p-value. Let us proceed with these predictors to rerun our LR, Ridge and Lasso models. </b>\n",
    "<font size>"
   ]
  },
  {
   "cell_type": "code",
   "execution_count": 545,
   "id": "9fac5dbb",
   "metadata": {},
   "outputs": [
    {
     "name": "stdout",
     "output_type": "stream",
     "text": [
      "<class 'pandas.core.frame.DataFrame'>\n",
      "Int64Index: 1358 entries, 0 to 1459\n",
      "Data columns (total 22 columns):\n",
      " #   Column        Non-Null Count  Dtype  \n",
      "---  ------        --------------  -----  \n",
      " 0   const         1358 non-null   float64\n",
      " 1   LotShape      1358 non-null   int32  \n",
      " 2   LandSlope     1358 non-null   int32  \n",
      " 3   HouseStyle    1358 non-null   int32  \n",
      " 4   OverallQual   1358 non-null   int64  \n",
      " 5   OverallCond   1358 non-null   int64  \n",
      " 6   ExterQual     1358 non-null   int32  \n",
      " 7   BsmtQual      1358 non-null   int32  \n",
      " 8   BsmtCond      1358 non-null   int32  \n",
      " 9   BsmtExposure  1358 non-null   int32  \n",
      " 10  BsmtFinType1  1358 non-null   int32  \n",
      " 11  BsmtFullBath  1358 non-null   int64  \n",
      " 12  FullBath      1358 non-null   int64  \n",
      " 13  HalfBath      1358 non-null   int64  \n",
      " 14  BedroomAbvGr  1358 non-null   int64  \n",
      " 15  KitchenAbvGr  1358 non-null   int64  \n",
      " 16  KitchenQual   1358 non-null   int32  \n",
      " 17  TotRmsAbvGrd  1358 non-null   int64  \n",
      " 18  Functional    1358 non-null   int32  \n",
      " 19  Fireplaces    1358 non-null   int64  \n",
      " 20  GarageCars    1358 non-null   int64  \n",
      " 21  GarageCond    1358 non-null   int32  \n",
      "dtypes: float64(1), int32(11), int64(10)\n",
      "memory usage: 185.7 KB\n"
     ]
    }
   ],
   "source": [
    "XX_lm3.info()"
   ]
  },
  {
   "cell_type": "code",
   "execution_count": 546,
   "id": "0952dd87",
   "metadata": {},
   "outputs": [
    {
     "data": {
      "text/plain": [
       "1358"
      ]
     },
     "execution_count": 546,
     "metadata": {},
     "output_type": "execute_result"
    }
   ],
   "source": [
    "len(yy)"
   ]
  },
  {
   "cell_type": "code",
   "execution_count": 549,
   "id": "c0694342",
   "metadata": {},
   "outputs": [],
   "source": [
    "XX_lm3 = XX_lm3.drop(['const'],axis=1)"
   ]
  },
  {
   "cell_type": "code",
   "execution_count": 550,
   "id": "8606702a",
   "metadata": {},
   "outputs": [
    {
     "name": "stdout",
     "output_type": "stream",
     "text": [
      "<class 'pandas.core.frame.DataFrame'>\n",
      "Int64Index: 1358 entries, 0 to 1459\n",
      "Data columns (total 21 columns):\n",
      " #   Column        Non-Null Count  Dtype\n",
      "---  ------        --------------  -----\n",
      " 0   LotShape      1358 non-null   int32\n",
      " 1   LandSlope     1358 non-null   int32\n",
      " 2   HouseStyle    1358 non-null   int32\n",
      " 3   OverallQual   1358 non-null   int64\n",
      " 4   OverallCond   1358 non-null   int64\n",
      " 5   ExterQual     1358 non-null   int32\n",
      " 6   BsmtQual      1358 non-null   int32\n",
      " 7   BsmtCond      1358 non-null   int32\n",
      " 8   BsmtExposure  1358 non-null   int32\n",
      " 9   BsmtFinType1  1358 non-null   int32\n",
      " 10  BsmtFullBath  1358 non-null   int64\n",
      " 11  FullBath      1358 non-null   int64\n",
      " 12  HalfBath      1358 non-null   int64\n",
      " 13  BedroomAbvGr  1358 non-null   int64\n",
      " 14  KitchenAbvGr  1358 non-null   int64\n",
      " 15  KitchenQual   1358 non-null   int32\n",
      " 16  TotRmsAbvGrd  1358 non-null   int64\n",
      " 17  Functional    1358 non-null   int32\n",
      " 18  Fireplaces    1358 non-null   int64\n",
      " 19  GarageCars    1358 non-null   int64\n",
      " 20  GarageCond    1358 non-null   int32\n",
      "dtypes: int32(11), int64(10)\n",
      "memory usage: 175.1 KB\n"
     ]
    }
   ],
   "source": [
    "XX_lm3.info()"
   ]
  },
  {
   "cell_type": "markdown",
   "id": "00f993eb",
   "metadata": {},
   "source": [
    "<br>\n",
    "<br>\n",
    "<br>\n",
    "<font size = '4'>\n",
    "<b>Let's run the LR, Ridge and Lasso models with this new set of train and test datasets.</b>\n",
    "<font size>"
   ]
  },
  {
   "cell_type": "code",
   "execution_count": 551,
   "id": "1d52fe2f",
   "metadata": {},
   "outputs": [],
   "source": [
    "#First we create the datasets for X (predictors) and y(response)\n",
    "X = XX_lm3\n",
    "y = np.array(cleandata['SalePrice']).reshape(-1,1) #Only the SalePrice column"
   ]
  },
  {
   "cell_type": "code",
   "execution_count": 552,
   "id": "75fe5cb9",
   "metadata": {},
   "outputs": [
    {
     "data": {
      "text/plain": [
       "1358"
      ]
     },
     "execution_count": 552,
     "metadata": {},
     "output_type": "execute_result"
    }
   ],
   "source": [
    "len(X)"
   ]
  },
  {
   "cell_type": "code",
   "execution_count": 553,
   "id": "793ef913",
   "metadata": {},
   "outputs": [
    {
     "data": {
      "text/plain": [
       "1358"
      ]
     },
     "execution_count": 553,
     "metadata": {},
     "output_type": "execute_result"
    }
   ],
   "source": [
    "len(y)"
   ]
  },
  {
   "cell_type": "code",
   "execution_count": 554,
   "id": "f1e9c7d6",
   "metadata": {},
   "outputs": [],
   "source": [
    "#Let's split the data into train and test parts and then fit an LR line to it\n",
    "from sklearn.model_selection import train_test_split\n",
    "X_train, X_test, y_train, y_test = train_test_split(X, y, train_size=0.7, test_size=0.3, random_state=100)"
   ]
  },
  {
   "cell_type": "code",
   "execution_count": 555,
   "id": "230bd766",
   "metadata": {},
   "outputs": [
    {
     "data": {
      "text/plain": [
       "LinearRegression()"
      ]
     },
     "execution_count": 555,
     "metadata": {},
     "output_type": "execute_result"
    }
   ],
   "source": [
    "#Let's now initiate an LR model and fit an LR line into it\n",
    "lm = LinearRegression()\n",
    "lm.fit(X_train, y_train)"
   ]
  },
  {
   "cell_type": "code",
   "execution_count": 556,
   "id": "ccf5f3e7",
   "metadata": {},
   "outputs": [
    {
     "name": "stdout",
     "output_type": "stream",
     "text": [
      "[-113908.43651979]\n",
      "[[ -5721.0683635   -6437.9718825   -5863.46783236  16196.77936669\n",
      "    5526.56121238  11995.3298327   11170.106778   -14277.52537672\n",
      "    6978.39146185   2287.04278716   9484.60343637   9313.09311173\n",
      "   10448.62784762  -3697.32553421 -23132.62278483  11486.57243333\n",
      "   14308.53941462   2769.87627006  13647.6714924   15499.39404307\n",
      "   -6180.11161291]]\n"
     ]
    }
   ],
   "source": [
    "#Now let's find the intercept and coefficient values\n",
    "print(lm.intercept_)\n",
    "print(lm.coef_)"
   ]
  },
  {
   "cell_type": "code",
   "execution_count": 557,
   "id": "bb3d58ae",
   "metadata": {},
   "outputs": [
    {
     "name": "stdout",
     "output_type": "stream",
     "text": [
      "0.8059598340167182\n",
      "0.7879276669493467\n",
      "1214111987333.752\n",
      "577125893064.5837\n",
      "1278012618.2460546\n"
     ]
    }
   ],
   "source": [
    "#Let's see how well the model is doing in terms of the error metrics\n",
    "from sklearn.metrics import r2_score, mean_squared_error\n",
    "y_pred_train = lm.predict(X_train)\n",
    "y_pred_test = lm.predict(X_test)\n",
    "\n",
    "metric = []\n",
    "r2_train_lr = r2_score(y_train, y_pred_train)\n",
    "print(r2_train_lr)\n",
    "metric.append(r2_train_lr)\n",
    "\n",
    "r2_test_lr = r2_score(y_test, y_pred_test)\n",
    "print(r2_test_lr)\n",
    "metric.append(r2_test_lr)\n",
    "\n",
    "rss1_lr = np.sum(np.square(y_train - y_pred_train))\n",
    "print(rss1_lr)\n",
    "metric.append(rss1_lr)\n",
    "\n",
    "rss2_lr = np.sum(np.square(y_test - y_pred_test))\n",
    "print(rss2_lr)\n",
    "metric.append(rss2_lr)\n",
    "\n",
    "mse_train_lr = mean_squared_error(y_train, y_pred_train)\n",
    "print(mse_train_lr)\n",
    "metric.append(mse_train_lr ** 0.5)"
   ]
  },
  {
   "cell_type": "markdown",
   "id": "065183c6",
   "metadata": {},
   "source": [
    "Now the r2 score for the <b>training dataset is 80.5% </b>compared to <b>78.7% for the test </b>dataset. Both are good values and are close to each other. But let us see if Ridge or Lasso give us better fits."
   ]
  },
  {
   "cell_type": "code",
   "execution_count": 558,
   "id": "4e97d3d5",
   "metadata": {},
   "outputs": [
    {
     "name": "stdout",
     "output_type": "stream",
     "text": [
      "Fitting 5 folds for each of 28 candidates, totalling 140 fits\n"
     ]
    },
    {
     "data": {
      "text/plain": [
       "GridSearchCV(cv=5, estimator=Ridge(),\n",
       "             param_grid={'alpha': [0.0001, 0.001, 0.01, 0.05, 0.1, 0.2, 0.3,\n",
       "                                   0.4, 0.5, 0.6, 0.7, 0.8, 0.9, 1, 2, 3, 4, 5,\n",
       "                                   6, 7, 8, 9, 10, 20, 50, 100, 500, 1000]},\n",
       "             return_train_score=True, scoring='neg_mean_absolute_error',\n",
       "             verbose=1)"
      ]
     },
     "execution_count": 558,
     "metadata": {},
     "output_type": "execute_result"
    }
   ],
   "source": [
    "#First let's create a list of lambda values we will build the Ridge regression model against\n",
    "from sklearn.model_selection import GridSearchCV\n",
    "params = {'alpha': [0.0001, 0.001, 0.01, 0.05, 0.1, 0.2, 0.3, 0.4, 0.5, 0.6, 0.7, 0.8, 0.9, 1, 2, 3, 4, 5, 6, 7, 8, 9, 10, 20, 50, 100, 500, 1000]}\n",
    "\n",
    "ridge = Ridge()\n",
    "\n",
    "folds = 5\n",
    "model_cv = GridSearchCV(estimator = ridge, param_grid = params, scoring='neg_mean_absolute_error',cv=folds,return_train_score=True,verbose=1)\n",
    "model_cv.fit(X_train, y_train)"
   ]
  },
  {
   "cell_type": "code",
   "execution_count": 559,
   "id": "830d405d",
   "metadata": {},
   "outputs": [
    {
     "name": "stdout",
     "output_type": "stream",
     "text": [
      "{'alpha': 100}\n"
     ]
    }
   ],
   "source": [
    "#Now we will check what the best value for lambda is\n",
    "print(model_cv.best_params_) #This gives us the highest negative mean absolute error"
   ]
  },
  {
   "cell_type": "code",
   "execution_count": 560,
   "id": "b2b734dc",
   "metadata": {},
   "outputs": [
    {
     "name": "stdout",
     "output_type": "stream",
     "text": [
      "[[-5871.35912983 -2811.04436604 -4374.59025177 17918.93888691\n",
      "   4025.20309113 10318.74001719  9018.54725808 -7678.19501986\n",
      "   7520.03315146  3029.93632103  6462.83940977  6329.97005655\n",
      "   6594.97136251 -3006.21834004 -5956.18896213 11626.40765095\n",
      "  13335.47131644  1490.2123456  11865.21229445 12840.74993974\n",
      "  -2948.3873293 ]]\n"
     ]
    }
   ],
   "source": [
    "#Now that we know the best lambda is 100, we will fit it into the ridge regression model and run it again\n",
    "alpha = 100\n",
    "ridge = Ridge(alpha=alpha)\n",
    "ridge.fit(X_train, y_train)\n",
    "print(ridge.coef_)"
   ]
  },
  {
   "cell_type": "code",
   "execution_count": 561,
   "id": "71f60244",
   "metadata": {},
   "outputs": [
    {
     "name": "stdout",
     "output_type": "stream",
     "text": [
      "0.8008720041983038\n",
      "0.7816114322600246\n",
      "1245946608484.216\n",
      "594314663204.6747\n",
      "1311522745.772859\n"
     ]
    }
   ],
   "source": [
    "#Let's see how well the model is doing in terms of the error metrics\n",
    "\n",
    "y_pred_train = ridge.predict(X_train)\n",
    "y_pred_test = ridge.predict(X_test)\n",
    "\n",
    "metric = []\n",
    "r2_train_ridge = r2_score(y_train, y_pred_train)\n",
    "print(r2_train_ridge)\n",
    "metric.append(r2_train_ridge)\n",
    "\n",
    "r2_test_ridge = r2_score(y_test, y_pred_test)\n",
    "print(r2_test_ridge)\n",
    "metric.append(r2_test_ridge)\n",
    "\n",
    "rss1_ridge = np.sum(np.square(y_train - y_pred_train))\n",
    "print(rss1_ridge)\n",
    "metric.append(rss1_ridge)\n",
    "\n",
    "rss2_ridge = np.sum(np.square(y_test - y_pred_test))\n",
    "print(rss2_ridge)\n",
    "metric.append(rss2_ridge)\n",
    "\n",
    "mse_train_ridge = mean_squared_error(y_train, y_pred_train)\n",
    "print(mse_train_ridge)\n",
    "metric.append(mse_train_ridge ** 0.5)"
   ]
  },
  {
   "cell_type": "markdown",
   "id": "19eeed79",
   "metadata": {},
   "source": [
    "As we can see, the ridge regression model's r2 is <b>almost the same as that of the Linear Regression Model</b>. Although it is still a good score, we should still try and see if <b>Lasso Regression </b>gives us a better fit."
   ]
  },
  {
   "cell_type": "code",
   "execution_count": 562,
   "id": "219d5b51",
   "metadata": {},
   "outputs": [
    {
     "name": "stdout",
     "output_type": "stream",
     "text": [
      "Fitting 5 folds for each of 28 candidates, totalling 140 fits\n"
     ]
    },
    {
     "data": {
      "text/plain": [
       "GridSearchCV(cv=5, estimator=Lasso(),\n",
       "             param_grid={'alpha': [0.0001, 0.001, 0.01, 0.05, 0.1, 0.2, 0.3,\n",
       "                                   0.4, 0.5, 0.6, 0.7, 0.8, 0.9, 1, 2, 3, 4, 5,\n",
       "                                   6, 7, 8, 9, 10, 20, 50, 100, 500, 1000]},\n",
       "             return_train_score=True, scoring='neg_mean_absolute_error',\n",
       "             verbose=1)"
      ]
     },
     "execution_count": 562,
     "metadata": {},
     "output_type": "execute_result"
    }
   ],
   "source": [
    "lasso = Lasso()\n",
    "model_cv = GridSearchCV(estimator = lasso, param_grid = params, scoring='neg_mean_absolute_error',cv=folds,return_train_score=True,verbose=1)\n",
    "model_cv.fit(X_train, y_train)"
   ]
  },
  {
   "cell_type": "code",
   "execution_count": 563,
   "id": "fc6fd7eb",
   "metadata": {},
   "outputs": [
    {
     "name": "stdout",
     "output_type": "stream",
     "text": [
      "{'alpha': 100}\n"
     ]
    }
   ],
   "source": [
    "#let's find the best lambda\n",
    "print(model_cv.best_params_)"
   ]
  },
  {
   "cell_type": "code",
   "execution_count": 565,
   "id": "8e20a32b",
   "metadata": {},
   "outputs": [
    {
     "data": {
      "text/plain": [
       "Lasso(alpha=100)"
      ]
     },
     "execution_count": 565,
     "metadata": {},
     "output_type": "execute_result"
    }
   ],
   "source": [
    "alpha = 100\n",
    "lasso = Lasso(alpha=alpha)\n",
    "lasso.fit(X_train, y_train)"
   ]
  },
  {
   "cell_type": "code",
   "execution_count": 566,
   "id": "f6647dbe",
   "metadata": {},
   "outputs": [
    {
     "data": {
      "text/plain": [
       "array([ -5740.20023793,  -5003.27771044,  -5595.03374411,  16525.19578779,\n",
       "         5298.41310157,  11746.26756934,  10908.37638299, -13435.57566265,\n",
       "         7117.01182823,   2374.72591365,   9047.7875369 ,   8438.78712073,\n",
       "         9712.45570847,  -3382.31565993, -20075.86438008,  11698.32279731,\n",
       "        14069.7337198 ,   2280.48212875,  13606.46867742,  15277.50559448,\n",
       "        -5697.42854207])"
      ]
     },
     "execution_count": 566,
     "metadata": {},
     "output_type": "execute_result"
    }
   ],
   "source": [
    "lasso.coef_"
   ]
  },
  {
   "cell_type": "code",
   "execution_count": 567,
   "id": "ee48582b",
   "metadata": {},
   "outputs": [
    {
     "name": "stdout",
     "output_type": "stream",
     "text": [
      "0.8058173461441842\n",
      "0.7870175049807886\n",
      "1.0698507026325114e+16\n",
      "1992659200552397.2\n",
      "1278951090.4336174\n"
     ]
    }
   ],
   "source": [
    "y_pred_train = lasso.predict(X_train)\n",
    "y_pred_test = lasso.predict(X_test)\n",
    "\n",
    "metric = []\n",
    "r2_train_lasso = r2_score(y_train, y_pred_train)\n",
    "print(r2_train_lasso)\n",
    "metric.append(r2_train_lasso)\n",
    "\n",
    "r2_test_lasso = r2_score(y_test, y_pred_test)\n",
    "print(r2_test_lasso)\n",
    "metric.append(r2_test_lasso)\n",
    "\n",
    "rss1_lasso = np.sum(np.square(y_train - y_pred_train))\n",
    "print(rss1_lasso)\n",
    "metric.append(rss1_lasso)\n",
    "\n",
    "rss2_lasso = np.sum(np.square(y_test - y_pred_test))\n",
    "print(rss2_lasso)\n",
    "metric.append(rss2_lasso)\n",
    "\n",
    "mse_train_lasso = mean_squared_error(y_train, y_pred_train)\n",
    "print(mse_train_lasso)\n",
    "metric.append(mse_train_lasso ** 0.5)"
   ]
  },
  {
   "cell_type": "markdown",
   "id": "4ff28b94",
   "metadata": {},
   "source": [
    "<font size = '7'>\n",
    "    <br>\n",
    "    <br>\n",
    "<font color = 'blue'>\n",
    "    Conclusion: <font size ='5'>\n",
    "    <br>\n",
    "    <br>\n",
    "    \n",
    "As we can see, the Lasso regression model did not fare any better than the Linear or Ridge regression models. It is safe to assume, therefore, that the set of <b>21 predictors</b> we chose to build the LR model on, <b>were all impactful to the final predictive power of our model.</b>"
   ]
  },
  {
   "cell_type": "markdown",
   "id": "e4eaca74",
   "metadata": {},
   "source": [
    "<font color = 'blue'>\n",
    "<font size ='5'>\n",
    "        The significant predictors as per our model are:\n",
    "<font size = '3'>\n",
    "<br>    \n",
    " LotShape<br>\n",
    " LandSlope<br>\n",
    " HouseStyle  <br>\n",
    " OverallQual   <br>\n",
    " OverallCond   <br>\n",
    " ExterQual   <br>\n",
    " BsmtQual      <br>\n",
    " BsmtCond      <br>\n",
    " BsmtExposure  <br>\n",
    " BsmtFinType1  <br>\n",
    " BsmtFullBath  <br>\n",
    " FullBath     <br>\n",
    " HalfBath     <br>\n",
    " BedroomAbvGr  <br>\n",
    " KitchenAbvGr  <br>\n",
    " KitchenQual  <br>\n",
    " TotRmsAbvGrd  <br>\n",
    " Functional   <br>\n",
    " Fireplaces    <br>\n",
    " GarageCars    <br>\n",
    " GarageCond   \n",
    " <br>\n",
    " <br>\n",
    " Together, these predictors explain about 80% of the variation in the SalePrice of the house in the training dataset, and about 78% of the variation in SalePrice in the test dataset. \n",
    "    \n",
    "<br>\n",
    "<br>\n",
    "    Therefore, in real world scenario's we can expect the model to be around <b>78% accurate</b> in predicting the Price of houses when we consider the 21 predictors chosen."
   ]
  },
  {
   "cell_type": "markdown",
   "id": "a4004efd",
   "metadata": {},
   "source": [
    "<font size = '4'>\n",
    "<font color = 'blue'>\n",
    "<br>    \n",
    "The optimal values for lambda were found to be:\n",
    "<br>\n",
    "<br>\n",
    "<b>\n",
    "Ridge: 100\n",
    "<br>\n",
    "Lasso: 100\n",
    "    \n",
    "<br>\n",
    "<br>\n",
    "<br>\n",
    "<font color = 'green'>    \n",
    "Note: We can (and probably should, in real world scenarios) manually and recursively check the VIF and p-value scores and keep removing variables one by one, till we get all p-values as 0 (but I haven't taken that approach in this assignment and used the RFE feature instead, as I was short of time). This will probably give us a more robust, stable and trustworthy model that can be used with more confidence no matter what data we present to the model."
   ]
  },
  {
   "cell_type": "markdown",
   "id": "90ee81af",
   "metadata": {},
   "source": [
    "<br>\n",
    "<br>\n",
    "<br>\n",
    "\n",
    "<b> Below I am only testing out the ridge and lasso regression models with double the lambda values, as required in the subjective part of this assignment. </b>"
   ]
  },
  {
   "cell_type": "code",
   "execution_count": 569,
   "id": "d44688b7",
   "metadata": {},
   "outputs": [
    {
     "data": {
      "text/plain": [
       "Lasso(alpha=200)"
      ]
     },
     "execution_count": 569,
     "metadata": {},
     "output_type": "execute_result"
    }
   ],
   "source": [
    "alpha = 200\n",
    "lasso = Lasso(alpha=alpha)\n",
    "lasso.fit(X_train, y_train)"
   ]
  },
  {
   "cell_type": "code",
   "execution_count": 570,
   "id": "e0647a66",
   "metadata": {},
   "outputs": [
    {
     "data": {
      "text/plain": [
       "array([ -5760.0024937 ,  -3568.74411006,  -5325.88911846,  16855.69748686,\n",
       "         5069.87014237,  11496.60546041,  10645.33440088, -12592.82105897,\n",
       "         7255.28922512,   2462.49751992,   8611.02749151,   7562.6784448 ,\n",
       "         8974.69916102,  -3067.39824195, -17018.10729328,  11908.86168676,\n",
       "        13830.55477904,   1790.7973135 ,  13564.51745455,  15056.22814374,\n",
       "        -5215.19683615])"
      ]
     },
     "execution_count": 570,
     "metadata": {},
     "output_type": "execute_result"
    }
   ],
   "source": [
    "lasso.coef_"
   ]
  },
  {
   "cell_type": "code",
   "execution_count": 571,
   "id": "73396adb",
   "metadata": {},
   "outputs": [
    {
     "name": "stdout",
     "output_type": "stream",
     "text": [
      "0.8053894614818429\n",
      "0.7858545814123501\n",
      "1.0663786851559288e+16\n",
      "1987597524712439.2\n",
      "1281769280.1360188\n"
     ]
    }
   ],
   "source": [
    "y_pred_train = lasso.predict(X_train)\n",
    "y_pred_test = lasso.predict(X_test)\n",
    "\n",
    "metric = []\n",
    "r2_train_lasso = r2_score(y_train, y_pred_train)\n",
    "print(r2_train_lasso)\n",
    "metric.append(r2_train_lasso)\n",
    "\n",
    "r2_test_lasso = r2_score(y_test, y_pred_test)\n",
    "print(r2_test_lasso)\n",
    "metric.append(r2_test_lasso)\n",
    "\n",
    "rss1_lasso = np.sum(np.square(y_train - y_pred_train))\n",
    "print(rss1_lasso)\n",
    "metric.append(rss1_lasso)\n",
    "\n",
    "rss2_lasso = np.sum(np.square(y_test - y_pred_test))\n",
    "print(rss2_lasso)\n",
    "metric.append(rss2_lasso)\n",
    "\n",
    "mse_train_lasso = mean_squared_error(y_train, y_pred_train)\n",
    "print(mse_train_lasso)\n",
    "metric.append(mse_train_lasso ** 0.5)"
   ]
  },
  {
   "cell_type": "code",
   "execution_count": 572,
   "id": "5a70b2b1",
   "metadata": {},
   "outputs": [
    {
     "name": "stdout",
     "output_type": "stream",
     "text": [
      "[[-5379.75234011 -1918.79352568 -3601.09719984 18241.79005296\n",
      "   3183.48550209  9385.85089416  8205.121405   -5139.76441523\n",
      "   7598.22691902  3434.73788245  5104.2152227   5687.47154117\n",
      "   4887.57135863 -2493.27387314 -3540.91655582 10928.74821557\n",
      "  12991.23901229  1197.06723561 10423.27021199 11465.09861994\n",
      "  -1489.67623078]]\n"
     ]
    }
   ],
   "source": [
    "alpha = 200\n",
    "ridge = Ridge(alpha=alpha)\n",
    "ridge.fit(X_train, y_train)\n",
    "print(ridge.coef_)"
   ]
  },
  {
   "cell_type": "code",
   "execution_count": 573,
   "id": "ae7a2b27",
   "metadata": {},
   "outputs": [
    {
     "name": "stdout",
     "output_type": "stream",
     "text": [
      "0.7953982653747841\n",
      "0.7773987219883935\n",
      "1280195867587.3137\n",
      "605778978906.6042\n",
      "1347574597.4603302\n"
     ]
    }
   ],
   "source": [
    "#Let's see how well the model is doing in terms of the error metrics\n",
    "\n",
    "y_pred_train = ridge.predict(X_train)\n",
    "y_pred_test = ridge.predict(X_test)\n",
    "\n",
    "metric = []\n",
    "r2_train_ridge = r2_score(y_train, y_pred_train)\n",
    "print(r2_train_ridge)\n",
    "metric.append(r2_train_ridge)\n",
    "\n",
    "r2_test_ridge = r2_score(y_test, y_pred_test)\n",
    "print(r2_test_ridge)\n",
    "metric.append(r2_test_ridge)\n",
    "\n",
    "rss1_ridge = np.sum(np.square(y_train - y_pred_train))\n",
    "print(rss1_ridge)\n",
    "metric.append(rss1_ridge)\n",
    "\n",
    "rss2_ridge = np.sum(np.square(y_test - y_pred_test))\n",
    "print(rss2_ridge)\n",
    "metric.append(rss2_ridge)\n",
    "\n",
    "mse_train_ridge = mean_squared_error(y_train, y_pred_train)\n",
    "print(mse_train_ridge)\n",
    "metric.append(mse_train_ridge ** 0.5)"
   ]
  },
  {
   "cell_type": "markdown",
   "id": "4719260b",
   "metadata": {},
   "source": [
    "Please ignore the above 2 tests for ridge and lasso using lambda 200, as this was only to test out a change in lambda for the subjective part of this assignment."
   ]
  },
  {
   "cell_type": "code",
   "execution_count": null,
   "id": "19b1bcb6",
   "metadata": {},
   "outputs": [],
   "source": []
  }
 ],
 "metadata": {
  "kernelspec": {
   "display_name": "Python 3 (ipykernel)",
   "language": "python",
   "name": "python3"
  },
  "language_info": {
   "codemirror_mode": {
    "name": "ipython",
    "version": 3
   },
   "file_extension": ".py",
   "mimetype": "text/x-python",
   "name": "python",
   "nbconvert_exporter": "python",
   "pygments_lexer": "ipython3",
   "version": "3.9.12"
  }
 },
 "nbformat": 4,
 "nbformat_minor": 5
}
